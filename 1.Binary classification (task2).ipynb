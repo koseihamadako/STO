{
 "cells": [
  {
   "cell_type": "markdown",
   "metadata": {},
   "source": [
    "## Binary regression model"
   ]
  },
  {
   "cell_type": "code",
   "execution_count": 1,
   "metadata": {},
   "outputs": [
    {
     "name": "stderr",
     "output_type": "stream",
     "text": [
      "C:\\Users\\chladek\\AppData\\Local\\Continuum\\anaconda3-64\\envs\\tf\\lib\\site-packages\\sklearn\\ensemble\\weight_boosting.py:29: DeprecationWarning: numpy.core.umath_tests is an internal NumPy module and should not be imported. It will be removed in a future NumPy release.\n",
      "  from numpy.core.umath_tests import inner1d\n"
     ]
    },
    {
     "data": {
      "text/plain": [
       "DataTransformerRegistry.enable('default')"
      ]
     },
     "execution_count": 1,
     "metadata": {},
     "output_type": "execute_result"
    }
   ],
   "source": [
    "from sklearn.ensemble import RandomForestClassifier\n",
    "from sklearn.tree import DecisionTreeClassifier\n",
    "from sklearn.linear_model import LogisticRegression\n",
    "from sklearn.model_selection import train_test_split,StratifiedShuffleSplit\n",
    "from sklearn.metrics import recall_score, roc_auc_score, accuracy_score, precision_score, roc_curve, auc\n",
    "from sklearn.preprocessing import PolynomialFeatures\n",
    "from sklearn.model_selection import GridSearchCV, RandomizedSearchCV\n",
    "\n",
    "import xgboost\n",
    "import lightgbm\n",
    "from imblearn.over_sampling import SMOTE\n",
    "\n",
    "import pandas as pd\n",
    "import numpy as np\n",
    "rnd = 12\n",
    "\n",
    "import altair as alt\n",
    "alt.renderers.enable('notebook')\n",
    "alt.data_transformers.enable('default', max_rows=None)"
   ]
  },
  {
   "cell_type": "code",
   "execution_count": 2,
   "metadata": {},
   "outputs": [],
   "source": [
    "# load directly preprocessed dataframe\n",
    "df = pd.read_excel('data/df_task2.xlsx')"
   ]
  },
  {
   "cell_type": "code",
   "execution_count": 4,
   "metadata": {},
   "outputs": [],
   "source": [
    "# choose only vars we will use in modeling\n",
    "model_vars = ['customer_id','hour','weekday',\n",
    "              'prch_freq','prch_last','prch_mean_diff',\n",
    "              'cart_freq','cart_last','cart_mean_diff',\n",
    "              'view_freq','view_last','view_mean_diff',\n",
    "              'sess_freq','sess_last','sess_mean_diff',\n",
    "              'email_freq','email_last','email_mean_diff']\n",
    "model_df = df[model_vars]\n",
    "Y = df.prch_response"
   ]
  },
  {
   "cell_type": "code",
   "execution_count": 5,
   "metadata": {},
   "outputs": [],
   "source": [
    "df = model_df\n",
    "#for col in ['weekday']:\n",
    "#    dummies = pd.get_dummies(df[col], prefix=col)\n",
    "#    to_del = pd.get_dummies(df[col], prefix=col).columns[0]\n",
    "#    dummies.drop(labels=to_del, axis=1, inplace=True)\n",
    "#    df = pd.concat([df,dummies],axis=1)\n",
    "#    df.drop([col],axis=1, inplace=True)\n",
    "\n",
    "X = df"
   ]
  },
  {
   "cell_type": "markdown",
   "metadata": {},
   "source": [
    "# Preprocessing"
   ]
  },
  {
   "cell_type": "code",
   "execution_count": 6,
   "metadata": {},
   "outputs": [
    {
     "name": "stdout",
     "output_type": "stream",
     "text": [
      "(56272, 18) (56272,)\n",
      "(6253, 18) (6253,)\n"
     ]
    }
   ],
   "source": [
    "# create train/test\n",
    "# validation is always done within cross validation pruning so I bravely/dymbly didn't use explicit validation set\n",
    "X_train, X_test, y_train, y_test = train_test_split(X, Y, test_size=0.1, random_state=rnd, stratify=Y)\n",
    "y_train = np.ravel(y_train)\n",
    "y_test = np.ravel(y_test)\n",
    "y_test_transformed = np.hstack((1 - y_test.reshape(y_test.size,1),\n",
    "                                y_test.reshape(y_test.size,1)))\n",
    "\n",
    "print(X_train.shape, y_train.shape)\n",
    "print(X_test.shape, y_test.shape)"
   ]
  },
  {
   "cell_type": "markdown",
   "metadata": {},
   "source": [
    "# <i>0.1 Population descriptive model</i>"
   ]
  },
  {
   "cell_type": "code",
   "execution_count": 7,
   "metadata": {},
   "outputs": [
    {
     "name": "stderr",
     "output_type": "stream",
     "text": [
      "C:\\Users\\chladek\\AppData\\Local\\Continuum\\anaconda3-64\\envs\\tf\\lib\\site-packages\\ipykernel\\__main__.py:3: SettingWithCopyWarning: \n",
      "A value is trying to be set on a copy of a slice from a DataFrame.\n",
      "Try using .loc[row_indexer,col_indexer] = value instead\n",
      "\n",
      "See the caveats in the documentation: http://pandas.pydata.org/pandas-docs/stable/indexing.html#indexing-view-versus-copy\n",
      "  app.launch_new_instance()\n"
     ]
    }
   ],
   "source": [
    "# building simple intuitive model based on weekday and hours only\n",
    "simple = X_train[['hour','weekday']]\n",
    "simple['response'] = y_train"
   ]
  },
  {
   "cell_type": "code",
   "execution_count": 8,
   "metadata": {},
   "outputs": [
    {
     "name": "stderr",
     "output_type": "stream",
     "text": [
      "C:\\Users\\chladek\\AppData\\Local\\Continuum\\anaconda3-64\\envs\\tf\\lib\\site-packages\\ipykernel\\__main__.py:8: SettingWithCopyWarning: \n",
      "A value is trying to be set on a copy of a slice from a DataFrame.\n",
      "Try using .loc[row_indexer,col_indexer] = value instead\n",
      "\n",
      "See the caveats in the documentation: http://pandas.pydata.org/pandas-docs/stable/indexing.html#indexing-view-versus-copy\n"
     ]
    }
   ],
   "source": [
    "# take just 50+ delivered timewindows so email are not sent on sunday midnight or so\n",
    "sub = simple.groupby(['weekday', 'hour']).size().reset_index()\n",
    "sub.columns\n",
    "sub = sub[sub[0]>50]\n",
    "\n",
    "# create unique identifiers\n",
    "sub['id'] = sub.weekday.astype(str) + 'id' + sub.hour.astype(str)\n",
    "simple['id'] = simple.weekday.astype(str) + 'id' + simple.hour.astype(str)\n",
    "sbset = simple[simple.id.isin(sub.id.tolist())]"
   ]
  },
  {
   "cell_type": "code",
   "execution_count": 9,
   "metadata": {},
   "outputs": [
    {
     "name": "stderr",
     "output_type": "stream",
     "text": [
      "C:\\Users\\chladek\\AppData\\Local\\Continuum\\anaconda3-64\\envs\\tf\\lib\\site-packages\\ipykernel\\__main__.py:5: SettingWithCopyWarning: \n",
      "A value is trying to be set on a copy of a slice from a DataFrame.\n",
      "Try using .loc[row_indexer,col_indexer] = value instead\n",
      "\n",
      "See the caveats in the documentation: http://pandas.pydata.org/pandas-docs/stable/indexing.html#indexing-view-versus-copy\n"
     ]
    },
    {
     "data": {
      "text/html": [
       "<div>\n",
       "<style scoped>\n",
       "    .dataframe tbody tr th:only-of-type {\n",
       "        vertical-align: middle;\n",
       "    }\n",
       "\n",
       "    .dataframe tbody tr th {\n",
       "        vertical-align: top;\n",
       "    }\n",
       "\n",
       "    .dataframe thead th {\n",
       "        text-align: right;\n",
       "    }\n",
       "</style>\n",
       "<table border=\"1\" class=\"dataframe\">\n",
       "  <thead>\n",
       "    <tr style=\"text-align: right;\">\n",
       "      <th></th>\n",
       "      <th>weekday</th>\n",
       "      <th>hour</th>\n",
       "      <th>response</th>\n",
       "      <th>id</th>\n",
       "    </tr>\n",
       "  </thead>\n",
       "  <tbody>\n",
       "    <tr>\n",
       "      <th>3</th>\n",
       "      <td>1</td>\n",
       "      <td>9</td>\n",
       "      <td>0.021148</td>\n",
       "      <td>1id9</td>\n",
       "    </tr>\n",
       "    <tr>\n",
       "      <th>32</th>\n",
       "      <td>7</td>\n",
       "      <td>10</td>\n",
       "      <td>0.014388</td>\n",
       "      <td>7id10</td>\n",
       "    </tr>\n",
       "    <tr>\n",
       "      <th>19</th>\n",
       "      <td>4</td>\n",
       "      <td>10</td>\n",
       "      <td>0.013514</td>\n",
       "      <td>4id10</td>\n",
       "    </tr>\n",
       "    <tr>\n",
       "      <th>24</th>\n",
       "      <td>5</td>\n",
       "      <td>9</td>\n",
       "      <td>0.013043</td>\n",
       "      <td>5id9</td>\n",
       "    </tr>\n",
       "    <tr>\n",
       "      <th>13</th>\n",
       "      <td>3</td>\n",
       "      <td>8</td>\n",
       "      <td>0.010870</td>\n",
       "      <td>3id8</td>\n",
       "    </tr>\n",
       "    <tr>\n",
       "      <th>6</th>\n",
       "      <td>2</td>\n",
       "      <td>6</td>\n",
       "      <td>0.007580</td>\n",
       "      <td>2id6</td>\n",
       "    </tr>\n",
       "  </tbody>\n",
       "</table>\n",
       "</div>"
      ],
      "text/plain": [
       "    weekday  hour  response     id\n",
       "3         1     9  0.021148   1id9\n",
       "32        7    10  0.014388  7id10\n",
       "19        4    10  0.013514  4id10\n",
       "24        5     9  0.013043   5id9\n",
       "13        3     8  0.010870   3id8\n",
       "6         2     6  0.007580   2id6"
      ]
     },
     "execution_count": 9,
     "metadata": {},
     "output_type": "execute_result"
    }
   ],
   "source": [
    "sbset = sbset.groupby(['weekday','hour']).mean().reset_index()\n",
    "sbset.sort_values(by='response',ascending=False,inplace=True)\n",
    "sbset.drop_duplicates('weekday',inplace=True)\n",
    "sbset['id'] = sbset.weekday.astype(str) + 'id' + sbset.hour.astype(str)\n",
    "X_test['id'] = X_test.weekday.astype(str) + 'id' + X_test.hour.astype(str)\n",
    "sbset"
   ]
  },
  {
   "cell_type": "code",
   "execution_count": 10,
   "metadata": {},
   "outputs": [],
   "source": [
    "# predict 1 if in most freqquent time window of the day otherwise 0\n",
    "\n",
    "pred = []\n",
    "for i,row in X_test.iterrows():\n",
    "    #print(row.id)\n",
    "    if row.id in(sbset.id.tolist()):\n",
    "        pred.append(1)\n",
    "    else:\n",
    "        pred.append(0)    "
   ]
  },
  {
   "cell_type": "code",
   "execution_count": 11,
   "metadata": {},
   "outputs": [
    {
     "name": "stdout",
     "output_type": "stream",
     "text": [
      "Test Results\n",
      "Accuracy:  0.9085239085239085\n",
      "Recall:  0.0\n",
      "Precision:  0.0\n"
     ]
    }
   ],
   "source": [
    "print('Test Results')\n",
    "print(\"Accuracy: \",accuracy_score(pred, y_test))\n",
    "print(\"Recall: \",recall_score(y_test, pred))\n",
    "print(\"Precision: \",precision_score(y_test, pred))"
   ]
  },
  {
   "cell_type": "code",
   "execution_count": 12,
   "metadata": {},
   "outputs": [
    {
     "data": {
      "application/javascript": [
       "var spec = {\"config\": {\"view\": {\"width\": 400, \"height\": 300}}, \"layer\": [{\"data\": {\"name\": \"data-93752ff034c00e3fb5f36df786635395\"}, \"mark\": \"bar\", \"encoding\": {\"x\": {\"type\": \"quantitative\", \"axis\": {\"title\": \"\"}, \"field\": \"b\", \"scale\": {\"domain\": [0, 1]}}, \"y\": {\"type\": \"nominal\", \"axis\": {\"title\": \"Metric\"}, \"field\": \"a\"}}, \"title\": \"Semi-personalized Model: Test set evaluation\"}, {\"data\": {\"name\": \"data-93752ff034c00e3fb5f36df786635395\"}, \"mark\": {\"type\": \"text\", \"align\": \"left\", \"baseline\": \"middle\", \"dx\": 3}, \"encoding\": {\"text\": {\"type\": \"quantitative\", \"field\": \"b\"}, \"x\": {\"type\": \"quantitative\", \"axis\": {\"title\": \"\"}, \"field\": \"b\", \"scale\": {\"domain\": [0, 1]}}, \"y\": {\"type\": \"nominal\", \"axis\": {\"title\": \"Metric\"}, \"field\": \"a\"}}, \"title\": \"Semi-personalized Model: Test set evaluation\"}], \"$schema\": \"https://vega.github.io/schema/vega-lite/v2.6.0.json\", \"datasets\": {\"data-93752ff034c00e3fb5f36df786635395\": [{\"a\": \"Accuracy\", \"b\": 0.91}, {\"a\": \"Recall\", \"b\": 0.0}, {\"a\": \"Precision\", \"b\": 0.0}]}};\n",
       "var opt = {};\n",
       "var type = \"vega-lite\";\n",
       "var id = \"0d8dc409-c565-47e2-9d5d-3a5afd57a1d2\";\n",
       "\n",
       "var output_area = this;\n",
       "\n",
       "require([\"nbextensions/jupyter-vega/index\"], function(vega) {\n",
       "  var target = document.createElement(\"div\");\n",
       "  target.id = id;\n",
       "  target.className = \"vega-embed\";\n",
       "\n",
       "  var style = document.createElement(\"style\");\n",
       "  style.textContent = [\n",
       "    \".vega-embed .error p {\",\n",
       "    \"  color: firebrick;\",\n",
       "    \"  font-size: 14px;\",\n",
       "    \"}\",\n",
       "  ].join(\"\\\\n\");\n",
       "\n",
       "  // element is a jQuery wrapped DOM element inside the output area\n",
       "  // see http://ipython.readthedocs.io/en/stable/api/generated/\\\n",
       "  // IPython.display.html#IPython.display.Javascript.__init__\n",
       "  element[0].appendChild(target);\n",
       "  element[0].appendChild(style);\n",
       "\n",
       "  vega.render(\"#\" + id, spec, type, opt, output_area);\n",
       "}, function (err) {\n",
       "  if (err.requireType !== \"scripterror\") {\n",
       "    throw(err);\n",
       "  }\n",
       "});\n"
      ],
      "text/plain": [
       "<vega.vegalite.VegaLite at 0x14500f60>"
      ]
     },
     "metadata": {
      "jupyter-vega": "#0d8dc409-c565-47e2-9d5d-3a5afd57a1d2"
     },
     "output_type": "display_data"
    },
    {
     "data": {
      "text/plain": []
     },
     "execution_count": 12,
     "metadata": {},
     "output_type": "execute_result"
    },
    {
     "data": {
      "image/png": "[encoded data removed]"
     },
     "metadata": {
      "jupyter-vega": "#0d8dc409-c565-47e2-9d5d-3a5afd57a1d2"
     },
     "output_type": "display_data"
    }
   ],
   "source": [
    "data = pd.DataFrame({\n",
    "    'a': ['Accuracy','Recall','Precision'],\n",
    "    'b': [round(accuracy_score(pred, y_test),2), round(recall_score(y_test, pred),2), round(precision_score(y_test, pred),2)]\n",
    "})\n",
    "\n",
    "bars = alt.Chart(data).mark_bar().encode(\n",
    "    alt.X('b',scale=alt.Scale(domain=(0, 1)),axis=alt.Axis(title='')),\n",
    "    alt.Y('a',axis=alt.Axis(title='Metric')),\n",
    ").properties(title='Semi-personalized Model: Test set evaluation')\n",
    "\n",
    "text = bars.mark_text(\n",
    "    align='left',\n",
    "    baseline='middle',\n",
    "    dx=3\n",
    ").encode(\n",
    "    text='b'\n",
    ")\n",
    "\n",
    "bars + text"
   ]
  },
  {
   "cell_type": "markdown",
   "metadata": {},
   "source": [
    "# <i>0.2 Semi-personalized descriptive model</i>"
   ]
  },
  {
   "cell_type": "code",
   "execution_count": 13,
   "metadata": {},
   "outputs": [
    {
     "name": "stderr",
     "output_type": "stream",
     "text": [
      "C:\\Users\\chladek\\AppData\\Local\\Continuum\\anaconda3-64\\envs\\tf\\lib\\site-packages\\ipykernel\\__main__.py:2: SettingWithCopyWarning: \n",
      "A value is trying to be set on a copy of a slice from a DataFrame.\n",
      "Try using .loc[row_indexer,col_indexer] = value instead\n",
      "\n",
      "See the caveats in the documentation: http://pandas.pydata.org/pandas-docs/stable/indexing.html#indexing-view-versus-copy\n",
      "  from ipykernel import kernelapp as app\n",
      "C:\\Users\\chladek\\AppData\\Local\\Continuum\\anaconda3-64\\envs\\tf\\lib\\site-packages\\ipykernel\\__main__.py:7: SettingWithCopyWarning: \n",
      "A value is trying to be set on a copy of a slice from a DataFrame.\n",
      "Try using .loc[row_indexer,col_indexer] = value instead\n",
      "\n",
      "See the caveats in the documentation: http://pandas.pydata.org/pandas-docs/stable/indexing.html#indexing-view-versus-copy\n"
     ]
    }
   ],
   "source": [
    "md = X_train[['customer_id','hour','weekday']]\n",
    "md['response'] = y_train\n",
    "\n",
    "# determining only useful customers based on sample\n",
    "# so this basically says unless we saw you prefer any time window on sample bigger than 3 we will use\n",
    "# population freqs instead\n",
    "md['freq'] = md[md.response==1].groupby('customer_id')['customer_id'].transform('count')\n",
    "md = md[md.freq > 3]\n",
    "md.drop('freq',1,inplace=True)"
   ]
  },
  {
   "cell_type": "code",
   "execution_count": 14,
   "metadata": {},
   "outputs": [],
   "source": [
    "# modes for weekday and hour\n",
    "mp = md[['customer_id','hour','weekday']].groupby(['customer_id','weekday']).apply(pd.DataFrame.mode).reset_index(drop=True)"
   ]
  },
  {
   "cell_type": "code",
   "execution_count": 15,
   "metadata": {},
   "outputs": [
    {
     "name": "stderr",
     "output_type": "stream",
     "text": [
      "C:\\Users\\chladek\\AppData\\Local\\Continuum\\anaconda3-64\\envs\\tf\\lib\\site-packages\\ipykernel\\__main__.py:5: SettingWithCopyWarning: \n",
      "A value is trying to be set on a copy of a slice from a DataFrame.\n",
      "Try using .loc[row_indexer,col_indexer] = value instead\n",
      "\n",
      "See the caveats in the documentation: http://pandas.pydata.org/pandas-docs/stable/indexing.html#indexing-view-versus-copy\n",
      "C:\\Users\\chladek\\AppData\\Local\\Continuum\\anaconda3-64\\envs\\tf\\lib\\site-packages\\ipykernel\\__main__.py:6: SettingWithCopyWarning: \n",
      "A value is trying to be set on a copy of a slice from a DataFrame.\n",
      "Try using .loc[row_indexer,col_indexer] = value instead\n",
      "\n",
      "See the caveats in the documentation: http://pandas.pydata.org/pandas-docs/stable/indexing.html#indexing-view-versus-copy\n"
     ]
    }
   ],
   "source": [
    "mp.dropna(inplace=True)\n",
    "mp.weekday = mp.weekday.astype(int)\n",
    "mp['id'] = mp.weekday.astype(str) + 'id' + mp.hour.astype(str)\n",
    "mp['id2'] = mp.customer_id.astype(str) + ' - ' + mp.weekday.astype(str) + ' - ' + mp.hour.astype(str)\n",
    "X_test['id2'] = X_test.customer_id.astype(str) + ' - ' + X_test.weekday.astype(str) + ' - ' + X_test.hour.astype(str)\n",
    "X_test['id'] = X_test.weekday.astype(str) + 'id' + X_test.hour.astype(str)"
   ]
  },
  {
   "cell_type": "code",
   "execution_count": 16,
   "metadata": {},
   "outputs": [],
   "source": [
    "# predictions\n",
    "\n",
    "pred = []\n",
    "for i,row in X_test.iterrows():\n",
    "    # check if it is customer's mode hour for the weekday\n",
    "    if row.id2 in(mp.id2.tolist()):\n",
    "        pred.append(1)\n",
    "    # check if it is mode for weekday in the population\n",
    "    elif row.id in(sbset.id.tolist()):\n",
    "        pred.append(1)\n",
    "    else:    \n",
    "        pred.append(0)    "
   ]
  },
  {
   "cell_type": "code",
   "execution_count": 17,
   "metadata": {},
   "outputs": [
    {
     "name": "stdout",
     "output_type": "stream",
     "text": [
      "Test Results\n",
      "Accuracy:  0.907724292339677\n",
      "Recall:  0.02564102564102564\n",
      "Precision:  0.001851851851851852\n"
     ]
    }
   ],
   "source": [
    "print('Test Results')\n",
    "print(\"Accuracy: \",accuracy_score(pred, y_test))\n",
    "print(\"Recall: \",recall_score(y_test, pred))\n",
    "print(\"Precision: \",precision_score(y_test, pred))"
   ]
  },
  {
   "cell_type": "code",
   "execution_count": 18,
   "metadata": {},
   "outputs": [
    {
     "data": {
      "application/javascript": [
       "var spec = {\"config\": {\"view\": {\"width\": 400, \"height\": 300}}, \"layer\": [{\"data\": {\"name\": \"data-ac90b680d51ebc4b2b8689250ed7fc75\"}, \"mark\": \"bar\", \"encoding\": {\"x\": {\"type\": \"quantitative\", \"axis\": {\"title\": \"\"}, \"field\": \"b\", \"scale\": {\"domain\": [0, 1]}}, \"y\": {\"type\": \"nominal\", \"axis\": {\"title\": \"Metric\"}, \"field\": \"a\"}}, \"title\": \"Semi-Personalized Model: Test set evaluation\"}, {\"data\": {\"name\": \"data-ac90b680d51ebc4b2b8689250ed7fc75\"}, \"mark\": {\"type\": \"text\", \"align\": \"left\", \"baseline\": \"middle\", \"dx\": 3}, \"encoding\": {\"text\": {\"type\": \"quantitative\", \"field\": \"b\"}, \"x\": {\"type\": \"quantitative\", \"axis\": {\"title\": \"\"}, \"field\": \"b\", \"scale\": {\"domain\": [0, 1]}}, \"y\": {\"type\": \"nominal\", \"axis\": {\"title\": \"Metric\"}, \"field\": \"a\"}}, \"title\": \"Semi-Personalized Model: Test set evaluation\"}], \"$schema\": \"https://vega.github.io/schema/vega-lite/v2.6.0.json\", \"datasets\": {\"data-ac90b680d51ebc4b2b8689250ed7fc75\": [{\"a\": \"Accuracy\", \"b\": 0.91}, {\"a\": \"Recall\", \"b\": 0.03}, {\"a\": \"Precision\", \"b\": 0.0}]}};\n",
       "var opt = {};\n",
       "var type = \"vega-lite\";\n",
       "var id = \"03a87f0b-807c-48b6-af34-c962039cb4d3\";\n",
       "\n",
       "var output_area = this;\n",
       "\n",
       "require([\"nbextensions/jupyter-vega/index\"], function(vega) {\n",
       "  var target = document.createElement(\"div\");\n",
       "  target.id = id;\n",
       "  target.className = \"vega-embed\";\n",
       "\n",
       "  var style = document.createElement(\"style\");\n",
       "  style.textContent = [\n",
       "    \".vega-embed .error p {\",\n",
       "    \"  color: firebrick;\",\n",
       "    \"  font-size: 14px;\",\n",
       "    \"}\",\n",
       "  ].join(\"\\\\n\");\n",
       "\n",
       "  // element is a jQuery wrapped DOM element inside the output area\n",
       "  // see http://ipython.readthedocs.io/en/stable/api/generated/\\\n",
       "  // IPython.display.html#IPython.display.Javascript.__init__\n",
       "  element[0].appendChild(target);\n",
       "  element[0].appendChild(style);\n",
       "\n",
       "  vega.render(\"#\" + id, spec, type, opt, output_area);\n",
       "}, function (err) {\n",
       "  if (err.requireType !== \"scripterror\") {\n",
       "    throw(err);\n",
       "  }\n",
       "});\n"
      ],
      "text/plain": [
       "<vega.vegalite.VegaLite at 0x195b5550>"
      ]
     },
     "metadata": {
      "jupyter-vega": "#03a87f0b-807c-48b6-af34-c962039cb4d3"
     },
     "output_type": "display_data"
    },
    {
     "data": {
      "text/plain": []
     },
     "execution_count": 18,
     "metadata": {},
     "output_type": "execute_result"
    },
    {
     "data": {
      "image/png": "[encoded data removed]"
     },
     "metadata": {
      "jupyter-vega": "#03a87f0b-807c-48b6-af34-c962039cb4d3"
     },
     "output_type": "display_data"
    }
   ],
   "source": [
    "data = pd.DataFrame({\n",
    "    'a': ['Accuracy','Recall','Precision'],\n",
    "    'b': [round(accuracy_score(pred, y_test),2), round(recall_score(y_test, pred),2), round(precision_score(y_test, pred),2)]\n",
    "})\n",
    "\n",
    "bars = alt.Chart(data).mark_bar().encode(\n",
    "    alt.X('b',scale=alt.Scale(domain=(0, 1)),axis=alt.Axis(title='')),\n",
    "    alt.Y('a',axis=alt.Axis(title='Metric')),\n",
    ").properties(title='Semi-Personalized Model: Test set evaluation')\n",
    "\n",
    "text = bars.mark_text(\n",
    "    align='left',\n",
    "    baseline='middle',\n",
    "    dx=3\n",
    ").encode(\n",
    "    text='b'\n",
    ")\n",
    "\n",
    "bars + text"
   ]
  },
  {
   "cell_type": "markdown",
   "metadata": {},
   "source": [
    "# SMOTE"
   ]
  },
  {
   "cell_type": "code",
   "execution_count": 19,
   "metadata": {},
   "outputs": [
    {
     "name": "stderr",
     "output_type": "stream",
     "text": [
      "C:\\Users\\chladek\\AppData\\Local\\Continuum\\anaconda3-64\\envs\\tf\\lib\\site-packages\\pandas\\core\\frame.py:3697: SettingWithCopyWarning: \n",
      "A value is trying to be set on a copy of a slice from a DataFrame\n",
      "\n",
      "See the caveats in the documentation: http://pandas.pydata.org/pandas-docs/stable/indexing.html#indexing-view-versus-copy\n",
      "  errors=errors)\n",
      "C:\\Users\\chladek\\AppData\\Local\\Continuum\\anaconda3-64\\envs\\tf\\lib\\site-packages\\sklearn\\utils\\deprecation.py:77: DeprecationWarning: Function _ratio_float is deprecated; Use a float for 'ratio' is deprecated from version 0.2. The support will be removed in 0.4. Use a dict, str, or a callable instead.\n",
      "  warnings.warn(msg, category=DeprecationWarning)\n"
     ]
    }
   ],
   "source": [
    "# SMOTE\n",
    "# ref https://jair.org/index.php/jair/article/view/10302  since imblearn page throws e404\n",
    "# but basically performs under and oversamping at the same time\n",
    "\n",
    "X_test.drop(['id','id2','customer_id'],1,inplace=True)\n",
    "X_train.drop(['customer_id'],1,inplace=True)\n",
    "sm = SMOTE(random_state=rnd, ratio = 1.0)\n",
    "X_train_sm,Y_train_sm = sm.fit_sample(X_train, y_train)\n",
    "X_train_sm = pd.DataFrame(X_train_sm)\n",
    "X_train_sm.columns = X_train.columns\n",
    "X_train_sm.weekday = X_train_sm.weekday.astype(int)\n",
    "#X_train_sm.hour = X_train_sm.hour.astype(int)"
   ]
  },
  {
   "cell_type": "code",
   "execution_count": 20,
   "metadata": {},
   "outputs": [
    {
     "data": {
      "text/plain": [
       "(111836, 17)"
      ]
     },
     "execution_count": 20,
     "metadata": {},
     "output_type": "execute_result"
    }
   ],
   "source": [
    "X_train_sm.shape"
   ]
  },
  {
   "cell_type": "code",
   "execution_count": 21,
   "metadata": {},
   "outputs": [],
   "source": [
    "y_test = np.ravel(y_test)\n",
    "y_test_transformed = np.hstack((1 - y_test.reshape(y_test.size,1),\n",
    "                                y_test.reshape(y_test.size,1)))"
   ]
  },
  {
   "cell_type": "markdown",
   "metadata": {},
   "source": [
    "# <i>1.1 Decision Tree</i>"
   ]
  },
  {
   "cell_type": "code",
   "execution_count": 22,
   "metadata": {},
   "outputs": [],
   "source": [
    "X_train_naive = X_train_sm[['weekday','hour']]"
   ]
  },
  {
   "cell_type": "code",
   "execution_count": 23,
   "metadata": {},
   "outputs": [
    {
     "data": {
      "text/plain": [
       "DecisionTreeClassifier(class_weight=None, criterion='gini', max_depth=3,\n",
       "            max_features=None, max_leaf_nodes=None,\n",
       "            min_impurity_decrease=0.0, min_impurity_split=None,\n",
       "            min_samples_leaf=1, min_samples_split=2,\n",
       "            min_weight_fraction_leaf=0.0, presort=False, random_state=12,\n",
       "            splitter='best')"
      ]
     },
     "execution_count": 23,
     "metadata": {},
     "output_type": "execute_result"
    }
   ],
   "source": [
    "# quick DT model based on whole dataset\n",
    "clf_rf_naive = DecisionTreeClassifier(random_state=rnd,max_depth=3)\n",
    "clf_rf_naive.fit(X_train_naive, Y_train_sm)"
   ]
  },
  {
   "cell_type": "code",
   "execution_count": 24,
   "metadata": {},
   "outputs": [
    {
     "name": "stdout",
     "output_type": "stream",
     "text": [
      "Validation Results\n",
      "Accuracy:  0.3994882456420918\n",
      "Recall:  0.6410256410256411\n",
      "Precision:  0.006638343069569836\n",
      "ROC AUC:  0.502023965734941\n"
     ]
    }
   ],
   "source": [
    "print('Validation Results')\n",
    "print(\"Accuracy: \",clf_rf_naive.score(X_test[['weekday','hour']], y_test))\n",
    "print(\"Recall: \",recall_score(y_test, clf_rf_naive.predict(X_test[['weekday','hour']])))\n",
    "print(\"Precision: \",precision_score(y_test, clf_rf_naive.predict(X_test[['weekday','hour']])))\n",
    "print(\"ROC AUC: \",roc_auc_score(y_test_transformed, clf_rf_naive.predict_proba(X_test[['weekday','hour']]),\n",
    "                                average='weighted'))"
   ]
  },
  {
   "cell_type": "code",
   "execution_count": 25,
   "metadata": {},
   "outputs": [
    {
     "data": {
      "application/javascript": [
       "var spec = {\"config\": {\"view\": {\"width\": 400, \"height\": 300}}, \"layer\": [{\"data\": {\"name\": \"data-d37efac469cb07ed350dc6425c0f5cde\"}, \"mark\": \"bar\", \"encoding\": {\"x\": {\"type\": \"quantitative\", \"axis\": {\"title\": \"\"}, \"field\": \"b\", \"scale\": {\"domain\": [0, 1]}}, \"y\": {\"type\": \"nominal\", \"axis\": {\"title\": \"Metric\"}, \"field\": \"a\"}}, \"title\": \"Decision Tree Model: Test set evaluation\"}, {\"data\": {\"name\": \"data-d37efac469cb07ed350dc6425c0f5cde\"}, \"mark\": {\"type\": \"text\", \"align\": \"left\", \"baseline\": \"middle\", \"dx\": 3}, \"encoding\": {\"text\": {\"type\": \"quantitative\", \"field\": \"b\"}, \"x\": {\"type\": \"quantitative\", \"axis\": {\"title\": \"\"}, \"field\": \"b\", \"scale\": {\"domain\": [0, 1]}}, \"y\": {\"type\": \"nominal\", \"axis\": {\"title\": \"Metric\"}, \"field\": \"a\"}}, \"title\": \"Decision Tree Model: Test set evaluation\"}], \"$schema\": \"https://vega.github.io/schema/vega-lite/v2.6.0.json\", \"datasets\": {\"data-d37efac469cb07ed350dc6425c0f5cde\": [{\"a\": \"Accuracy\", \"b\": 0.4}, {\"a\": \"Recall\", \"b\": 0.64}, {\"a\": \"Precision\", \"b\": 0.01}, {\"a\": \"ROC AUC\", \"b\": 0.5}]}};\n",
       "var opt = {};\n",
       "var type = \"vega-lite\";\n",
       "var id = \"799dfaad-6772-4ef3-af8e-494fa02d24e0\";\n",
       "\n",
       "var output_area = this;\n",
       "\n",
       "require([\"nbextensions/jupyter-vega/index\"], function(vega) {\n",
       "  var target = document.createElement(\"div\");\n",
       "  target.id = id;\n",
       "  target.className = \"vega-embed\";\n",
       "\n",
       "  var style = document.createElement(\"style\");\n",
       "  style.textContent = [\n",
       "    \".vega-embed .error p {\",\n",
       "    \"  color: firebrick;\",\n",
       "    \"  font-size: 14px;\",\n",
       "    \"}\",\n",
       "  ].join(\"\\\\n\");\n",
       "\n",
       "  // element is a jQuery wrapped DOM element inside the output area\n",
       "  // see http://ipython.readthedocs.io/en/stable/api/generated/\\\n",
       "  // IPython.display.html#IPython.display.Javascript.__init__\n",
       "  element[0].appendChild(target);\n",
       "  element[0].appendChild(style);\n",
       "\n",
       "  vega.render(\"#\" + id, spec, type, opt, output_area);\n",
       "}, function (err) {\n",
       "  if (err.requireType !== \"scripterror\") {\n",
       "    throw(err);\n",
       "  }\n",
       "});\n"
      ],
      "text/plain": [
       "<vega.vegalite.VegaLite at 0x196f0278>"
      ]
     },
     "metadata": {
      "jupyter-vega": "#799dfaad-6772-4ef3-af8e-494fa02d24e0"
     },
     "output_type": "display_data"
    },
    {
     "data": {
      "text/plain": []
     },
     "execution_count": 25,
     "metadata": {},
     "output_type": "execute_result"
    },
    {
     "data": {
      "image/png": "[encoded data removed]"
     },
     "metadata": {
      "jupyter-vega": "#799dfaad-6772-4ef3-af8e-494fa02d24e0"
     },
     "output_type": "display_data"
    }
   ],
   "source": [
    "data = pd.DataFrame({\n",
    "    'a': ['Accuracy','Recall','Precision','ROC AUC'],\n",
    "    'b': [round(clf_rf_naive.score(X_test[['weekday','hour']], y_test),2),\n",
    "          round(recall_score(y_test, clf_rf_naive.predict(X_test[['weekday','hour']])),2), \n",
    "          round(precision_score(y_test, clf_rf_naive.predict(X_test[['weekday','hour']])),2),\n",
    "          round(roc_auc_score(y_test_transformed, clf_rf_naive.predict_proba(X_test[['weekday','hour']]),\n",
    "                                average='weighted'),2)]\n",
    "})\n",
    "\n",
    "bars = alt.Chart(data).mark_bar().encode(\n",
    "    alt.X('b',scale=alt.Scale(domain=(0, 1)),axis=alt.Axis(title='')),\n",
    "    alt.Y('a',axis=alt.Axis(title='Metric')),\n",
    ").properties(title='Decision Tree Model: Test set evaluation')\n",
    "\n",
    "text = bars.mark_text(\n",
    "    align='left',\n",
    "    baseline='middle',\n",
    "    dx=3\n",
    ").encode(\n",
    "    text='b'\n",
    ")\n",
    "\n",
    "bars + text"
   ]
  },
  {
   "cell_type": "code",
   "execution_count": 30,
   "metadata": {},
   "outputs": [
    {
     "data": {
      "image/png": "[encoded data removed]",
      "text/plain": [
       "<IPython.core.display.Image object>"
      ]
     },
     "execution_count": 30,
     "metadata": {},
     "output_type": "execute_result"
    }
   ],
   "source": [
    "import pydotplus\n",
    "from sklearn import tree\n",
    "from IPython.display import Image \n",
    "# Create DOT data\n",
    "dot_data = tree.export_graphviz(clf_rf_naive, out_file=None,\n",
    "                               feature_names=['weekday','hour'],class_names=['Not','Open'],\n",
    "                                rounded=True,\n",
    "                               )\n",
    "\n",
    "# Draw graph\n",
    "graph = pydotplus.graph_from_dot_data(dot_data)  \n",
    "\n",
    "# Show graph\n",
    "Image(graph.create_png())"
   ]
  },
  {
   "cell_type": "markdown",
   "metadata": {},
   "source": [
    "# <i>1.2. Tuned Decision Tree (unused)</i>"
   ]
  },
  {
   "cell_type": "code",
   "execution_count": 35,
   "metadata": {},
   "outputs": [
    {
     "name": "stdout",
     "output_type": "stream",
     "text": [
      "0.9544572698206254\n",
      "{'max_depth': 24}\n"
     ]
    }
   ],
   "source": [
    "clf_dt = DecisionTreeClassifier()\n",
    "\n",
    "CV_SSS = StratifiedShuffleSplit(n_splits=5, test_size=0.33, random_state=rnd)\n",
    "\n",
    "dt_param_grid = {\n",
    "                  'max_depth': np.arange(1, 25, 1),\n",
    "                 }\n",
    "\n",
    "random_grid_dt_CV = GridSearchCV(clf_dt,\n",
    "                                        dt_param_grid,\n",
    "                                        scoring = 'recall',\n",
    "                                        cv = CV_SSS)#,\n",
    "                                        #n_iter = 5)\n",
    "random_grid_dt_CV.fit(X_train_sm, Y_train_sm)\n",
    "print(random_grid_dt_CV.best_score_)\n",
    "print(random_grid_dt_CV.best_params_)"
   ]
  },
  {
   "cell_type": "code",
   "execution_count": 36,
   "metadata": {},
   "outputs": [
    {
     "data": {
      "text/plain": [
       "DecisionTreeClassifier(class_weight=None, criterion='gini', max_depth=24,\n",
       "            max_features=None, max_leaf_nodes=None,\n",
       "            min_impurity_decrease=0.0, min_impurity_split=None,\n",
       "            min_samples_leaf=1, min_samples_split=2,\n",
       "            min_weight_fraction_leaf=0.0, presort=False, random_state=12,\n",
       "            splitter='best')"
      ]
     },
     "execution_count": 36,
     "metadata": {},
     "output_type": "execute_result"
    }
   ],
   "source": [
    "# quick RF model based on whole dataset\n",
    "clf_dt = DecisionTreeClassifier(random_state=rnd,max_depth=24)\n",
    "clf_dt.fit(X_train_naive, Y_train_sm)"
   ]
  },
  {
   "cell_type": "code",
   "execution_count": 37,
   "metadata": {},
   "outputs": [
    {
     "name": "stdout",
     "output_type": "stream",
     "text": [
      "Validation Results\n",
      "Accuracy:  0.9760115144730529\n",
      "Recall:  0.02564102564102564\n",
      "Precision:  0.008849557522123894\n",
      "ROC AUC:  0.5133693149463989\n"
     ]
    }
   ],
   "source": [
    "print('Validation Results')\n",
    "print(\"Accuracy: \",clf_dt.score(X_test[['weekday','hour']], y_test))\n",
    "print(\"Recall: \",recall_score(y_test, clf_dt.predict(X_test[['weekday','hour']])))\n",
    "print(\"Precision: \",precision_score(y_test, clf_dt.predict(X_test[['weekday','hour']])))\n",
    "print(\"ROC AUC: \",roc_auc_score(y_test_transformed, clf_dt.predict_proba(X_test[['weekday','hour']]),\n",
    "                                average='weighted'))"
   ]
  },
  {
   "cell_type": "code",
   "execution_count": 38,
   "metadata": {},
   "outputs": [
    {
     "data": {
      "application/javascript": [
       "var spec = {\"config\": {\"view\": {\"width\": 400, \"height\": 300}}, \"layer\": [{\"data\": {\"name\": \"data-a25691a4bbda426b2c30bd21e99ea5ea\"}, \"mark\": \"bar\", \"encoding\": {\"x\": {\"type\": \"quantitative\", \"axis\": {\"title\": \"\"}, \"field\": \"b\", \"scale\": {\"domain\": [0, 1]}}, \"y\": {\"type\": \"nominal\", \"axis\": {\"title\": \"Metric\"}, \"field\": \"a\"}}, \"title\": \"Decision Tree Model: Test set evaluation\"}, {\"data\": {\"name\": \"data-a25691a4bbda426b2c30bd21e99ea5ea\"}, \"mark\": {\"type\": \"text\", \"align\": \"left\", \"baseline\": \"middle\", \"dx\": 3}, \"encoding\": {\"text\": {\"type\": \"quantitative\", \"field\": \"b\"}, \"x\": {\"type\": \"quantitative\", \"axis\": {\"title\": \"\"}, \"field\": \"b\", \"scale\": {\"domain\": [0, 1]}}, \"y\": {\"type\": \"nominal\", \"axis\": {\"title\": \"Metric\"}, \"field\": \"a\"}}, \"title\": \"Decision Tree Model: Test set evaluation\"}], \"$schema\": \"https://vega.github.io/schema/vega-lite/v2.6.0.json\", \"datasets\": {\"data-a25691a4bbda426b2c30bd21e99ea5ea\": [{\"a\": \"Accuracy\", \"b\": 0.98}, {\"a\": \"Recall\", \"b\": 0.03}, {\"a\": \"Precision\", \"b\": 0.01}, {\"a\": \"ROC AUC\", \"b\": 0.51}]}};\n",
       "var opt = {};\n",
       "var type = \"vega-lite\";\n",
       "var id = \"854501e9-4bea-4384-90c5-c5a898989ab5\";\n",
       "\n",
       "var output_area = this;\n",
       "\n",
       "require([\"nbextensions/jupyter-vega/index\"], function(vega) {\n",
       "  var target = document.createElement(\"div\");\n",
       "  target.id = id;\n",
       "  target.className = \"vega-embed\";\n",
       "\n",
       "  var style = document.createElement(\"style\");\n",
       "  style.textContent = [\n",
       "    \".vega-embed .error p {\",\n",
       "    \"  color: firebrick;\",\n",
       "    \"  font-size: 14px;\",\n",
       "    \"}\",\n",
       "  ].join(\"\\\\n\");\n",
       "\n",
       "  // element is a jQuery wrapped DOM element inside the output area\n",
       "  // see http://ipython.readthedocs.io/en/stable/api/generated/\\\n",
       "  // IPython.display.html#IPython.display.Javascript.__init__\n",
       "  element[0].appendChild(target);\n",
       "  element[0].appendChild(style);\n",
       "\n",
       "  vega.render(\"#\" + id, spec, type, opt, output_area);\n",
       "}, function (err) {\n",
       "  if (err.requireType !== \"scripterror\") {\n",
       "    throw(err);\n",
       "  }\n",
       "});\n"
      ],
      "text/plain": [
       "<vega.vegalite.VegaLite at 0x17451c88>"
      ]
     },
     "metadata": {
      "jupyter-vega": "#854501e9-4bea-4384-90c5-c5a898989ab5"
     },
     "output_type": "display_data"
    },
    {
     "data": {
      "text/plain": []
     },
     "execution_count": 38,
     "metadata": {},
     "output_type": "execute_result"
    },
    {
     "data": {
      "image/png": "[encoded data removed]"
     },
     "metadata": {
      "jupyter-vega": "#854501e9-4bea-4384-90c5-c5a898989ab5"
     },
     "output_type": "display_data"
    },
    {
     "data": {
      "image/png": "[encoded data removed]"
     },
     "metadata": {
      "jupyter-vega": "#854501e9-4bea-4384-90c5-c5a898989ab5"
     },
     "output_type": "display_data"
    }
   ],
   "source": [
    "data = pd.DataFrame({\n",
    "    'a': ['Accuracy','Recall','Precision','ROC AUC'],\n",
    "    'b': [round(clf_dt.score(X_test[['weekday','hour']], y_test),2),\n",
    "          round(recall_score(y_test, clf_dt.predict(X_test[['weekday','hour']])),2), \n",
    "          round(precision_score(y_test, clf_dt.predict(X_test[['weekday','hour']])),2),\n",
    "          round(roc_auc_score(y_test_transformed, clf_dt.predict_proba(X_test[['weekday','hour']]),\n",
    "                                average='weighted'),2)]\n",
    "})\n",
    "\n",
    "bars = alt.Chart(data).mark_bar().encode(\n",
    "    alt.X('b',scale=alt.Scale(domain=(0, 1)),axis=alt.Axis(title='')),\n",
    "    alt.Y('a',axis=alt.Axis(title='Metric')),\n",
    ").properties(title='Decision Tree Model: Test set evaluation')\n",
    "\n",
    "text = bars.mark_text(\n",
    "    align='left',\n",
    "    baseline='middle',\n",
    "    dx=3\n",
    ").encode(\n",
    "    text='b'\n",
    ")\n",
    "\n",
    "bars + text"
   ]
  },
  {
   "cell_type": "markdown",
   "metadata": {},
   "source": [
    "**This is by the way really interesting result even though it was not incorporated to final Report. This is clearly overfitted tree, with tendency to overshoot negative predicitions (hence Recall), was able to obtain 52% AUC ROC and obviously big Accuracy. This ROC can serve as good baseline for other models.**"
   ]
  },
  {
   "cell_type": "markdown",
   "metadata": {},
   "source": [
    "# <i>1.2.0 Random Forest (starter part not included in Report)</i>"
   ]
  },
  {
   "cell_type": "code",
   "execution_count": 39,
   "metadata": {},
   "outputs": [
    {
     "name": "stderr",
     "output_type": "stream",
     "text": [
      "[Parallel(n_jobs=1)]: Done 300 out of 300 | elapsed:  1.8min finished\n"
     ]
    },
    {
     "data": {
      "text/plain": [
       "RandomForestClassifier(bootstrap=True, class_weight=None, criterion='gini',\n",
       "            max_depth=None, max_features='auto', max_leaf_nodes=None,\n",
       "            min_impurity_decrease=0.0, min_impurity_split=None,\n",
       "            min_samples_leaf=1, min_samples_split=2,\n",
       "            min_weight_fraction_leaf=0.0, n_estimators=300, n_jobs=1,\n",
       "            oob_score=False, random_state=12, verbose=1, warm_start=False)"
      ]
     },
     "execution_count": 39,
     "metadata": {},
     "output_type": "execute_result"
    }
   ],
   "source": [
    "# quick RF model baseline\n",
    "clf_rf = RandomForestClassifier(n_estimators=300, random_state=rnd,verbose=1)\n",
    "clf_rf.fit(X_train_sm, Y_train_sm)"
   ]
  },
  {
   "cell_type": "code",
   "execution_count": 40,
   "metadata": {},
   "outputs": [
    {
     "name": "stdout",
     "output_type": "stream",
     "text": [
      "Test Results\n"
     ]
    },
    {
     "name": "stderr",
     "output_type": "stream",
     "text": [
      "[Parallel(n_jobs=1)]: Done 300 out of 300 | elapsed:    0.5s finished\n"
     ]
    },
    {
     "name": "stdout",
     "output_type": "stream",
     "text": [
      "Accuracy:  0.9748920518151287\n"
     ]
    },
    {
     "name": "stderr",
     "output_type": "stream",
     "text": [
      "[Parallel(n_jobs=1)]: Done 300 out of 300 | elapsed:    0.4s finished\n"
     ]
    },
    {
     "name": "stdout",
     "output_type": "stream",
     "text": [
      "Recall:  0.02564102564102564\n"
     ]
    },
    {
     "name": "stderr",
     "output_type": "stream",
     "text": [
      "[Parallel(n_jobs=1)]: Done 300 out of 300 | elapsed:    0.4s finished\n"
     ]
    },
    {
     "name": "stdout",
     "output_type": "stream",
     "text": [
      "Precision:  0.008333333333333333\n",
      "ROC AUC:  0.6675847754862883\n"
     ]
    },
    {
     "name": "stderr",
     "output_type": "stream",
     "text": [
      "[Parallel(n_jobs=1)]: Done 300 out of 300 | elapsed:    0.4s finished\n"
     ]
    }
   ],
   "source": [
    "print('Test Results')\n",
    "print(\"Accuracy: \",clf_rf.score(X_test, y_test))\n",
    "print(\"Recall: \",recall_score(y_test, clf_rf.predict(X_test)))\n",
    "print(\"Precision: \",precision_score(y_test, clf_rf.predict(X_test)))\n",
    "print(\"ROC AUC: \",roc_auc_score(y_test_transformed, clf_rf.predict_proba(X_test), average='weighted'))"
   ]
  },
  {
   "cell_type": "code",
   "execution_count": 41,
   "metadata": {},
   "outputs": [
    {
     "data": {
      "text/html": [
       "<div>\n",
       "<style scoped>\n",
       "    .dataframe tbody tr th:only-of-type {\n",
       "        vertical-align: middle;\n",
       "    }\n",
       "\n",
       "    .dataframe tbody tr th {\n",
       "        vertical-align: top;\n",
       "    }\n",
       "\n",
       "    .dataframe thead th {\n",
       "        text-align: right;\n",
       "    }\n",
       "</style>\n",
       "<table border=\"1\" class=\"dataframe\">\n",
       "  <thead>\n",
       "    <tr style=\"text-align: right;\">\n",
       "      <th></th>\n",
       "      <th>vars</th>\n",
       "      <th>imp</th>\n",
       "    </tr>\n",
       "  </thead>\n",
       "  <tbody>\n",
       "    <tr>\n",
       "      <th>0</th>\n",
       "      <td>hour</td>\n",
       "      <td>0.209730</td>\n",
       "    </tr>\n",
       "    <tr>\n",
       "      <th>14</th>\n",
       "      <td>email_freq</td>\n",
       "      <td>0.097212</td>\n",
       "    </tr>\n",
       "    <tr>\n",
       "      <th>1</th>\n",
       "      <td>weekday</td>\n",
       "      <td>0.093968</td>\n",
       "    </tr>\n",
       "    <tr>\n",
       "      <th>11</th>\n",
       "      <td>sess_freq</td>\n",
       "      <td>0.064589</td>\n",
       "    </tr>\n",
       "    <tr>\n",
       "      <th>15</th>\n",
       "      <td>email_last</td>\n",
       "      <td>0.064115</td>\n",
       "    </tr>\n",
       "    <tr>\n",
       "      <th>8</th>\n",
       "      <td>view_freq</td>\n",
       "      <td>0.062174</td>\n",
       "    </tr>\n",
       "    <tr>\n",
       "      <th>10</th>\n",
       "      <td>view_mean_diff</td>\n",
       "      <td>0.052683</td>\n",
       "    </tr>\n",
       "    <tr>\n",
       "      <th>16</th>\n",
       "      <td>email_mean_diff</td>\n",
       "      <td>0.052563</td>\n",
       "    </tr>\n",
       "    <tr>\n",
       "      <th>9</th>\n",
       "      <td>view_last</td>\n",
       "      <td>0.049533</td>\n",
       "    </tr>\n",
       "    <tr>\n",
       "      <th>2</th>\n",
       "      <td>prch_freq</td>\n",
       "      <td>0.047570</td>\n",
       "    </tr>\n",
       "    <tr>\n",
       "      <th>12</th>\n",
       "      <td>sess_last</td>\n",
       "      <td>0.046545</td>\n",
       "    </tr>\n",
       "    <tr>\n",
       "      <th>13</th>\n",
       "      <td>sess_mean_diff</td>\n",
       "      <td>0.039848</td>\n",
       "    </tr>\n",
       "    <tr>\n",
       "      <th>5</th>\n",
       "      <td>cart_freq</td>\n",
       "      <td>0.030225</td>\n",
       "    </tr>\n",
       "    <tr>\n",
       "      <th>7</th>\n",
       "      <td>cart_mean_diff</td>\n",
       "      <td>0.029363</td>\n",
       "    </tr>\n",
       "    <tr>\n",
       "      <th>6</th>\n",
       "      <td>cart_last</td>\n",
       "      <td>0.026356</td>\n",
       "    </tr>\n",
       "    <tr>\n",
       "      <th>3</th>\n",
       "      <td>prch_last</td>\n",
       "      <td>0.021781</td>\n",
       "    </tr>\n",
       "    <tr>\n",
       "      <th>4</th>\n",
       "      <td>prch_mean_diff</td>\n",
       "      <td>0.011745</td>\n",
       "    </tr>\n",
       "  </tbody>\n",
       "</table>\n",
       "</div>"
      ],
      "text/plain": [
       "               vars       imp\n",
       "0              hour  0.209730\n",
       "14       email_freq  0.097212\n",
       "1           weekday  0.093968\n",
       "11        sess_freq  0.064589\n",
       "15       email_last  0.064115\n",
       "8         view_freq  0.062174\n",
       "10   view_mean_diff  0.052683\n",
       "16  email_mean_diff  0.052563\n",
       "9         view_last  0.049533\n",
       "2         prch_freq  0.047570\n",
       "12        sess_last  0.046545\n",
       "13   sess_mean_diff  0.039848\n",
       "5         cart_freq  0.030225\n",
       "7    cart_mean_diff  0.029363\n",
       "6         cart_last  0.026356\n",
       "3         prch_last  0.021781\n",
       "4    prch_mean_diff  0.011745"
      ]
     },
     "execution_count": 41,
     "metadata": {},
     "output_type": "execute_result"
    }
   ],
   "source": [
    "var_imp_clf_rf = pd.DataFrame({'vars': X_train_sm.columns,'imp':clf_rf.feature_importances_})\n",
    "var_imp_clf_rf.sort_values(by='imp',ascending=False)"
   ]
  },
  {
   "cell_type": "code",
   "execution_count": null,
   "metadata": {},
   "outputs": [],
   "source": [
    "data = pd.DataFrame({\n",
    "    'a': ['Accuracy','Recall','Precision','ROC AUC'],\n",
    "    'b': [round(clf_rf_naive.score(X_test, y_test),2),\n",
    "          round(recall_score(y_test, clf_rf.predict(X_test)),2), \n",
    "          round(precision_score(y_test, clf_rf.predict(X_test)),2),\n",
    "          round(roc_auc_score(y_test_transformed, clf_rf.predict_proba(X_test),\n",
    "                                average='weighted'),2)]\n",
    "})\n",
    "\n",
    "bars = alt.Chart(data).mark_bar().encode(\n",
    "    alt.X('b',scale=alt.Scale(domain=(0, 1)),axis=alt.Axis(title='')),\n",
    "    alt.Y('a',axis=alt.Axis(title='Metric')),\n",
    ").properties(title='Decision Tree Model: Test set evaluation')\n",
    "\n",
    "text = bars.mark_text(\n",
    "    align='left',\n",
    "    baseline='middle',\n",
    "    dx=3\n",
    ").encode(\n",
    "    text='b'\n",
    ")\n",
    "\n",
    "bars + text"
   ]
  },
  {
   "cell_type": "markdown",
   "metadata": {},
   "source": [
    "# <i>1.2 Random Forest</i>"
   ]
  },
  {
   "cell_type": "code",
   "execution_count": 32,
   "metadata": {},
   "outputs": [
    {
     "name": "stdout",
     "output_type": "stream",
     "text": [
      "0.9617298000325151\n",
      "{'n_estimators': 340, 'max_depth': 35}\n"
     ]
    }
   ],
   "source": [
    "from sklearn.model_selection import GridSearchCV, RandomizedSearchCV\n",
    "\n",
    "clf_rf = RandomForestClassifier()\n",
    "\n",
    "CV_SSS = StratifiedShuffleSplit(n_splits=5, test_size=0.33, random_state=rnd)\n",
    "\n",
    "rf_param_grid = {\n",
    "                  'n_estimators': np.arange(20, 400, 20),\n",
    "                  'max_depth': np.arange(5,100,5),\n",
    "                 }\n",
    "\n",
    "random_grid_rf_CV = RandomizedSearchCV(clf_rf,\n",
    "                                        rf_param_grid,\n",
    "                                        scoring = 'recall',\n",
    "                                        cv = CV_SSS,\n",
    "                                        n_iter = 5)\n",
    "random_grid_rf_CV.fit(X_train_sm, Y_train_sm)\n",
    "print(random_grid_rf_CV.best_score_)\n",
    "print(random_grid_rf_CV.best_params_)"
   ]
  },
  {
   "cell_type": "code",
   "execution_count": 33,
   "metadata": {},
   "outputs": [
    {
     "name": "stderr",
     "output_type": "stream",
     "text": [
      "[Parallel(n_jobs=1)]: Done 340 out of 340 | elapsed:  2.7min finished\n"
     ]
    },
    {
     "data": {
      "text/plain": [
       "RandomForestClassifier(bootstrap=True, class_weight=None, criterion='gini',\n",
       "            max_depth=35, max_features='auto', max_leaf_nodes=None,\n",
       "            min_impurity_decrease=0.0, min_impurity_split=None,\n",
       "            min_samples_leaf=1, min_samples_split=2,\n",
       "            min_weight_fraction_leaf=0.0, n_estimators=340, n_jobs=1,\n",
       "            oob_score=False, random_state=12, verbose=1, warm_start=False)"
      ]
     },
     "execution_count": 33,
     "metadata": {},
     "output_type": "execute_result"
    }
   ],
   "source": [
    "# quick RF model baseline\n",
    "clf_rf = RandomForestClassifier(n_estimators=340, max_depth=35, random_state=rnd,verbose=1)\n",
    "clf_rf.fit(X_train_sm, Y_train_sm)"
   ]
  },
  {
   "cell_type": "code",
   "execution_count": 34,
   "metadata": {},
   "outputs": [
    {
     "name": "stdout",
     "output_type": "stream",
     "text": [
      "Test Results\n"
     ]
    },
    {
     "name": "stderr",
     "output_type": "stream",
     "text": [
      "[Parallel(n_jobs=1)]: Done 340 out of 340 | elapsed:    0.6s finished\n"
     ]
    },
    {
     "name": "stdout",
     "output_type": "stream",
     "text": [
      "Accuracy:  0.9748920518151287\n"
     ]
    },
    {
     "name": "stderr",
     "output_type": "stream",
     "text": [
      "[Parallel(n_jobs=1)]: Done 340 out of 340 | elapsed:    0.4s finished\n"
     ]
    },
    {
     "name": "stdout",
     "output_type": "stream",
     "text": [
      "Recall:  0.02564102564102564\n"
     ]
    },
    {
     "name": "stderr",
     "output_type": "stream",
     "text": [
      "[Parallel(n_jobs=1)]: Done 340 out of 340 | elapsed:    0.5s finished\n"
     ]
    },
    {
     "name": "stdout",
     "output_type": "stream",
     "text": [
      "Precision:  0.008333333333333333\n",
      "ROC AUC:  0.6646633325905936\n"
     ]
    },
    {
     "name": "stderr",
     "output_type": "stream",
     "text": [
      "[Parallel(n_jobs=1)]: Done 340 out of 340 | elapsed:    0.4s finished\n"
     ]
    }
   ],
   "source": [
    "print('Test Results')\n",
    "print(\"Accuracy: \",clf_rf.score(X_test, y_test))\n",
    "print(\"Recall: \",recall_score(y_test, clf_rf.predict(X_test)))\n",
    "print(\"Precision: \",precision_score(y_test, clf_rf.predict(X_test)))\n",
    "print(\"ROC AUC: \",roc_auc_score(y_test_transformed, clf_rf.predict_proba(X_test), average='weighted'))"
   ]
  },
  {
   "cell_type": "code",
   "execution_count": 45,
   "metadata": {},
   "outputs": [
    {
     "data": {
      "text/html": [
       "<div>\n",
       "<style scoped>\n",
       "    .dataframe tbody tr th:only-of-type {\n",
       "        vertical-align: middle;\n",
       "    }\n",
       "\n",
       "    .dataframe tbody tr th {\n",
       "        vertical-align: top;\n",
       "    }\n",
       "\n",
       "    .dataframe thead th {\n",
       "        text-align: right;\n",
       "    }\n",
       "</style>\n",
       "<table border=\"1\" class=\"dataframe\">\n",
       "  <thead>\n",
       "    <tr style=\"text-align: right;\">\n",
       "      <th></th>\n",
       "      <th>vars</th>\n",
       "      <th>imp</th>\n",
       "    </tr>\n",
       "  </thead>\n",
       "  <tbody>\n",
       "    <tr>\n",
       "      <th>0</th>\n",
       "      <td>hour</td>\n",
       "      <td>0.209390</td>\n",
       "    </tr>\n",
       "    <tr>\n",
       "      <th>14</th>\n",
       "      <td>email_freq</td>\n",
       "      <td>0.097268</td>\n",
       "    </tr>\n",
       "    <tr>\n",
       "      <th>1</th>\n",
       "      <td>weekday</td>\n",
       "      <td>0.093614</td>\n",
       "    </tr>\n",
       "    <tr>\n",
       "      <th>11</th>\n",
       "      <td>sess_freq</td>\n",
       "      <td>0.064527</td>\n",
       "    </tr>\n",
       "    <tr>\n",
       "      <th>15</th>\n",
       "      <td>email_last</td>\n",
       "      <td>0.064375</td>\n",
       "    </tr>\n",
       "    <tr>\n",
       "      <th>8</th>\n",
       "      <td>view_freq</td>\n",
       "      <td>0.062262</td>\n",
       "    </tr>\n",
       "    <tr>\n",
       "      <th>10</th>\n",
       "      <td>view_mean_diff</td>\n",
       "      <td>0.052932</td>\n",
       "    </tr>\n",
       "    <tr>\n",
       "      <th>16</th>\n",
       "      <td>email_mean_diff</td>\n",
       "      <td>0.052629</td>\n",
       "    </tr>\n",
       "    <tr>\n",
       "      <th>9</th>\n",
       "      <td>view_last</td>\n",
       "      <td>0.049614</td>\n",
       "    </tr>\n",
       "    <tr>\n",
       "      <th>2</th>\n",
       "      <td>prch_freq</td>\n",
       "      <td>0.047239</td>\n",
       "    </tr>\n",
       "    <tr>\n",
       "      <th>12</th>\n",
       "      <td>sess_last</td>\n",
       "      <td>0.046717</td>\n",
       "    </tr>\n",
       "    <tr>\n",
       "      <th>13</th>\n",
       "      <td>sess_mean_diff</td>\n",
       "      <td>0.039833</td>\n",
       "    </tr>\n",
       "    <tr>\n",
       "      <th>5</th>\n",
       "      <td>cart_freq</td>\n",
       "      <td>0.030338</td>\n",
       "    </tr>\n",
       "    <tr>\n",
       "      <th>7</th>\n",
       "      <td>cart_mean_diff</td>\n",
       "      <td>0.029524</td>\n",
       "    </tr>\n",
       "    <tr>\n",
       "      <th>6</th>\n",
       "      <td>cart_last</td>\n",
       "      <td>0.026345</td>\n",
       "    </tr>\n",
       "    <tr>\n",
       "      <th>3</th>\n",
       "      <td>prch_last</td>\n",
       "      <td>0.021946</td>\n",
       "    </tr>\n",
       "    <tr>\n",
       "      <th>4</th>\n",
       "      <td>prch_mean_diff</td>\n",
       "      <td>0.011447</td>\n",
       "    </tr>\n",
       "  </tbody>\n",
       "</table>\n",
       "</div>"
      ],
      "text/plain": [
       "               vars       imp\n",
       "0              hour  0.209390\n",
       "14       email_freq  0.097268\n",
       "1           weekday  0.093614\n",
       "11        sess_freq  0.064527\n",
       "15       email_last  0.064375\n",
       "8         view_freq  0.062262\n",
       "10   view_mean_diff  0.052932\n",
       "16  email_mean_diff  0.052629\n",
       "9         view_last  0.049614\n",
       "2         prch_freq  0.047239\n",
       "12        sess_last  0.046717\n",
       "13   sess_mean_diff  0.039833\n",
       "5         cart_freq  0.030338\n",
       "7    cart_mean_diff  0.029524\n",
       "6         cart_last  0.026345\n",
       "3         prch_last  0.021946\n",
       "4    prch_mean_diff  0.011447"
      ]
     },
     "execution_count": 45,
     "metadata": {},
     "output_type": "execute_result"
    }
   ],
   "source": [
    "var_imp_clf_rf_final = pd.DataFrame({'vars': X_train_sm.columns,'imp':clf_rf.feature_importances_})\n",
    "var_imp_clf_rf_final.sort_values(by='imp',ascending=False, inplace=True)\n",
    "var_imp_clf_rf_final"
   ]
  },
  {
   "cell_type": "code",
   "execution_count": 46,
   "metadata": {},
   "outputs": [
    {
     "name": "stderr",
     "output_type": "stream",
     "text": [
      "[Parallel(n_jobs=1)]: Done 380 out of 380 | elapsed:    0.6s finished\n",
      "[Parallel(n_jobs=1)]: Done 380 out of 380 | elapsed:    0.5s finished\n",
      "[Parallel(n_jobs=1)]: Done 380 out of 380 | elapsed:    0.5s finished\n",
      "[Parallel(n_jobs=1)]: Done 380 out of 380 | elapsed:    0.5s finished\n"
     ]
    },
    {
     "data": {
      "application/javascript": [
       "var spec = {\"config\": {\"view\": {\"width\": 400, \"height\": 300}}, \"layer\": [{\"data\": {\"name\": \"data-1c67d1a557d7a25c7aadb285791fce5b\"}, \"mark\": \"bar\", \"encoding\": {\"x\": {\"type\": \"quantitative\", \"axis\": {\"title\": \"\"}, \"field\": \"b\", \"scale\": {\"domain\": [0, 1]}}, \"y\": {\"type\": \"nominal\", \"axis\": {\"title\": \"Metric\"}, \"field\": \"a\"}}, \"title\": \"Random Forest Model: Test set evaluation\"}, {\"data\": {\"name\": \"data-1c67d1a557d7a25c7aadb285791fce5b\"}, \"mark\": {\"type\": \"text\", \"align\": \"left\", \"baseline\": \"middle\", \"dx\": 3}, \"encoding\": {\"text\": {\"type\": \"quantitative\", \"field\": \"b\"}, \"x\": {\"type\": \"quantitative\", \"axis\": {\"title\": \"\"}, \"field\": \"b\", \"scale\": {\"domain\": [0, 1]}}, \"y\": {\"type\": \"nominal\", \"axis\": {\"title\": \"Metric\"}, \"field\": \"a\"}}, \"title\": \"Random Forest Model: Test set evaluation\"}], \"$schema\": \"https://vega.github.io/schema/vega-lite/v2.6.0.json\", \"datasets\": {\"data-1c67d1a557d7a25c7aadb285791fce5b\": [{\"a\": \"Accuracy\", \"b\": 0.97}, {\"a\": \"Recall\", \"b\": 0.03}, {\"a\": \"Precision\", \"b\": 0.01}, {\"a\": \"ROC AUC\", \"b\": 0.66}]}};\n",
       "var opt = {};\n",
       "var type = \"vega-lite\";\n",
       "var id = \"c0da55f0-fd04-40b4-bdbd-d9743a0b2be7\";\n",
       "\n",
       "var output_area = this;\n",
       "\n",
       "require([\"nbextensions/jupyter-vega/index\"], function(vega) {\n",
       "  var target = document.createElement(\"div\");\n",
       "  target.id = id;\n",
       "  target.className = \"vega-embed\";\n",
       "\n",
       "  var style = document.createElement(\"style\");\n",
       "  style.textContent = [\n",
       "    \".vega-embed .error p {\",\n",
       "    \"  color: firebrick;\",\n",
       "    \"  font-size: 14px;\",\n",
       "    \"}\",\n",
       "  ].join(\"\\\\n\");\n",
       "\n",
       "  // element is a jQuery wrapped DOM element inside the output area\n",
       "  // see http://ipython.readthedocs.io/en/stable/api/generated/\\\n",
       "  // IPython.display.html#IPython.display.Javascript.__init__\n",
       "  element[0].appendChild(target);\n",
       "  element[0].appendChild(style);\n",
       "\n",
       "  vega.render(\"#\" + id, spec, type, opt, output_area);\n",
       "}, function (err) {\n",
       "  if (err.requireType !== \"scripterror\") {\n",
       "    throw(err);\n",
       "  }\n",
       "});\n"
      ],
      "text/plain": [
       "<vega.vegalite.VegaLite at 0x1bc7d630>"
      ]
     },
     "metadata": {
      "jupyter-vega": "#c0da55f0-fd04-40b4-bdbd-d9743a0b2be7"
     },
     "output_type": "display_data"
    },
    {
     "data": {
      "text/plain": []
     },
     "execution_count": 46,
     "metadata": {},
     "output_type": "execute_result"
    },
    {
     "data": {
      "image/png": "[encoded data removed]"
     },
     "metadata": {
      "jupyter-vega": "#c0da55f0-fd04-40b4-bdbd-d9743a0b2be7"
     },
     "output_type": "display_data"
    },
    {
     "data": {
      "image/png": "[encoded data removed]"
     },
     "metadata": {
      "jupyter-vega": "#c0da55f0-fd04-40b4-bdbd-d9743a0b2be7"
     },
     "output_type": "display_data"
    }
   ],
   "source": [
    "data = pd.DataFrame({\n",
    "    'a': ['Accuracy','Recall','Precision','ROC AUC'],\n",
    "    'b': [round(clf_rf.score(X_test, y_test),2),\n",
    "          round(recall_score(y_test, clf_rf.predict(X_test)),2), \n",
    "          round(precision_score(y_test, clf_rf.predict(X_test)),2),\n",
    "          round(roc_auc_score(y_test_transformed, clf_rf.predict_proba(X_test),\n",
    "                                average='weighted'),2)]\n",
    "})\n",
    "\n",
    "bars = alt.Chart(data).mark_bar().encode(\n",
    "    alt.X('b',scale=alt.Scale(domain=(0, 1)),axis=alt.Axis(title='')),\n",
    "    alt.Y('a',axis=alt.Axis(title='Metric')),\n",
    ").properties(title='Random Forest Model: Test set evaluation')\n",
    "\n",
    "text = bars.mark_text(\n",
    "    align='left',\n",
    "    baseline='middle',\n",
    "    dx=3\n",
    ").encode(\n",
    "    text='b'\n",
    ")\n",
    "\n",
    "bars + text"
   ]
  },
  {
   "cell_type": "code",
   "execution_count": 134,
   "metadata": {},
   "outputs": [],
   "source": [
    "# output .dot file of random tree from RF to see rootish nodes\n",
    "\n",
    "estimator = clf_rf.estimators_[5]\n",
    "\n",
    "from sklearn.tree import export_graphviz\n",
    "# Export as dot file\n",
    "export_graphviz(estimator, out_file='tree5.dot', \n",
    "                feature_names = X_train.columns,\n",
    "                class_names=['Not','Open'],\n",
    "                rounded = True, proportion = False, \n",
    "                precision = 2, filled = True)"
   ]
  },
  {
   "cell_type": "markdown",
   "metadata": {},
   "source": [
    "# <i>1.3 Boosted trees - XGBoost</i>"
   ]
  },
  {
   "cell_type": "code",
   "execution_count": 294,
   "metadata": {},
   "outputs": [
    {
     "name": "stdout",
     "output_type": "stream",
     "text": [
      "0.938320474250865\n",
      "{'reg_lambda': 1.8, 'reg_alpha': 1.6, 'n_estimators': 260, 'max_depth': 32, 'learning_rate': 0.4}\n"
     ]
    }
   ],
   "source": [
    "#XGBoost\n",
    "XGB_Classifier = xgboost.XGBClassifier()\n",
    "\n",
    "CV_SSS = StratifiedShuffleSplit(n_splits=5, test_size=0.33, random_state=rnd)\n",
    "\n",
    "xgb_param_grid = {\n",
    "                  'max_depth': np.arange(2, 40, 2),\n",
    "                  'learning_rate': np.arange(0.2, 2, 0.2),\n",
    "                  'n_estimators': np.arange(20, 400, 20),\n",
    "                  'reg_alpha': np.arange(0, 2, 0.2),\n",
    "                  'reg_lambda': np.arange(0, 2, 0.2)\n",
    "                 }\n",
    "\n",
    "random_grid_XGB_CV = RandomizedSearchCV(XGB_Classifier,\n",
    "                                        xgb_param_grid,\n",
    "                                        scoring = 'roc_auc',\n",
    "                                        cv = CV_SSS,\n",
    "                                        n_iter = 5)\n",
    "random_grid_XGB_CV.fit(X_train_sm, Y_train_sm)\n",
    "print(random_grid_XGB_CV.best_score_)\n",
    "print(random_grid_XGB_CV.best_params_)"
   ]
  },
  {
   "cell_type": "code",
   "execution_count": null,
   "metadata": {},
   "outputs": [],
   "source": [
    "# XGB_Classifier = random_grid_XGB_CV.best_estimator_\n",
    "XGB_Classifier = xgboost.XGBClassifier(params={'reg_lambda': 1.8, 'reg_alpha': 1.6, 'n_estimators': 260, \n",
    "                                               'max_depth': 32, 'learning_rate': 0.4})\n",
    "XGB_Classifier.fit(X_train_sm, Y_train_sm)\n",
    "print(XGB_Classifier.feature_importances_)"
   ]
  },
  {
   "cell_type": "code",
   "execution_count": null,
   "metadata": {},
   "outputs": [],
   "source": [
    "#np.argmin(XGB_Classifier.feature_importances_)\n",
    "y_score = XGB_Classifier.predict_proba(X_test)"
   ]
  },
  {
   "cell_type": "code",
   "execution_count": null,
   "metadata": {},
   "outputs": [],
   "source": [
    "print('Test Results')\n",
    "print(\"Accuracy: \",XGB_Classifier.score(X_test, y_test))\n",
    "print(\"Recall: \",recall_score(y_test, XGB_Classifier.predict(X_test)))\n",
    "print(\"Precision: \",precision_score(y_test, XGB_Classifier.predict(X_test)))\n",
    "print(\"ROC AUC: \",roc_auc_score(y_test_transformed, y_score, average='weighted'))"
   ]
  },
  {
   "cell_type": "code",
   "execution_count": null,
   "metadata": {},
   "outputs": [],
   "source": [
    "var_imp_clf_XGB = pd.DataFrame({'vars': X_train_sm.columns,'imp':XGB_Classifier.feature_importances_})\n",
    "var_imp_clf_XGB.sort_values(by='imp',ascending=False)"
   ]
  },
  {
   "cell_type": "code",
   "execution_count": null,
   "metadata": {},
   "outputs": [],
   "source": [
    "data = pd.DataFrame({\n",
    "    'a': ['Accuracy','Recall','Precision','ROC AUC'],\n",
    "    'b': [round(XGB_Classifier.score(X_test, y_test),2),\n",
    "          round(recall_score(y_test, XGB_Classifier.predict(X_test)),2), \n",
    "          round(precision_score(y_test, XGB_Classifier.predict(X_test)),2),\n",
    "          round(roc_auc_score(y_test_transformed, XGB_Classifier.predict_proba(X_test),\n",
    "                                average='weighted'),2)]\n",
    "})\n",
    "\n",
    "bars = alt.Chart(data).mark_bar().encode(\n",
    "    alt.X('b',scale=alt.Scale(domain=(0, 1)),axis=alt.Axis(title='')),\n",
    "    alt.Y('a',axis=alt.Axis(title='Metric')),\n",
    ").properties(title='Decision Tree Model: Test set evaluation')\n",
    "\n",
    "text = bars.mark_text(\n",
    "    align='left',\n",
    "    baseline='middle',\n",
    "    dx=3\n",
    ").encode(\n",
    "    text='b'\n",
    ")\n",
    "\n",
    "bars + text"
   ]
  },
  {
   "cell_type": "code",
   "execution_count": null,
   "metadata": {},
   "outputs": [],
   "source": [
    "%matplotlib inline\n",
    "import matplotlib\n",
    "import matplotlib.pyplot as plt\n",
    "\n",
    "fpr = dict()\n",
    "tpr = dict()\n",
    "roc_auc = dict()\n",
    "for i in range(2):\n",
    "    fpr[i], tpr[i], _ = roc_curve(y_test_transformed[:, i], y_score[:, i])\n",
    "    roc_auc[i] = auc(fpr[i], tpr[i])\n",
    "\n",
    "plt.figure()\n",
    "lw = 2\n",
    "\n",
    "plt.plot(fpr[1], tpr[1], color='darkorange',\n",
    "         lw=lw, label='ROC curve (area = %0.2f)' % roc_auc[1])\n",
    "plt.plot([0, 1], [0, 1], color='navy', lw=lw, linestyle='--')\n",
    "plt.xlim([0.0, 1.0])\n",
    "plt.ylim([0.0, 1.05])\n",
    "plt.xlabel('False Positive Rate')\n",
    "plt.ylabel('True Positive Rate')\n",
    "plt.title('Receiver operating characteristic')\n",
    "plt.legend(loc=\"lower right\")\n",
    "plt.show()"
   ]
  },
  {
   "cell_type": "markdown",
   "metadata": {},
   "source": [
    "# <i>1.4 LightGBM</i>"
   ]
  },
  {
   "cell_type": "code",
   "execution_count": null,
   "metadata": {
    "scrolled": true
   },
   "outputs": [],
   "source": [
    "#\n",
    "# Create the LightGBM data containers\n",
    "#\n",
    "categorical_features = [c for c, col in enumerate(X_train_sm.columns) if 'cat' in col]\n",
    "train_data = lightgbm.Dataset(X_train_sm, label=Y_train_sm, categorical_feature=categorical_features)\n",
    "test_data = lightgbm.Dataset(X_test, label=y_test)\n",
    "\n",
    "parameters = {\n",
    "    'application': 'binary',\n",
    "    'objective': 'binary',\n",
    "    'metric': 'auc',\n",
    "    'is_unbalance': 'false',\n",
    "    'boosting': 'gbdt',\n",
    "    'feature_fraction': 0.5,\n",
    "    'bagging_fraction': 0.5,\n",
    "    'bagging_freq': 20,\n",
    "    'learning_rate': 0.05,\n",
    "    'verbose': -1\n",
    "\n",
    "}\n",
    "\n",
    "CV_SSS = StratifiedShuffleSplit(n_splits=5, test_size=0.33, random_state=None)\n",
    "\n",
    "lightgbm_param_grid = {\n",
    "                  'max_depth': np.arange(2, 40, 2),\n",
    "                  'learning_rate': np.arange(0.2, 2, 0.2),\n",
    "                  'n_estimators': np.arange(20, 400, 10),\n",
    "                  'reg_alpha': np.arange(0, 2, 0.2),\n",
    "                  'reg_lambda': np.arange(0, 2, 0.2),\n",
    "                  'max_bin': np.arange(300, 600, 5),\n",
    "                  'num_leaves':np.arange(31,60,1)\n",
    "                 }\n",
    "\n",
    "estimator = lightgbm.LGBMClassifier(application='binary',objective='binary',metric='roc_auc',is_unbalance='false',boosting= 'gbdt')\n",
    "\n",
    "random_grid_GBM_CV = RandomizedSearchCV(estimator,\n",
    "                                        lightgbm_param_grid,\n",
    "                                        scoring = 'roc_auc',\n",
    "                                        cv = CV_SSS,\n",
    "                                        n_iter = 5)\n",
    "\n",
    "random_grid_GBM_CV.fit(X_train_sm, Y_train_sm)\n",
    "\n",
    "print('Best parameters found by random search are:', random_grid_GBM_CV.best_params_)\n",
    "print('Best score found by random search are:', random_grid_GBM_CV.best_score_)"
   ]
  },
  {
   "cell_type": "code",
   "execution_count": null,
   "metadata": {},
   "outputs": [],
   "source": [
    "# specify your configurations as a dict\n",
    "params = {\n",
    "    'application': 'binary',\n",
    "    'objective': 'binary',\n",
    "    'metric': 'recall',\n",
    "    'is_unbalance': 'false',\n",
    "    'boosting': 'gbdt',\n",
    "    'reg_lambda': 0.6,\n",
    "    'reg_alpha': 0.2,\n",
    "    'num_leaves': 44,\n",
    "    'n_estimators': 140,\n",
    "    'max_depth': 30,\n",
    "    'learning_rate': 0.8,\n",
    "    'verbose': -1,\n",
    "    'max_bin': 475\n",
    "}\n",
    "# fit\n",
    "gbm = lightgbm.LGBMClassifier(**params)\n",
    "gbm.fit(X_train_sm, Y_train_sm)\n",
    "\n",
    "print(gbm.feature_importances_)\n",
    "\n",
    "#print('Save model...')\n",
    "# save model to file\n",
    "#gbm.save_model('model.txt')\n",
    "\n",
    "print('Start predicting...')\n",
    "# predict\n",
    "y_pred = gbm.predict(X_test)\n",
    "y_score = gbm.predict_proba(X_test)"
   ]
  },
  {
   "cell_type": "code",
   "execution_count": null,
   "metadata": {},
   "outputs": [],
   "source": [
    "print('Test Results')\n",
    "print(\"Accuracy: \",gbm.score(X_test, y_test))\n",
    "print(\"Recall: \",recall_score(y_test, gbm.predict(X_test)))\n",
    "print(\"Precision: \",precision_score(y_test, gbm.predict(X_test)))\n",
    "print(\"ROC AUC: \",roc_auc_score(y_test_transformed, y_score, average='weighted'))"
   ]
  },
  {
   "cell_type": "code",
   "execution_count": null,
   "metadata": {},
   "outputs": [],
   "source": [
    "var_imp_clf_rf = pd.DataFrame({'vars': X_train_sm.columns,'imp':gbm.feature_importances_})\n",
    "var_imp_clf_rf.sort_values(by='imp',ascending=False)"
   ]
  },
  {
   "cell_type": "code",
   "execution_count": null,
   "metadata": {},
   "outputs": [],
   "source": [
    "data = pd.DataFrame({\n",
    "    'a': ['Accuracy','Recall','Precision','ROC AUC'],\n",
    "    'b': [round(gbm.score(X_test, y_test),2),\n",
    "          round(recall_score(y_test, gbm.predict(X_test)),2), \n",
    "          round(precision_score(y_test, gbm.predict(X_test)),2),\n",
    "          round(roc_auc_score(y_test_transformed, gbm.predict_proba(X_test),\n",
    "                                average='weighted'),2)]\n",
    "})\n",
    "\n",
    "bars = alt.Chart(data).mark_bar().encode(\n",
    "    alt.X('b',scale=alt.Scale(domain=(0, 1)),axis=alt.Axis(title='')),\n",
    "    alt.Y('a',axis=alt.Axis(title='Metric')),\n",
    ").properties(title='Decision Tree Model: Test set evaluation')\n",
    "\n",
    "text = bars.mark_text(\n",
    "    align='left',\n",
    "    baseline='middle',\n",
    "    dx=3\n",
    ").encode(\n",
    "    text='b'\n",
    ")\n",
    "\n",
    "bars + text"
   ]
  },
  {
   "cell_type": "markdown",
   "metadata": {},
   "source": [
    "# <b><i>Iterative Feature importance for tuned RF (unused)</i></b>"
   ]
  },
  {
   "cell_type": "code",
   "execution_count": 164,
   "metadata": {},
   "outputs": [],
   "source": [
    "# this was just try to iteratively compute feature importance \n",
    "# this was done as last step 1.7 but fits here\n",
    "\n",
    "def score(x1,x2):\n",
    "    return roc_auc_score(x1,x2)\n",
    "# defining feature importance\n",
    "def feat_imp(m, x, y, small_good = True): \n",
    "\n",
    "#m: random forest model\n",
    "#x: matrix of independent variables\n",
    "#y: output variable\n",
    "#small__good: True if smaller prediction score is better\n",
    "    score_list = {} \n",
    "    score_list['original'] = score(m.predict(x.values), y) \n",
    "    imp = {} \n",
    "    for i in range(len(x.columns)):\n",
    "        rand_idx = np.random.permutation(len(x)) # randomization\n",
    "        new_coli = x.values[rand_idx, i] \n",
    "        new_x = x.copy()            \n",
    "        new_x[x.columns[i]] = new_coli \n",
    "        score_list[x.columns[i]] = score(m.predict(new_x.values), y) \n",
    "        imp[x.columns[i]] = score_list['original'] - score_list[x.columns[i]] # comparison with benchmark\n",
    "    if small_good: \n",
    "             return sorted(imp.items(), key=lambda x: x[1]) \n",
    "    else: return sorted(imp.items(), key=lambda x: x[1], reverse=True)"
   ]
  },
  {
   "cell_type": "code",
   "execution_count": 166,
   "metadata": {},
   "outputs": [],
   "source": [
    "#importance = feat_imp(clf_rf, X_train_sm, Y_train_sm)\n",
    "#importance"
   ]
  },
  {
   "cell_type": "markdown",
   "metadata": {},
   "source": [
    "# 1.6.5 Feature selection"
   ]
  },
  {
   "cell_type": "code",
   "execution_count": 255,
   "metadata": {},
   "outputs": [],
   "source": [
    "# create subset suggested by tuned RF feature_importance\n",
    "# arbitrary threshold 0.045\n",
    "\n",
    "X_train_fs = X_train_sm[list(var_imp_clf_rf_final[var_imp_clf_rf_final.imp>0.045].vars)]\n",
    "X_test_fs = X_test[list(var_imp_clf_rf_final[var_imp_clf_rf_final.imp>0.045].vars)]"
   ]
  },
  {
   "cell_type": "markdown",
   "metadata": {},
   "source": [
    "#### Logistic regression"
   ]
  },
  {
   "cell_type": "code",
   "execution_count": 259,
   "metadata": {},
   "outputs": [
    {
     "name": "stdout",
     "output_type": "stream",
     "text": [
      "0.8079873556247362\n",
      "{'C': 1.0, 'penalty': 'l2'}\n"
     ]
    }
   ],
   "source": [
    "# Training RF with selected features\n",
    "\n",
    "from sklearn.model_selection import GridSearchCV, RandomizedSearchCV\n",
    "\n",
    "clf_lr = LogisticRegression()\n",
    "\n",
    "CV_SSS = StratifiedShuffleSplit(n_splits=5, test_size=0.33, random_state=rnd)\n",
    "\n",
    "lr_param_grid = {\n",
    "                  'C':np.logspace(-2, 4, 10),\n",
    "                  'penalty' : ['l1', 'l2']\n",
    "                 }\n",
    "\n",
    "random_grid_lr_CV = GridSearchCV(clf_lr,\n",
    "                                        lr_param_grid,\n",
    "                                        scoring = 'roc_auc',\n",
    "                                        cv = CV_SSS)\n",
    "random_grid_lr_CV.fit(X_train_fs, Y_train_sm)\n",
    "print(random_grid_lr_CV.best_score_)\n",
    "print(random_grid_lr_CV.best_params_)"
   ]
  },
  {
   "cell_type": "code",
   "execution_count": 257,
   "metadata": {},
   "outputs": [
    {
     "name": "stdout",
     "output_type": "stream",
     "text": [
      "[LibLinear]Test Results\n",
      "Accuracy:  0.748760594914441\n",
      "Recall:  0.6360026472534746\n",
      "Precision:  0.48486377396569125\n",
      "ROC AUC:  0.7835940066672603\n"
     ]
    }
   ],
   "source": [
    "# LogisticRegression\n",
    "clf_lr = LogisticRegression(C=1.0,penalty='l2', random_state=rnd,verbose=1)\n",
    "clf_lr.fit(X_train_fs, Y_train_sm)\n",
    "\n",
    "print('Test Results')\n",
    "print(\"Accuracy: \",clf_lr.score(X_test_fs, y_test))\n",
    "print(\"Recall: \",recall_score(y_test, clf_lr.predict(X_test_fs)))\n",
    "print(\"Precision: \",precision_score(y_test, clf_lr.predict(X_test_fs)))\n",
    "print(\"ROC AUC: \",roc_auc_score(y_test_transformed, clf_lr.predict_proba(X_test_fs), average='weighted'))"
   ]
  },
  {
   "cell_type": "code",
   "execution_count": 258,
   "metadata": {},
   "outputs": [
    {
     "data": {
      "application/javascript": [
       "var spec = {\"config\": {\"view\": {\"width\": 400, \"height\": 300}}, \"layer\": [{\"data\": {\"name\": \"data-8b5f09da4d86937526a8e8d80660906a\"}, \"mark\": \"bar\", \"encoding\": {\"x\": {\"type\": \"quantitative\", \"axis\": {\"title\": \"\"}, \"field\": \"b\", \"scale\": {\"domain\": [0, 1]}}, \"y\": {\"type\": \"nominal\", \"axis\": {\"title\": \"Metric\"}, \"field\": \"a\"}}, \"title\": \"Logistic Regression with selected features: Test set evaluation\"}, {\"data\": {\"name\": \"data-8b5f09da4d86937526a8e8d80660906a\"}, \"mark\": {\"type\": \"text\", \"align\": \"left\", \"baseline\": \"middle\", \"dx\": 3}, \"encoding\": {\"text\": {\"type\": \"quantitative\", \"field\": \"b\"}, \"x\": {\"type\": \"quantitative\", \"axis\": {\"title\": \"\"}, \"field\": \"b\", \"scale\": {\"domain\": [0, 1]}}, \"y\": {\"type\": \"nominal\", \"axis\": {\"title\": \"Metric\"}, \"field\": \"a\"}}, \"title\": \"Logistic Regression with selected features: Test set evaluation\"}], \"$schema\": \"https://vega.github.io/schema/vega-lite/v2.6.0.json\", \"datasets\": {\"data-8b5f09da4d86937526a8e8d80660906a\": [{\"a\": \"Accuracy\", \"b\": 0.75}, {\"a\": \"Recall\", \"b\": 0.64}, {\"a\": \"Precision\", \"b\": 0.48}, {\"a\": \"ROC AUC\", \"b\": 0.78}]}};\n",
       "var opt = {};\n",
       "var type = \"vega-lite\";\n",
       "var id = \"a8d53cc0-c85a-4f0d-bacb-784aa8f503f9\";\n",
       "\n",
       "var output_area = this;\n",
       "\n",
       "require([\"nbextensions/jupyter-vega/index\"], function(vega) {\n",
       "  var target = document.createElement(\"div\");\n",
       "  target.id = id;\n",
       "  target.className = \"vega-embed\";\n",
       "\n",
       "  var style = document.createElement(\"style\");\n",
       "  style.textContent = [\n",
       "    \".vega-embed .error p {\",\n",
       "    \"  color: firebrick;\",\n",
       "    \"  font-size: 14px;\",\n",
       "    \"}\",\n",
       "  ].join(\"\\\\n\");\n",
       "\n",
       "  // element is a jQuery wrapped DOM element inside the output area\n",
       "  // see http://ipython.readthedocs.io/en/stable/api/generated/\\\n",
       "  // IPython.display.html#IPython.display.Javascript.__init__\n",
       "  element[0].appendChild(target);\n",
       "  element[0].appendChild(style);\n",
       "\n",
       "  vega.render(\"#\" + id, spec, type, opt, output_area);\n",
       "}, function (err) {\n",
       "  if (err.requireType !== \"scripterror\") {\n",
       "    throw(err);\n",
       "  }\n",
       "});\n"
      ],
      "text/plain": [
       "<vega.vegalite.VegaLite at 0x17474eb8>"
      ]
     },
     "metadata": {
      "jupyter-vega": "#a8d53cc0-c85a-4f0d-bacb-784aa8f503f9"
     },
     "output_type": "display_data"
    },
    {
     "data": {
      "text/plain": []
     },
     "execution_count": 258,
     "metadata": {},
     "output_type": "execute_result"
    },
    {
     "data": {
      "image/png": "[encoded data removed]"
     },
     "metadata": {
      "jupyter-vega": "#a8d53cc0-c85a-4f0d-bacb-784aa8f503f9"
     },
     "output_type": "display_data"
    },
    {
     "data": {
      "image/png": "[encoded data removed]"
     },
     "metadata": {
      "jupyter-vega": "#a8d53cc0-c85a-4f0d-bacb-784aa8f503f9"
     },
     "output_type": "display_data"
    },
    {
     "data": {
      "image/png": "[encoded data removed]"
     },
     "metadata": {
      "jupyter-vega": "#a8d53cc0-c85a-4f0d-bacb-784aa8f503f9"
     },
     "output_type": "display_data"
    },
    {
     "data": {
      "image/png": "[encoded data removed]"
     },
     "metadata": {
      "jupyter-vega": "#a8d53cc0-c85a-4f0d-bacb-784aa8f503f9"
     },
     "output_type": "display_data"
    },
    {
     "data": {
      "image/png": "[encoded data removed]"
     },
     "metadata": {
      "jupyter-vega": "#a8d53cc0-c85a-4f0d-bacb-784aa8f503f9"
     },
     "output_type": "display_data"
    }
   ],
   "source": [
    "data = pd.DataFrame({\n",
    "    'a': ['Accuracy','Recall','Precision','ROC AUC'],\n",
    "    'b': [round(clf_lr.score(X_test_fs, y_test),2),\n",
    "          round(recall_score(y_test, clf_lr.predict(X_test_fs)),2), \n",
    "          round(precision_score(y_test, clf_lr.predict(X_test_fs)),2),\n",
    "          round(roc_auc_score(y_test_transformed, clf_lr.predict_proba(X_test_fs),\n",
    "                                average='weighted'),2)]\n",
    "})\n",
    "\n",
    "bars = alt.Chart(data).mark_bar().encode(\n",
    "    alt.X('b',scale=alt.Scale(domain=(0, 1)),axis=alt.Axis(title='')),\n",
    "    alt.Y('a',axis=alt.Axis(title='Metric')),\n",
    ").properties(title='Logistic Regression with selected features: Test set evaluation')\n",
    "\n",
    "text = bars.mark_text(\n",
    "    align='left',\n",
    "    baseline='middle',\n",
    "    dx=3\n",
    ").encode(\n",
    "    text='b'\n",
    ")\n",
    "\n",
    "bars + text"
   ]
  },
  {
   "cell_type": "markdown",
   "metadata": {},
   "source": [
    "### Random Forest with selected features"
   ]
  },
  {
   "cell_type": "code",
   "execution_count": 260,
   "metadata": {},
   "outputs": [
    {
     "name": "stdout",
     "output_type": "stream",
     "text": [
      "0.9182767175338263\n",
      "{'n_estimators': 380}\n"
     ]
    }
   ],
   "source": [
    "clf_rf = RandomForestClassifier()\n",
    "\n",
    "CV_SSS = StratifiedShuffleSplit(n_splits=5, test_size=0.33, random_state=rnd)\n",
    "\n",
    "rf_param_grid = {\n",
    "                  'n_estimators': np.arange(20, 400, 20),\n",
    "                 }\n",
    "\n",
    "random_grid_rf_CV = RandomizedSearchCV(clf_rf,\n",
    "                                        rf_param_grid,\n",
    "                                        scoring = 'roc_auc',\n",
    "                                        cv = CV_SSS,\n",
    "                                        n_iter = 5)\n",
    "random_grid_rf_CV.fit(X_train_fs, Y_train_sm)\n",
    "print(random_grid_rf_CV.best_score_)\n",
    "print(random_grid_rf_CV.best_params_)"
   ]
  },
  {
   "cell_type": "code",
   "execution_count": 261,
   "metadata": {},
   "outputs": [
    {
     "name": "stderr",
     "output_type": "stream",
     "text": [
      "[Parallel(n_jobs=1)]: Done 380 out of 380 | elapsed:   55.7s finished\n"
     ]
    },
    {
     "data": {
      "text/plain": [
       "RandomForestClassifier(bootstrap=True, class_weight=None, criterion='gini',\n",
       "            max_depth=None, max_features='auto', max_leaf_nodes=None,\n",
       "            min_impurity_decrease=0.0, min_impurity_split=None,\n",
       "            min_samples_leaf=1, min_samples_split=2,\n",
       "            min_weight_fraction_leaf=0.0, n_estimators=380, n_jobs=1,\n",
       "            oob_score=False, random_state=12, verbose=1, warm_start=False)"
      ]
     },
     "execution_count": 261,
     "metadata": {},
     "output_type": "execute_result"
    }
   ],
   "source": [
    "# quick RF model baseline\n",
    "clf_rf = RandomForestClassifier(n_estimators=380, random_state=rnd,verbose=1)\n",
    "clf_rf.fit(X_train_fs, Y_train_sm)"
   ]
  },
  {
   "cell_type": "code",
   "execution_count": 262,
   "metadata": {},
   "outputs": [
    {
     "name": "stdout",
     "output_type": "stream",
     "text": [
      "Test Results\n"
     ]
    },
    {
     "name": "stderr",
     "output_type": "stream",
     "text": [
      "[Parallel(n_jobs=1)]: Done 380 out of 380 | elapsed:    0.8s finished\n"
     ]
    },
    {
     "name": "stdout",
     "output_type": "stream",
     "text": [
      "Accuracy:  0.7976971053894131\n"
     ]
    },
    {
     "name": "stderr",
     "output_type": "stream",
     "text": [
      "[Parallel(n_jobs=1)]: Done 380 out of 380 | elapsed:    0.8s finished\n"
     ]
    },
    {
     "name": "stdout",
     "output_type": "stream",
     "text": [
      "Recall:  0.5268034414295168\n"
     ]
    },
    {
     "name": "stderr",
     "output_type": "stream",
     "text": [
      "[Parallel(n_jobs=1)]: Done 380 out of 380 | elapsed:    0.7s finished\n"
     ]
    },
    {
     "name": "stdout",
     "output_type": "stream",
     "text": [
      "Precision:  0.5268034414295168\n",
      "ROC AUC:  0.7908031946800365\n"
     ]
    },
    {
     "name": "stderr",
     "output_type": "stream",
     "text": [
      "[Parallel(n_jobs=1)]: Done 380 out of 380 | elapsed:    0.7s finished\n"
     ]
    }
   ],
   "source": [
    "print('Test Results')\n",
    "print(\"Accuracy: \",clf_rf.score(X_test_fs, y_test))\n",
    "print(\"Recall: \",recall_score(y_test, clf_rf.predict(X_test_fs)))\n",
    "print(\"Precision: \",recall_score(y_test, clf_rf.predict(X_test_fs)))\n",
    "print(\"ROC AUC: \",roc_auc_score(y_test_transformed, clf_rf.predict_proba(X_test_fs), average='weighted'))"
   ]
  },
  {
   "cell_type": "markdown",
   "metadata": {},
   "source": [
    "#### Create interaction terms from reasonable subset used above"
   ]
  },
  {
   "cell_type": "code",
   "execution_count": 247,
   "metadata": {},
   "outputs": [],
   "source": [
    "poly = PolynomialFeatures(interaction_only=True)\n",
    "X_train_fs_pre = poly.fit_transform(X_train_fs)\n",
    "X_train_fs_pre = pd.DataFrame(X_train_fs_pre,columns=poly.get_feature_names(X_train_fs.columns))\n",
    "\n",
    "X_test_fs_pre = poly.fit_transform(X_test_fs)\n",
    "X_test_fs_pre = pd.DataFrame(X_test_fs_pre,columns=poly.get_feature_names(X_test_fs.columns))"
   ]
  },
  {
   "cell_type": "code",
   "execution_count": 241,
   "metadata": {},
   "outputs": [
    {
     "name": "stderr",
     "output_type": "stream",
     "text": [
      "[Parallel(n_jobs=1)]: Done 380 out of 380 | elapsed:  3.0min finished\n"
     ]
    },
    {
     "data": {
      "text/plain": [
       "RandomForestClassifier(bootstrap=True, class_weight=None, criterion='gini',\n",
       "            max_depth=None, max_features='auto', max_leaf_nodes=None,\n",
       "            min_impurity_decrease=0.0, min_impurity_split=None,\n",
       "            min_samples_leaf=1, min_samples_split=2,\n",
       "            min_weight_fraction_leaf=0.0, n_estimators=380, n_jobs=1,\n",
       "            oob_score=False, random_state=12, verbose=1, warm_start=False)"
      ]
     },
     "execution_count": 241,
     "metadata": {},
     "output_type": "execute_result"
    }
   ],
   "source": [
    "# I should probably CV the model again but I will use \"tuned\" already model\n",
    "clf_rf_inter = RandomForestClassifier(n_estimators=380, random_state=rnd,verbose=1)\n",
    "clf_rf_inter.fit(X_train_fs_pre, Y_train_sm)"
   ]
  },
  {
   "cell_type": "code",
   "execution_count": 229,
   "metadata": {},
   "outputs": [
    {
     "name": "stdout",
     "output_type": "stream",
     "text": [
      "Test Results\n"
     ]
    },
    {
     "name": "stderr",
     "output_type": "stream",
     "text": [
      "[Parallel(n_jobs=1)]: Done 380 out of 380 | elapsed:    0.9s finished\n"
     ]
    },
    {
     "name": "stdout",
     "output_type": "stream",
     "text": [
      "Accuracy:  0.8040940348632656\n"
     ]
    },
    {
     "name": "stderr",
     "output_type": "stream",
     "text": [
      "[Parallel(n_jobs=1)]: Done 380 out of 380 | elapsed:    1.0s finished\n"
     ]
    },
    {
     "name": "stdout",
     "output_type": "stream",
     "text": [
      "Recall:  0.5678358702845797\n"
     ]
    },
    {
     "name": "stderr",
     "output_type": "stream",
     "text": [
      "[Parallel(n_jobs=1)]: Done 380 out of 380 | elapsed:    0.9s finished\n"
     ]
    },
    {
     "name": "stdout",
     "output_type": "stream",
     "text": [
      "Precision:  0.6\n",
      "ROC AUC:  0.8266921948170884\n"
     ]
    },
    {
     "name": "stderr",
     "output_type": "stream",
     "text": [
      "[Parallel(n_jobs=1)]: Done 380 out of 380 | elapsed:    0.9s finished\n"
     ]
    }
   ],
   "source": [
    "print('Test Results')\n",
    "print(\"Accuracy: \",clf_rf_inter.score(X_test_fs_pre, y_test))\n",
    "print(\"Recall: \",recall_score(y_test, clf_rf_inter.predict(X_test_fs_pre)))\n",
    "print(\"Precision: \",precision_score(y_test, clf_rf_inter.predict(X_test_fs_pre)))\n",
    "print(\"ROC AUC: \",roc_auc_score(y_test_transformed, clf_rf_inter.predict_proba(X_test_fs_pre), average='weighted'))"
   ]
  },
  {
   "cell_type": "code",
   "execution_count": 242,
   "metadata": {},
   "outputs": [
    {
     "data": {
      "text/html": [
       "<div>\n",
       "<style scoped>\n",
       "    .dataframe tbody tr th:only-of-type {\n",
       "        vertical-align: middle;\n",
       "    }\n",
       "\n",
       "    .dataframe tbody tr th {\n",
       "        vertical-align: top;\n",
       "    }\n",
       "\n",
       "    .dataframe thead th {\n",
       "        text-align: right;\n",
       "    }\n",
       "</style>\n",
       "<table border=\"1\" class=\"dataframe\">\n",
       "  <thead>\n",
       "    <tr style=\"text-align: right;\">\n",
       "      <th></th>\n",
       "      <th>vars</th>\n",
       "      <th>imp</th>\n",
       "    </tr>\n",
       "  </thead>\n",
       "  <tbody>\n",
       "    <tr>\n",
       "      <th>10</th>\n",
       "      <td>email_freq hour</td>\n",
       "      <td>0.098251</td>\n",
       "    </tr>\n",
       "    <tr>\n",
       "      <th>1</th>\n",
       "      <td>email_freq</td>\n",
       "      <td>0.093667</td>\n",
       "    </tr>\n",
       "    <tr>\n",
       "      <th>8</th>\n",
       "      <td>email_freq email_mean_diff</td>\n",
       "      <td>0.065274</td>\n",
       "    </tr>\n",
       "    <tr>\n",
       "      <th>4</th>\n",
       "      <td>hour</td>\n",
       "      <td>0.059455</td>\n",
       "    </tr>\n",
       "    <tr>\n",
       "      <th>9</th>\n",
       "      <td>email_freq email_last</td>\n",
       "      <td>0.045703</td>\n",
       "    </tr>\n",
       "    <tr>\n",
       "      <th>13</th>\n",
       "      <td>email_freq weekday</td>\n",
       "      <td>0.045665</td>\n",
       "    </tr>\n",
       "    <tr>\n",
       "      <th>2</th>\n",
       "      <td>email_mean_diff</td>\n",
       "      <td>0.043232</td>\n",
       "    </tr>\n",
       "    <tr>\n",
       "      <th>18</th>\n",
       "      <td>email_mean_diff weekday</td>\n",
       "      <td>0.037598</td>\n",
       "    </tr>\n",
       "    <tr>\n",
       "      <th>15</th>\n",
       "      <td>email_mean_diff hour</td>\n",
       "      <td>0.034241</td>\n",
       "    </tr>\n",
       "    <tr>\n",
       "      <th>14</th>\n",
       "      <td>email_mean_diff email_last</td>\n",
       "      <td>0.029666</td>\n",
       "    </tr>\n",
       "    <tr>\n",
       "      <th>19</th>\n",
       "      <td>email_last hour</td>\n",
       "      <td>0.029627</td>\n",
       "    </tr>\n",
       "    <tr>\n",
       "      <th>25</th>\n",
       "      <td>hour weekday</td>\n",
       "      <td>0.029433</td>\n",
       "    </tr>\n",
       "    <tr>\n",
       "      <th>3</th>\n",
       "      <td>email_last</td>\n",
       "      <td>0.029122</td>\n",
       "    </tr>\n",
       "    <tr>\n",
       "      <th>22</th>\n",
       "      <td>email_last weekday</td>\n",
       "      <td>0.028438</td>\n",
       "    </tr>\n",
       "    <tr>\n",
       "      <th>27</th>\n",
       "      <td>sess_last weekday</td>\n",
       "      <td>0.027814</td>\n",
       "    </tr>\n",
       "    <tr>\n",
       "      <th>23</th>\n",
       "      <td>hour sess_last</td>\n",
       "      <td>0.027601</td>\n",
       "    </tr>\n",
       "    <tr>\n",
       "      <th>11</th>\n",
       "      <td>email_freq sess_last</td>\n",
       "      <td>0.027577</td>\n",
       "    </tr>\n",
       "    <tr>\n",
       "      <th>5</th>\n",
       "      <td>sess_last</td>\n",
       "      <td>0.027527</td>\n",
       "    </tr>\n",
       "    <tr>\n",
       "      <th>28</th>\n",
       "      <td>view_last weekday</td>\n",
       "      <td>0.027419</td>\n",
       "    </tr>\n",
       "    <tr>\n",
       "      <th>6</th>\n",
       "      <td>view_last</td>\n",
       "      <td>0.026806</td>\n",
       "    </tr>\n",
       "    <tr>\n",
       "      <th>24</th>\n",
       "      <td>hour view_last</td>\n",
       "      <td>0.026722</td>\n",
       "    </tr>\n",
       "    <tr>\n",
       "      <th>26</th>\n",
       "      <td>sess_last view_last</td>\n",
       "      <td>0.026157</td>\n",
       "    </tr>\n",
       "    <tr>\n",
       "      <th>12</th>\n",
       "      <td>email_freq view_last</td>\n",
       "      <td>0.025224</td>\n",
       "    </tr>\n",
       "    <tr>\n",
       "      <th>20</th>\n",
       "      <td>email_last sess_last</td>\n",
       "      <td>0.018436</td>\n",
       "    </tr>\n",
       "    <tr>\n",
       "      <th>7</th>\n",
       "      <td>weekday</td>\n",
       "      <td>0.017717</td>\n",
       "    </tr>\n",
       "    <tr>\n",
       "      <th>17</th>\n",
       "      <td>email_mean_diff view_last</td>\n",
       "      <td>0.017387</td>\n",
       "    </tr>\n",
       "    <tr>\n",
       "      <th>21</th>\n",
       "      <td>email_last view_last</td>\n",
       "      <td>0.017386</td>\n",
       "    </tr>\n",
       "    <tr>\n",
       "      <th>16</th>\n",
       "      <td>email_mean_diff sess_last</td>\n",
       "      <td>0.016857</td>\n",
       "    </tr>\n",
       "    <tr>\n",
       "      <th>0</th>\n",
       "      <td>1</td>\n",
       "      <td>0.000000</td>\n",
       "    </tr>\n",
       "  </tbody>\n",
       "</table>\n",
       "</div>"
      ],
      "text/plain": [
       "                          vars       imp\n",
       "10             email_freq hour  0.098251\n",
       "1                   email_freq  0.093667\n",
       "8   email_freq email_mean_diff  0.065274\n",
       "4                         hour  0.059455\n",
       "9        email_freq email_last  0.045703\n",
       "13          email_freq weekday  0.045665\n",
       "2              email_mean_diff  0.043232\n",
       "18     email_mean_diff weekday  0.037598\n",
       "15        email_mean_diff hour  0.034241\n",
       "14  email_mean_diff email_last  0.029666\n",
       "19             email_last hour  0.029627\n",
       "25                hour weekday  0.029433\n",
       "3                   email_last  0.029122\n",
       "22          email_last weekday  0.028438\n",
       "27           sess_last weekday  0.027814\n",
       "23              hour sess_last  0.027601\n",
       "11        email_freq sess_last  0.027577\n",
       "5                    sess_last  0.027527\n",
       "28           view_last weekday  0.027419\n",
       "6                    view_last  0.026806\n",
       "24              hour view_last  0.026722\n",
       "26         sess_last view_last  0.026157\n",
       "12        email_freq view_last  0.025224\n",
       "20        email_last sess_last  0.018436\n",
       "7                      weekday  0.017717\n",
       "17   email_mean_diff view_last  0.017387\n",
       "21        email_last view_last  0.017386\n",
       "16   email_mean_diff sess_last  0.016857\n",
       "0                            1  0.000000"
      ]
     },
     "execution_count": 242,
     "metadata": {},
     "output_type": "execute_result"
    }
   ],
   "source": [
    "var_imp_clf_rf_inter = pd.DataFrame({'vars': poly.get_feature_names(X_train_fs.columns),'imp':clf_rf_inter.feature_importances_})\n",
    "var_imp_clf_rf_inter.sort_values(by='imp',ascending=False, inplace=True)\n",
    "var_imp_clf_rf_inter"
   ]
  },
  {
   "cell_type": "markdown",
   "metadata": {},
   "source": [
    "### New iteration of feature selection"
   ]
  },
  {
   "cell_type": "code",
   "execution_count": null,
   "metadata": {},
   "outputs": [],
   "source": [
    "# Training LogisticRegression with selected features\n",
    "clf_lr = LogisticRegression()\n",
    "\n",
    "CV_SSS = StratifiedShuffleSplit(n_splits=5, test_size=0.33, random_state=rnd)\n",
    "\n",
    "lr_param_grid = {\n",
    "                  'C':np.logspace(0, 4, 10),\n",
    "                  'penalty' : ['l1', 'l2']\n",
    "                 }\n",
    "\n",
    "random_grid_lr_CV = GridSearchCV(clf_lr,\n",
    "                                        lr_param_grid,\n",
    "                                        scoring = 'roc_auc',\n",
    "                                        cv = CV_SSS)\n",
    "random_grid_lr_CV.fit(X_train_fs_pre, Y_train_sm)\n",
    "print(random_grid_lr_CV.best_score_)\n",
    "print(random_grid_lr_CV.best_params_)"
   ]
  },
  {
   "cell_type": "code",
   "execution_count": 254,
   "metadata": {},
   "outputs": [
    {
     "name": "stdout",
     "output_type": "stream",
     "text": [
      "[LibLinear]Test Results\n",
      "Accuracy:  0.7470014393091317\n",
      "Recall:  0.613500992720053\n",
      "Precision:  0.4815584415584416\n",
      "ROC AUC:  0.7747540111444794\n"
     ]
    }
   ],
   "source": [
    "# LogisticRegression\n",
    "clf_lr = LogisticRegression(C=21.544346900318832,penalty='l1', random_state=rnd,verbose=1)\n",
    "clf_lr.fit(X_train_fs_pre[list(var_imp_clf_rf_inter[var_imp_clf_rf_inter.imp>0.029].vars)], Y_train_sm)\n",
    "\n",
    "print('Test Results')\n",
    "print(\"Accuracy: \",clf_lr.score(X_test_fs_pre[list(var_imp_clf_rf_inter[var_imp_clf_rf_inter.imp>0.029].vars)], y_test))\n",
    "print(\"Recall: \",recall_score(y_test, clf_lr.predict(X_test_fs_pre[list(var_imp_clf_rf_inter[var_imp_clf_rf_inter.imp>0.029].vars)])))\n",
    "print(\"Precision: \",precision_score(y_test, clf_lr.predict(X_test_fs_pre[list(var_imp_clf_rf_inter[var_imp_clf_rf_inter.imp>0.029].vars)])))\n",
    "print(\"ROC AUC: \",roc_auc_score(y_test_transformed, clf_lr.predict_proba(X_test_fs_pre[list(var_imp_clf_rf_inter[var_imp_clf_rf_inter.imp>0.029].vars)]), average='weighted'))"
   ]
  }
 ],
 "metadata": {
  "kernelspec": {
   "display_name": "Python [conda env:tf]",
   "language": "python",
   "name": "conda-env-tf-py"
  },
  "language_info": {
   "codemirror_mode": {
    "name": "ipython",
    "version": 3
   },
   "file_extension": ".py",
   "mimetype": "text/x-python",
   "name": "python",
   "nbconvert_exporter": "python",
   "pygments_lexer": "ipython3",
   "version": "3.6.6"
  }
 },
 "nbformat": 4,
 "nbformat_minor": 2
}
