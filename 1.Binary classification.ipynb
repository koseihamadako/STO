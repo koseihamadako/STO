{
 "cells": [
  {
   "cell_type": "markdown",
   "metadata": {},
   "source": [
    "## Binary regression model"
   ]
  },
  {
   "cell_type": "code",
   "execution_count": 107,
   "metadata": {},
   "outputs": [
    {
     "data": {
      "text/plain": [
       "DataTransformerRegistry.enable('default')"
      ]
     },
     "execution_count": 107,
     "metadata": {},
     "output_type": "execute_result"
    }
   ],
   "source": [
    "from sklearn.ensemble import RandomForestClassifier\n",
    "from sklearn.tree import DecisionTreeClassifier\n",
    "from sklearn.model_selection import train_test_split,StratifiedShuffleSplit\n",
    "from sklearn.metrics import recall_score, roc_auc_score, accuracy_score, precision_score\n",
    "from imblearn.over_sampling import SMOTE\n",
    "import pandas as pd\n",
    "import numpy as np\n",
    "rnd = 12\n",
    "\n",
    "import lightgbm\n",
    "\n",
    "import altair as alt\n",
    "alt.renderers.enable('notebook')\n",
    "alt.data_transformers.enable('default', max_rows=None)"
   ]
  },
  {
   "cell_type": "code",
   "execution_count": 108,
   "metadata": {},
   "outputs": [],
   "source": [
    "# load directly preprocessed dataframe\n",
    "df = pd.read_excel('data/df.xlsx')"
   ]
  },
  {
   "cell_type": "code",
   "execution_count": 109,
   "metadata": {},
   "outputs": [],
   "source": [
    "model_vars = ['customer_id','hour','weekday',\n",
    "              'prch_freq','prch_last','prch_mean_diff',\n",
    "              'cart_freq','cart_last','cart_mean_diff',\n",
    "              'view_freq','view_last','view_mean_diff',\n",
    "              'sess_freq','sess_last','sess_mean_diff',\n",
    "              'email_freq','email_last','email_mean_diff']\n",
    "model_df = df[model_vars]\n",
    "Y = df.response"
   ]
  },
  {
   "cell_type": "code",
   "execution_count": 110,
   "metadata": {},
   "outputs": [],
   "source": [
    "df = model_df\n",
    "#for col in ['weekday']:\n",
    "#    dummies = pd.get_dummies(df[col], prefix=col)\n",
    "#    to_del = pd.get_dummies(df[col], prefix=col).columns[0]\n",
    "#    dummies.drop(labels=to_del, axis=1, inplace=True)\n",
    "#    df = pd.concat([df,dummies],axis=1)\n",
    "#    df.drop([col],axis=1, inplace=True)\n",
    "\n",
    "X = df"
   ]
  },
  {
   "cell_type": "markdown",
   "metadata": {},
   "source": [
    "# Preprocessing"
   ]
  },
  {
   "cell_type": "code",
   "execution_count": 111,
   "metadata": {},
   "outputs": [
    {
     "name": "stdout",
     "output_type": "stream",
     "text": [
      "(56272, 18) (56272,)\n",
      "(6253, 18) (6253,)\n"
     ]
    }
   ],
   "source": [
    "X_train, X_test, y_train, y_test = train_test_split(X, Y, test_size=0.1, random_state=rnd, stratify=Y)\n",
    "y_train = np.ravel(y_train)\n",
    "y_test = np.ravel(y_test)\n",
    "y_test_transformed = np.hstack((1 - y_test.reshape(y_test.size,1),\n",
    "                                y_test.reshape(y_test.size,1)))\n",
    "\n",
    "print(X_train.shape, y_train.shape)\n",
    "print(X_test.shape, y_test.shape)"
   ]
  },
  {
   "cell_type": "markdown",
   "metadata": {},
   "source": [
    "# Simple frequency based approach"
   ]
  },
  {
   "cell_type": "code",
   "execution_count": null,
   "metadata": {},
   "outputs": [],
   "source": [
    "simple = X_train[['hour','weekday']]\n",
    "simple['response'] = y_train"
   ]
  },
  {
   "cell_type": "code",
   "execution_count": null,
   "metadata": {},
   "outputs": [],
   "source": [
    "# take just 10+ delivered timewindows\n",
    "sub = simple.groupby(['weekday', 'hour']).size().reset_index()\n",
    "sub.columns\n",
    "sub = sub[sub[0]>50]\n",
    "sub['id'] = sub.weekday.astype(str) + 'id' + sub.hour.astype(str)\n",
    "simple['id'] = simple.weekday.astype(str) + 'id' + simple.hour.astype(str)\n",
    "sbset = simple[simple.id.isin(sub.id.tolist())]"
   ]
  },
  {
   "cell_type": "code",
   "execution_count": null,
   "metadata": {},
   "outputs": [],
   "source": [
    "sbset = sbset.groupby(['weekday','hour']).mean().reset_index()\n",
    "sbset.sort_values(by='response',ascending=False,inplace=True)\n",
    "sbset.drop_duplicates('weekday',inplace=True)\n",
    "sbset['id'] = sbset.weekday.astype(str) + 'id' + sbset.hour.astype(str)\n",
    "X_test['id'] = X_test.weekday.astype(str) + 'id' + X_test.hour.astype(str)\n",
    "sbset"
   ]
  },
  {
   "cell_type": "code",
   "execution_count": 115,
   "metadata": {},
   "outputs": [],
   "source": [
    "pred = []\n",
    "for i,row in X_test.iterrows():\n",
    "    #print(row.id)\n",
    "    if row.id in(sbset.id.tolist()):\n",
    "        pred.append(1)\n",
    "    else:\n",
    "        pred.append(0)    "
   ]
  },
  {
   "cell_type": "code",
   "execution_count": 116,
   "metadata": {},
   "outputs": [
    {
     "name": "stdout",
     "output_type": "stream",
     "text": [
      "Test Results\n",
      "Accuracy:  0.569326723172877\n",
      "Recall:  0.44804765056254137\n",
      "Precision:  0.2669558359621451\n"
     ]
    }
   ],
   "source": [
    "print('Test Results')\n",
    "print(\"Accuracy: \",accuracy_score(pred, y_test))\n",
    "print(\"Recall: \",recall_score(y_test, pred))\n",
    "print(\"Precision: \",precision_score(y_test, pred))"
   ]
  },
  {
   "cell_type": "code",
   "execution_count": 117,
   "metadata": {},
   "outputs": [
    {
     "data": {
      "application/javascript": [
       "var spec = {\"config\": {\"view\": {\"width\": 400, \"height\": 300}}, \"layer\": [{\"data\": {\"name\": \"data-aff732dfa01ffa0c70feeb2e3107901f\"}, \"mark\": \"bar\", \"encoding\": {\"x\": {\"type\": \"quantitative\", \"axis\": {\"title\": \"\"}, \"field\": \"b\", \"scale\": {\"domain\": [0, 1]}}, \"y\": {\"type\": \"nominal\", \"axis\": {\"title\": \"Metric\"}, \"field\": \"a\"}}, \"title\": \"Semi-personalized Model: Test set evaluation\"}, {\"data\": {\"name\": \"data-aff732dfa01ffa0c70feeb2e3107901f\"}, \"mark\": {\"type\": \"text\", \"align\": \"left\", \"baseline\": \"middle\", \"dx\": 3}, \"encoding\": {\"text\": {\"type\": \"quantitative\", \"field\": \"b\"}, \"x\": {\"type\": \"quantitative\", \"axis\": {\"title\": \"\"}, \"field\": \"b\", \"scale\": {\"domain\": [0, 1]}}, \"y\": {\"type\": \"nominal\", \"axis\": {\"title\": \"Metric\"}, \"field\": \"a\"}}, \"title\": \"Semi-personalized Model: Test set evaluation\"}], \"$schema\": \"https://vega.github.io/schema/vega-lite/v2.6.0.json\", \"datasets\": {\"data-aff732dfa01ffa0c70feeb2e3107901f\": [{\"a\": \"Accuracy\", \"b\": 0.57}, {\"a\": \"Recall\", \"b\": 0.45}, {\"a\": \"Precision\", \"b\": 0.27}]}};\n",
       "var opt = {};\n",
       "var type = \"vega-lite\";\n",
       "var id = \"49ecff49-dad8-4c54-aa45-3d5bd2082245\";\n",
       "\n",
       "var output_area = this;\n",
       "\n",
       "require([\"nbextensions/jupyter-vega/index\"], function(vega) {\n",
       "  var target = document.createElement(\"div\");\n",
       "  target.id = id;\n",
       "  target.className = \"vega-embed\";\n",
       "\n",
       "  var style = document.createElement(\"style\");\n",
       "  style.textContent = [\n",
       "    \".vega-embed .error p {\",\n",
       "    \"  color: firebrick;\",\n",
       "    \"  font-size: 14px;\",\n",
       "    \"}\",\n",
       "  ].join(\"\\\\n\");\n",
       "\n",
       "  // element is a jQuery wrapped DOM element inside the output area\n",
       "  // see http://ipython.readthedocs.io/en/stable/api/generated/\\\n",
       "  // IPython.display.html#IPython.display.Javascript.__init__\n",
       "  element[0].appendChild(target);\n",
       "  element[0].appendChild(style);\n",
       "\n",
       "  vega.render(\"#\" + id, spec, type, opt, output_area);\n",
       "}, function (err) {\n",
       "  if (err.requireType !== \"scripterror\") {\n",
       "    throw(err);\n",
       "  }\n",
       "});\n"
      ],
      "text/plain": [
       "<vega.vegalite.VegaLite at 0x17b2cdd8>"
      ]
     },
     "metadata": {
      "jupyter-vega": "#49ecff49-dad8-4c54-aa45-3d5bd2082245"
     },
     "output_type": "display_data"
    },
    {
     "data": {
      "text/plain": []
     },
     "execution_count": 117,
     "metadata": {},
     "output_type": "execute_result"
    },
    {
     "data": {
      "image/png": "[encoded data removed]"
     },
     "metadata": {
      "jupyter-vega": "#49ecff49-dad8-4c54-aa45-3d5bd2082245"
     },
     "output_type": "display_data"
    }
   ],
   "source": [
    "data = pd.DataFrame({\n",
    "    'a': ['Accuracy','Recall','Precision'],\n",
    "    'b': [round(accuracy_score(pred, y_test),2), round(recall_score(y_test, pred),2), round(precision_score(y_test, pred),2)]\n",
    "})\n",
    "\n",
    "bars = alt.Chart(data).mark_bar().encode(\n",
    "    alt.X('b',scale=alt.Scale(domain=(0, 1)),axis=alt.Axis(title='')),\n",
    "    alt.Y('a',axis=alt.Axis(title='Metric')),\n",
    ").properties(title='Semi-personalized Model: Test set evaluation')\n",
    "\n",
    "text = bars.mark_text(\n",
    "    align='left',\n",
    "    baseline='middle',\n",
    "    dx=3\n",
    ").encode(\n",
    "    text='b'\n",
    ")\n",
    "\n",
    "bars + text"
   ]
  },
  {
   "cell_type": "markdown",
   "metadata": {},
   "source": [
    "## Mode based approach"
   ]
  },
  {
   "cell_type": "code",
   "execution_count": null,
   "metadata": {},
   "outputs": [],
   "source": [
    "md = X_train[['customer_id','hour','weekday']]\n",
    "md['response'] = y_train\n",
    "\n",
    "# determining only valid customers based on sample\n",
    "md['freq'] = md[md.response==1].groupby('customer_id')['customer_id'].transform('count')\n",
    "md = md[md.freq > 3]\n",
    "md.drop('freq',1,inplace=True)"
   ]
  },
  {
   "cell_type": "code",
   "execution_count": 119,
   "metadata": {},
   "outputs": [],
   "source": [
    "# modes for weekday and hour\n",
    "mp = md[['customer_id','hour','weekday']].groupby(['customer_id','weekday']).apply(pd.DataFrame.mode).reset_index(drop=True)"
   ]
  },
  {
   "cell_type": "code",
   "execution_count": null,
   "metadata": {},
   "outputs": [],
   "source": [
    "mp.dropna(inplace=True)\n",
    "mp.weekday = mp.weekday.astype(int)\n",
    "mp['id'] = mp.weekday.astype(str) + 'id' + mp.hour.astype(str)\n",
    "mp['id2'] = mp.customer_id.astype(str) + ' - ' + mp.weekday.astype(str) + ' - ' + mp.hour.astype(str)\n",
    "X_test['id2'] = X_test.customer_id.astype(str) + ' - ' + X_test.weekday.astype(str) + ' - ' + X_test.hour.astype(str)\n",
    "X_test['id'] = X_test.weekday.astype(str) + 'id' + X_test.hour.astype(str)"
   ]
  },
  {
   "cell_type": "code",
   "execution_count": 121,
   "metadata": {},
   "outputs": [],
   "source": [
    "# predictions\n",
    "\n",
    "pred = []\n",
    "for i,row in X_test.iterrows():\n",
    "    # check if it is customer's mode hour for the weekday\n",
    "    if row.id2 in(mp.id2.tolist()):\n",
    "        pred.append(1)\n",
    "    # check if it is mode for weekday in the population\n",
    "    elif row.id in(sbset.id.tolist()):\n",
    "        pred.append(1)\n",
    "    else:    \n",
    "        pred.append(0)    "
   ]
  },
  {
   "cell_type": "code",
   "execution_count": 122,
   "metadata": {},
   "outputs": [
    {
     "name": "stdout",
     "output_type": "stream",
     "text": [
      "Test Results\n",
      "Accuracy:  0.5619702542779466\n",
      "Recall:  0.6161482461945731\n",
      "Precision:  0.301294498381877\n"
     ]
    }
   ],
   "source": [
    "print('Test Results')\n",
    "print(\"Accuracy: \",accuracy_score(pred, y_test))\n",
    "print(\"Recall: \",recall_score(y_test, pred))\n",
    "print(\"Precision: \",precision_score(y_test, pred))"
   ]
  },
  {
   "cell_type": "code",
   "execution_count": 123,
   "metadata": {},
   "outputs": [
    {
     "data": {
      "application/javascript": [
       "var spec = {\"config\": {\"view\": {\"width\": 400, \"height\": 300}}, \"layer\": [{\"data\": {\"name\": \"data-4b56cb51ed7881a068f79c8add1f685f\"}, \"mark\": \"bar\", \"encoding\": {\"x\": {\"type\": \"quantitative\", \"axis\": {\"title\": \"\"}, \"field\": \"b\", \"scale\": {\"domain\": [0, 1]}}, \"y\": {\"type\": \"nominal\", \"axis\": {\"title\": \"Metric\"}, \"field\": \"a\"}}, \"title\": \"Semi-Personalized Model: Test set evaluation\"}, {\"data\": {\"name\": \"data-4b56cb51ed7881a068f79c8add1f685f\"}, \"mark\": {\"type\": \"text\", \"align\": \"left\", \"baseline\": \"middle\", \"dx\": 3}, \"encoding\": {\"text\": {\"type\": \"quantitative\", \"field\": \"b\"}, \"x\": {\"type\": \"quantitative\", \"axis\": {\"title\": \"\"}, \"field\": \"b\", \"scale\": {\"domain\": [0, 1]}}, \"y\": {\"type\": \"nominal\", \"axis\": {\"title\": \"Metric\"}, \"field\": \"a\"}}, \"title\": \"Semi-Personalized Model: Test set evaluation\"}], \"$schema\": \"https://vega.github.io/schema/vega-lite/v2.6.0.json\", \"datasets\": {\"data-4b56cb51ed7881a068f79c8add1f685f\": [{\"a\": \"Accuracy\", \"b\": 0.56}, {\"a\": \"Recall\", \"b\": 0.62}, {\"a\": \"Precision\", \"b\": 0.3}]}};\n",
       "var opt = {};\n",
       "var type = \"vega-lite\";\n",
       "var id = \"8456911f-8edc-49aa-8fcd-79c47a1595de\";\n",
       "\n",
       "var output_area = this;\n",
       "\n",
       "require([\"nbextensions/jupyter-vega/index\"], function(vega) {\n",
       "  var target = document.createElement(\"div\");\n",
       "  target.id = id;\n",
       "  target.className = \"vega-embed\";\n",
       "\n",
       "  var style = document.createElement(\"style\");\n",
       "  style.textContent = [\n",
       "    \".vega-embed .error p {\",\n",
       "    \"  color: firebrick;\",\n",
       "    \"  font-size: 14px;\",\n",
       "    \"}\",\n",
       "  ].join(\"\\\\n\");\n",
       "\n",
       "  // element is a jQuery wrapped DOM element inside the output area\n",
       "  // see http://ipython.readthedocs.io/en/stable/api/generated/\\\n",
       "  // IPython.display.html#IPython.display.Javascript.__init__\n",
       "  element[0].appendChild(target);\n",
       "  element[0].appendChild(style);\n",
       "\n",
       "  vega.render(\"#\" + id, spec, type, opt, output_area);\n",
       "}, function (err) {\n",
       "  if (err.requireType !== \"scripterror\") {\n",
       "    throw(err);\n",
       "  }\n",
       "});\n"
      ],
      "text/plain": [
       "<vega.vegalite.VegaLite at 0x16ee4eb8>"
      ]
     },
     "metadata": {
      "jupyter-vega": "#8456911f-8edc-49aa-8fcd-79c47a1595de"
     },
     "output_type": "display_data"
    },
    {
     "data": {
      "text/plain": []
     },
     "execution_count": 123,
     "metadata": {},
     "output_type": "execute_result"
    },
    {
     "data": {
      "image/png": "[encoded data removed]"
     },
     "metadata": {
      "jupyter-vega": "#8456911f-8edc-49aa-8fcd-79c47a1595de"
     },
     "output_type": "display_data"
    }
   ],
   "source": [
    "data = pd.DataFrame({\n",
    "    'a': ['Accuracy','Recall','Precision'],\n",
    "    'b': [round(accuracy_score(pred, y_test),2), round(recall_score(y_test, pred),2), round(precision_score(y_test, pred),2)]\n",
    "})\n",
    "\n",
    "bars = alt.Chart(data).mark_bar().encode(\n",
    "    alt.X('b',scale=alt.Scale(domain=(0, 1)),axis=alt.Axis(title='')),\n",
    "    alt.Y('a',axis=alt.Axis(title='Metric')),\n",
    ").properties(title='Semi-Personalized Model: Test set evaluation')\n",
    "\n",
    "text = bars.mark_text(\n",
    "    align='left',\n",
    "    baseline='middle',\n",
    "    dx=3\n",
    ").encode(\n",
    "    text='b'\n",
    ")\n",
    "\n",
    "bars + text"
   ]
  },
  {
   "cell_type": "markdown",
   "metadata": {},
   "source": [
    "# SMOTE"
   ]
  },
  {
   "cell_type": "code",
   "execution_count": null,
   "metadata": {},
   "outputs": [],
   "source": [
    "# SMOTE\n",
    "X_test.drop(['id','id2','customer_id'],1,inplace=True)\n",
    "X_train.drop(['customer_id'],1,inplace=True)\n",
    "sm = SMOTE(random_state=rnd, ratio = 1.0)\n",
    "X_train_sm,Y_train_sm = sm.fit_sample(X_train, y_train)\n",
    "X_train_sm = pd.DataFrame(X_train_sm)\n",
    "X_train_sm.columns = X_train.columns\n",
    "X_train_sm.weekday = X_train_sm.weekday.astype(int)\n",
    "#X_train_sm.hour = X_train_sm.hour.astype(int)"
   ]
  },
  {
   "cell_type": "code",
   "execution_count": 125,
   "metadata": {},
   "outputs": [
    {
     "data": {
      "text/plain": [
       "(85340, 17)"
      ]
     },
     "execution_count": 125,
     "metadata": {},
     "output_type": "execute_result"
    }
   ],
   "source": [
    "X_train_sm.shape"
   ]
  },
  {
   "cell_type": "code",
   "execution_count": 126,
   "metadata": {},
   "outputs": [],
   "source": [
    "y_test = np.ravel(y_test)\n",
    "y_test_transformed = np.hstack((1 - y_test.reshape(y_test.size,1),\n",
    "                                y_test.reshape(y_test.size,1)))"
   ]
  },
  {
   "cell_type": "markdown",
   "metadata": {},
   "source": [
    "# Model for new customers"
   ]
  },
  {
   "cell_type": "code",
   "execution_count": 127,
   "metadata": {},
   "outputs": [],
   "source": [
    "# change naming since xgboost has problems with this\n",
    "X_train_naive = X_train_sm[['weekday','hour']]"
   ]
  },
  {
   "cell_type": "code",
   "execution_count": 16,
   "metadata": {},
   "outputs": [
    {
     "data": {
      "text/plain": [
       "DecisionTreeClassifier(class_weight=None, criterion='gini', max_depth=3,\n",
       "            max_features=None, max_leaf_nodes=None,\n",
       "            min_impurity_decrease=0.0, min_impurity_split=None,\n",
       "            min_samples_leaf=1, min_samples_split=2,\n",
       "            min_weight_fraction_leaf=0.0, presort=False, random_state=12,\n",
       "            splitter='best')"
      ]
     },
     "execution_count": 16,
     "metadata": {},
     "output_type": "execute_result"
    }
   ],
   "source": [
    "# quick RF model based on whole dataset\n",
    "clf_rf_naive = DecisionTreeClassifier(random_state=rnd,max_depth=3)\n",
    "clf_rf_naive.fit(X_train_naive, Y_train_sm)"
   ]
  },
  {
   "cell_type": "code",
   "execution_count": 17,
   "metadata": {},
   "outputs": [
    {
     "name": "stdout",
     "output_type": "stream",
     "text": [
      "Validation Results\n",
      "Accuracy:  0.4343515112745882\n",
      "Recall:  0.585043017868961\n",
      "Precision:  0.23299947285187136\n",
      "ROC AUC:  0.4885100295010777\n"
     ]
    }
   ],
   "source": [
    "print('Validation Results')\n",
    "print(\"Accuracy: \",clf_rf_naive.score(X_test[['weekday','hour']], y_test))\n",
    "print(\"Recall: \",recall_score(y_test, clf_rf_naive.predict(X_test[['weekday','hour']])))\n",
    "print(\"Precision: \",precision_score(y_test, clf_rf_naive.predict(X_test[['weekday','hour']])))\n",
    "print(\"ROC AUC: \",roc_auc_score(y_test_transformed, clf_rf_naive.predict_proba(X_test[['weekday','hour']]),\n",
    "                                average='weighted'))"
   ]
  },
  {
   "cell_type": "code",
   "execution_count": 18,
   "metadata": {},
   "outputs": [
    {
     "data": {
      "application/javascript": [
       "var spec = {\"config\": {\"view\": {\"width\": 400, \"height\": 300}}, \"layer\": [{\"data\": {\"name\": \"data-06fc48ee3536f72c02fe1f2e40249987\"}, \"mark\": \"bar\", \"encoding\": {\"x\": {\"type\": \"quantitative\", \"axis\": {\"title\": \"\"}, \"field\": \"b\", \"scale\": {\"domain\": [0, 1]}}, \"y\": {\"type\": \"nominal\", \"axis\": {\"title\": \"Metric\"}, \"field\": \"a\"}}, \"title\": \"Decision Tree Model: Test set evaluation\"}, {\"data\": {\"name\": \"data-06fc48ee3536f72c02fe1f2e40249987\"}, \"mark\": {\"type\": \"text\", \"align\": \"left\", \"baseline\": \"middle\", \"dx\": 3}, \"encoding\": {\"text\": {\"type\": \"quantitative\", \"field\": \"b\"}, \"x\": {\"type\": \"quantitative\", \"axis\": {\"title\": \"\"}, \"field\": \"b\", \"scale\": {\"domain\": [0, 1]}}, \"y\": {\"type\": \"nominal\", \"axis\": {\"title\": \"Metric\"}, \"field\": \"a\"}}, \"title\": \"Decision Tree Model: Test set evaluation\"}], \"$schema\": \"https://vega.github.io/schema/vega-lite/v2.6.0.json\", \"datasets\": {\"data-06fc48ee3536f72c02fe1f2e40249987\": [{\"a\": \"Accuracy\", \"b\": 0.43}, {\"a\": \"Recall\", \"b\": 0.59}, {\"a\": \"Precision\", \"b\": 0.23}, {\"a\": \"ROC AUC\", \"b\": 0.49}]}};\n",
       "var opt = {};\n",
       "var type = \"vega-lite\";\n",
       "var id = \"e64c7eb1-2908-40ac-8efc-c6b5f5853598\";\n",
       "\n",
       "var output_area = this;\n",
       "\n",
       "require([\"nbextensions/jupyter-vega/index\"], function(vega) {\n",
       "  var target = document.createElement(\"div\");\n",
       "  target.id = id;\n",
       "  target.className = \"vega-embed\";\n",
       "\n",
       "  var style = document.createElement(\"style\");\n",
       "  style.textContent = [\n",
       "    \".vega-embed .error p {\",\n",
       "    \"  color: firebrick;\",\n",
       "    \"  font-size: 14px;\",\n",
       "    \"}\",\n",
       "  ].join(\"\\\\n\");\n",
       "\n",
       "  // element is a jQuery wrapped DOM element inside the output area\n",
       "  // see http://ipython.readthedocs.io/en/stable/api/generated/\\\n",
       "  // IPython.display.html#IPython.display.Javascript.__init__\n",
       "  element[0].appendChild(target);\n",
       "  element[0].appendChild(style);\n",
       "\n",
       "  vega.render(\"#\" + id, spec, type, opt, output_area);\n",
       "}, function (err) {\n",
       "  if (err.requireType !== \"scripterror\") {\n",
       "    throw(err);\n",
       "  }\n",
       "});\n"
      ],
      "text/plain": [
       "<vega.vegalite.VegaLite at 0x1c3a4e48>"
      ]
     },
     "metadata": {
      "jupyter-vega": "#e64c7eb1-2908-40ac-8efc-c6b5f5853598"
     },
     "output_type": "display_data"
    },
    {
     "data": {
      "text/plain": []
     },
     "execution_count": 18,
     "metadata": {},
     "output_type": "execute_result"
    },
    {
     "data": {
      "image/png": "[encoded data removed]"
     },
     "metadata": {
      "jupyter-vega": "#e64c7eb1-2908-40ac-8efc-c6b5f5853598"
     },
     "output_type": "display_data"
    },
    {
     "data": {
      "image/png": "[encoded data removed]"
     },
     "metadata": {
      "jupyter-vega": "#e64c7eb1-2908-40ac-8efc-c6b5f5853598"
     },
     "output_type": "display_data"
    }
   ],
   "source": [
    "data = pd.DataFrame({\n",
    "    'a': ['Accuracy','Recall','Precision','ROC AUC'],\n",
    "    'b': [round(clf_rf_naive.score(X_test[['weekday','hour']], y_test),2),\n",
    "          round(recall_score(y_test, clf_rf_naive.predict(X_test[['weekday','hour']])),2), \n",
    "          round(precision_score(y_test, clf_rf_naive.predict(X_test[['weekday','hour']])),2),\n",
    "          round(roc_auc_score(y_test_transformed, clf_rf_naive.predict_proba(X_test[['weekday','hour']]),\n",
    "                                average='weighted'),2)]\n",
    "})\n",
    "\n",
    "bars = alt.Chart(data).mark_bar().encode(\n",
    "    alt.X('b',scale=alt.Scale(domain=(0, 1)),axis=alt.Axis(title='')),\n",
    "    alt.Y('a',axis=alt.Axis(title='Metric')),\n",
    ").properties(title='Decision Tree Model: Test set evaluation')\n",
    "\n",
    "text = bars.mark_text(\n",
    "    align='left',\n",
    "    baseline='middle',\n",
    "    dx=3\n",
    ").encode(\n",
    "    text='b'\n",
    ")\n",
    "\n",
    "bars + text"
   ]
  },
  {
   "cell_type": "code",
   "execution_count": 19,
   "metadata": {},
   "outputs": [
    {
     "data": {
      "image/png": "[encoded data removed]",
      "text/plain": [
       "<IPython.core.display.Image object>"
      ]
     },
     "execution_count": 19,
     "metadata": {},
     "output_type": "execute_result"
    }
   ],
   "source": [
    "import pydotplus\n",
    "from sklearn import tree\n",
    "from IPython.display import Image \n",
    "# Create DOT data\n",
    "dot_data = tree.export_graphviz(clf_rf_naive, out_file=None,\n",
    "                               feature_names=['weekday','hour'],class_names=['Not','Open'],\n",
    "                                rounded=True,\n",
    "                               )\n",
    "\n",
    "# Draw graph\n",
    "graph = pydotplus.graph_from_dot_data(dot_data)  \n",
    "\n",
    "# Show graph\n",
    "Image(graph.create_png())"
   ]
  },
  {
   "cell_type": "markdown",
   "metadata": {},
   "source": [
    "## Tuned Decision Tree"
   ]
  },
  {
   "cell_type": "code",
   "execution_count": 27,
   "metadata": {},
   "outputs": [
    {
     "name": "stdout",
     "output_type": "stream",
     "text": [
      "0.8910866962314462\n",
      "{'max_depth': 11}\n"
     ]
    }
   ],
   "source": [
    "from sklearn.model_selection import GridSearchCV, RandomizedSearchCV\n",
    "\n",
    "clf_dt = DecisionTreeClassifier()\n",
    "\n",
    "CV_SSS = StratifiedShuffleSplit(n_splits=5, test_size=0.33, random_state=rnd)\n",
    "\n",
    "dt_param_grid = {\n",
    "                  'max_depth': np.arange(1, 25, 1),\n",
    "                 }\n",
    "\n",
    "random_grid_dt_CV = GridSearchCV(clf_dt,\n",
    "                                        dt_param_grid,\n",
    "                                        scoring = 'roc_auc',\n",
    "                                        cv = CV_SSS)#,\n",
    "                                        #n_iter = 5)\n",
    "random_grid_dt_CV.fit(X_train_sm, Y_train_sm)\n",
    "print(random_grid_dt_CV.best_score_)\n",
    "print(random_grid_dt_CV.best_params_)"
   ]
  },
  {
   "cell_type": "code",
   "execution_count": 29,
   "metadata": {},
   "outputs": [
    {
     "data": {
      "text/plain": [
       "DecisionTreeClassifier(class_weight=None, criterion='gini', max_depth=11,\n",
       "            max_features=None, max_leaf_nodes=None,\n",
       "            min_impurity_decrease=0.0, min_impurity_split=None,\n",
       "            min_samples_leaf=1, min_samples_split=2,\n",
       "            min_weight_fraction_leaf=0.0, presort=False, random_state=12,\n",
       "            splitter='best')"
      ]
     },
     "execution_count": 29,
     "metadata": {},
     "output_type": "execute_result"
    }
   ],
   "source": [
    "# quick RF model based on whole dataset\n",
    "clf_dt = DecisionTreeClassifier(random_state=rnd,max_depth=11)\n",
    "clf_dt.fit(X_train_naive, Y_train_sm)"
   ]
  },
  {
   "cell_type": "code",
   "execution_count": 30,
   "metadata": {},
   "outputs": [
    {
     "name": "stdout",
     "output_type": "stream",
     "text": [
      "Validation Results\n",
      "Accuracy:  0.7334079641771949\n",
      "Recall:  0.062210456651224356\n",
      "Precision:  0.27325581395348836\n",
      "ROC AUC:  0.5169373002313138\n"
     ]
    }
   ],
   "source": [
    "print('Validation Results')\n",
    "print(\"Accuracy: \",clf_dt.score(X_test[['weekday','hour']], y_test))\n",
    "print(\"Recall: \",recall_score(y_test, clf_dt.predict(X_test[['weekday','hour']])))\n",
    "print(\"Precision: \",precision_score(y_test, clf_dt.predict(X_test[['weekday','hour']])))\n",
    "print(\"ROC AUC: \",roc_auc_score(y_test_transformed, clf_dt.predict_proba(X_test[['weekday','hour']]),\n",
    "                                average='weighted'))"
   ]
  },
  {
   "cell_type": "code",
   "execution_count": 31,
   "metadata": {},
   "outputs": [
    {
     "data": {
      "application/javascript": [
       "var spec = {\"config\": {\"view\": {\"width\": 400, \"height\": 300}}, \"layer\": [{\"data\": {\"name\": \"data-1457a311a0be1e51ed87b1277fd3f61b\"}, \"mark\": \"bar\", \"encoding\": {\"x\": {\"type\": \"quantitative\", \"axis\": {\"title\": \"\"}, \"field\": \"b\", \"scale\": {\"domain\": [0, 1]}}, \"y\": {\"type\": \"nominal\", \"axis\": {\"title\": \"Metric\"}, \"field\": \"a\"}}, \"title\": \"Decision Tree Model: Test set evaluation\"}, {\"data\": {\"name\": \"data-1457a311a0be1e51ed87b1277fd3f61b\"}, \"mark\": {\"type\": \"text\", \"align\": \"left\", \"baseline\": \"middle\", \"dx\": 3}, \"encoding\": {\"text\": {\"type\": \"quantitative\", \"field\": \"b\"}, \"x\": {\"type\": \"quantitative\", \"axis\": {\"title\": \"\"}, \"field\": \"b\", \"scale\": {\"domain\": [0, 1]}}, \"y\": {\"type\": \"nominal\", \"axis\": {\"title\": \"Metric\"}, \"field\": \"a\"}}, \"title\": \"Decision Tree Model: Test set evaluation\"}], \"$schema\": \"https://vega.github.io/schema/vega-lite/v2.6.0.json\", \"datasets\": {\"data-1457a311a0be1e51ed87b1277fd3f61b\": [{\"a\": \"Accuracy\", \"b\": 0.73}, {\"a\": \"Recall\", \"b\": 0.06}, {\"a\": \"Precision\", \"b\": 0.27}, {\"a\": \"ROC AUC\", \"b\": 0.52}]}};\n",
       "var opt = {};\n",
       "var type = \"vega-lite\";\n",
       "var id = \"f2d4d71c-c155-4be0-bbb3-27136869a900\";\n",
       "\n",
       "var output_area = this;\n",
       "\n",
       "require([\"nbextensions/jupyter-vega/index\"], function(vega) {\n",
       "  var target = document.createElement(\"div\");\n",
       "  target.id = id;\n",
       "  target.className = \"vega-embed\";\n",
       "\n",
       "  var style = document.createElement(\"style\");\n",
       "  style.textContent = [\n",
       "    \".vega-embed .error p {\",\n",
       "    \"  color: firebrick;\",\n",
       "    \"  font-size: 14px;\",\n",
       "    \"}\",\n",
       "  ].join(\"\\\\n\");\n",
       "\n",
       "  // element is a jQuery wrapped DOM element inside the output area\n",
       "  // see http://ipython.readthedocs.io/en/stable/api/generated/\\\n",
       "  // IPython.display.html#IPython.display.Javascript.__init__\n",
       "  element[0].appendChild(target);\n",
       "  element[0].appendChild(style);\n",
       "\n",
       "  vega.render(\"#\" + id, spec, type, opt, output_area);\n",
       "}, function (err) {\n",
       "  if (err.requireType !== \"scripterror\") {\n",
       "    throw(err);\n",
       "  }\n",
       "});\n"
      ],
      "text/plain": [
       "<vega.vegalite.VegaLite at 0x5683c88>"
      ]
     },
     "metadata": {
      "jupyter-vega": "#f2d4d71c-c155-4be0-bbb3-27136869a900"
     },
     "output_type": "display_data"
    },
    {
     "data": {
      "text/plain": []
     },
     "execution_count": 31,
     "metadata": {},
     "output_type": "execute_result"
    },
    {
     "data": {
      "image/png": "[encoded data removed]"
     },
     "metadata": {
      "jupyter-vega": "#f2d4d71c-c155-4be0-bbb3-27136869a900"
     },
     "output_type": "display_data"
    },
    {
     "data": {
      "image/png": "[encoded data removed]"
     },
     "metadata": {
      "jupyter-vega": "#f2d4d71c-c155-4be0-bbb3-27136869a900"
     },
     "output_type": "display_data"
    }
   ],
   "source": [
    "data = pd.DataFrame({\n",
    "    'a': ['Accuracy','Recall','Precision','ROC AUC'],\n",
    "    'b': [round(clf_dt.score(X_test[['weekday','hour']], y_test),2),\n",
    "          round(recall_score(y_test, clf_dt.predict(X_test[['weekday','hour']])),2), \n",
    "          round(precision_score(y_test, clf_dt.predict(X_test[['weekday','hour']])),2),\n",
    "          round(roc_auc_score(y_test_transformed, clf_dt.predict_proba(X_test[['weekday','hour']]),\n",
    "                                average='weighted'),2)]\n",
    "})\n",
    "\n",
    "bars = alt.Chart(data).mark_bar().encode(\n",
    "    alt.X('b',scale=alt.Scale(domain=(0, 1)),axis=alt.Axis(title='')),\n",
    "    alt.Y('a',axis=alt.Axis(title='Metric')),\n",
    ").properties(title='Decision Tree Model: Test set evaluation')\n",
    "\n",
    "text = bars.mark_text(\n",
    "    align='left',\n",
    "    baseline='middle',\n",
    "    dx=3\n",
    ").encode(\n",
    "    text='b'\n",
    ")\n",
    "\n",
    "bars + text"
   ]
  },
  {
   "cell_type": "markdown",
   "metadata": {},
   "source": [
    "**This is by the way really interesting result even though it was not incorporated to final Report. This is clearly overfitted tree, with tendency to overshoot negative predicitions (hence Recall), was able to obtain 52% AUC ROC and obviously big Accuracy. This ROC can serve as good baseline for other models.**"
   ]
  },
  {
   "cell_type": "markdown",
   "metadata": {},
   "source": [
    "# Baseline RF"
   ]
  },
  {
   "cell_type": "code",
   "execution_count": null,
   "metadata": {},
   "outputs": [],
   "source": [
    "# quick RF model baseline\n",
    "clf_rf = RandomForestClassifier(n_estimators=300, random_state=rnd,verbose=1)\n",
    "clf_rf.fit(X_train_sm, Y_train_sm)"
   ]
  },
  {
   "cell_type": "code",
   "execution_count": null,
   "metadata": {},
   "outputs": [],
   "source": [
    "print('Test Results')\n",
    "print(\"Accuracy: \",clf_rf.score(X_test, y_test))\n",
    "print(\"Recall: \",recall_score(y_test, clf_rf.predict(X_test)))\n",
    "print(\"Precision: \",precision_score(y_test, clf_rf.predict(X_test)))\n",
    "print(\"ROC AUC: \",roc_auc_score(y_test_transformed, clf_rf.predict_proba(X_test), average='weighted'))"
   ]
  },
  {
   "cell_type": "code",
   "execution_count": null,
   "metadata": {},
   "outputs": [],
   "source": [
    "var_imp_clf_rf = pd.DataFrame({'vars': X_train_sm.columns,'imp':clf_rf.feature_importances_})\n",
    "var_imp_clf_rf.sort_values(by='imp',ascending=False)"
   ]
  },
  {
   "cell_type": "code",
   "execution_count": null,
   "metadata": {},
   "outputs": [],
   "source": [
    "data = pd.DataFrame({\n",
    "    'a': ['Accuracy','Recall','Precision','ROC AUC'],\n",
    "    'b': [round(clf_rf_naive.score(X_test, y_test),2),\n",
    "          round(recall_score(y_test, clf_rf.predict(X_test)),2), \n",
    "          round(precision_score(y_test, clf_rf.predict(X_test)),2),\n",
    "          round(roc_auc_score(y_test_transformed, clf_rf.predict_proba(X_test),\n",
    "                                average='weighted'),2)]\n",
    "})\n",
    "\n",
    "bars = alt.Chart(data).mark_bar().encode(\n",
    "    alt.X('b',scale=alt.Scale(domain=(0, 1)),axis=alt.Axis(title='')),\n",
    "    alt.Y('a',axis=alt.Axis(title='Metric')),\n",
    ").properties(title='Decision Tree Model: Test set evaluation')\n",
    "\n",
    "text = bars.mark_text(\n",
    "    align='left',\n",
    "    baseline='middle',\n",
    "    dx=3\n",
    ").encode(\n",
    "    text='b'\n",
    ")\n",
    "\n",
    "bars + text"
   ]
  },
  {
   "cell_type": "markdown",
   "metadata": {},
   "source": [
    "## Hyperopt RF"
   ]
  },
  {
   "cell_type": "code",
   "execution_count": null,
   "metadata": {},
   "outputs": [],
   "source": [
    "from sklearn.model_selection import GridSearchCV, RandomizedSearchCV\n",
    "\n",
    "clf_rf = RandomForestClassifier()\n",
    "\n",
    "CV_SSS = StratifiedShuffleSplit(n_splits=5, test_size=0.33, random_state=rnd)\n",
    "\n",
    "rf_param_grid = {\n",
    "                  'n_estimators': np.arange(20, 400, 20),\n",
    "                 }\n",
    "\n",
    "random_grid_rf_CV = RandomizedSearchCV(clf_rf,\n",
    "                                        rf_param_grid,\n",
    "                                        scoring = 'roc_auc',\n",
    "                                        cv = CV_SSS,\n",
    "                                        n_iter = 5)\n",
    "random_grid_rf_CV.fit(X_train_sm, Y_train_sm)\n",
    "print(random_grid_rf_CV.best_score_)\n",
    "print(random_grid_rf_CV.best_params_)"
   ]
  },
  {
   "cell_type": "code",
   "execution_count": null,
   "metadata": {},
   "outputs": [],
   "source": [
    "# quick RF model baseline\n",
    "clf_rf = RandomForestClassifier(n_estimators=380, random_state=rnd,verbose=1)\n",
    "clf_rf.fit(X_train_sm, Y_train_sm)"
   ]
  },
  {
   "cell_type": "code",
   "execution_count": 130,
   "metadata": {},
   "outputs": [
    {
     "name": "stdout",
     "output_type": "stream",
     "text": [
      "Test Results\n"
     ]
    },
    {
     "name": "stderr",
     "output_type": "stream",
     "text": [
      "[Parallel(n_jobs=1)]: Done 380 out of 380 | elapsed:    0.9s finished\n"
     ]
    },
    {
     "name": "stdout",
     "output_type": "stream",
     "text": [
      "Accuracy:  0.8132096593635055\n"
     ]
    },
    {
     "name": "stderr",
     "output_type": "stream",
     "text": [
      "[Parallel(n_jobs=1)]: Done 380 out of 380 | elapsed:    1.0s finished\n"
     ]
    },
    {
     "name": "stdout",
     "output_type": "stream",
     "text": [
      "Recall:  0.5579086697551291\n"
     ]
    },
    {
     "name": "stderr",
     "output_type": "stream",
     "text": [
      "[Parallel(n_jobs=1)]: Done 380 out of 380 | elapsed:    1.3s finished\n"
     ]
    },
    {
     "name": "stdout",
     "output_type": "stream",
     "text": [
      "Precision:  0.5579086697551291\n",
      "ROC AUC:  0.8308758406299817\n"
     ]
    },
    {
     "name": "stderr",
     "output_type": "stream",
     "text": [
      "[Parallel(n_jobs=1)]: Done 380 out of 380 | elapsed:    1.0s finished\n"
     ]
    }
   ],
   "source": [
    "print('Test Results')\n",
    "print(\"Accuracy: \",clf_rf.score(X_test, y_test))\n",
    "print(\"Recall: \",recall_score(y_test, clf_rf.predict(X_test)))\n",
    "print(\"Precision: \",recall_score(y_test, clf_rf.predict(X_test)))\n",
    "print(\"ROC AUC: \",roc_auc_score(y_test_transformed, clf_rf.predict_proba(X_test), average='weighted'))"
   ]
  },
  {
   "cell_type": "code",
   "execution_count": 131,
   "metadata": {},
   "outputs": [
    {
     "data": {
      "text/html": [
       "<div>\n",
       "<style scoped>\n",
       "    .dataframe tbody tr th:only-of-type {\n",
       "        vertical-align: middle;\n",
       "    }\n",
       "\n",
       "    .dataframe tbody tr th {\n",
       "        vertical-align: top;\n",
       "    }\n",
       "\n",
       "    .dataframe thead th {\n",
       "        text-align: right;\n",
       "    }\n",
       "</style>\n",
       "<table border=\"1\" class=\"dataframe\">\n",
       "  <thead>\n",
       "    <tr style=\"text-align: right;\">\n",
       "      <th></th>\n",
       "      <th>vars</th>\n",
       "      <th>imp</th>\n",
       "    </tr>\n",
       "  </thead>\n",
       "  <tbody>\n",
       "    <tr>\n",
       "      <th>14</th>\n",
       "      <td>email_freq</td>\n",
       "      <td>0.244642</td>\n",
       "    </tr>\n",
       "    <tr>\n",
       "      <th>16</th>\n",
       "      <td>email_mean_diff</td>\n",
       "      <td>0.136438</td>\n",
       "    </tr>\n",
       "    <tr>\n",
       "      <th>15</th>\n",
       "      <td>email_last</td>\n",
       "      <td>0.115115</td>\n",
       "    </tr>\n",
       "    <tr>\n",
       "      <th>0</th>\n",
       "      <td>hour</td>\n",
       "      <td>0.093334</td>\n",
       "    </tr>\n",
       "    <tr>\n",
       "      <th>12</th>\n",
       "      <td>sess_last</td>\n",
       "      <td>0.058806</td>\n",
       "    </tr>\n",
       "    <tr>\n",
       "      <th>9</th>\n",
       "      <td>view_last</td>\n",
       "      <td>0.052858</td>\n",
       "    </tr>\n",
       "    <tr>\n",
       "      <th>1</th>\n",
       "      <td>weekday</td>\n",
       "      <td>0.045423</td>\n",
       "    </tr>\n",
       "    <tr>\n",
       "      <th>10</th>\n",
       "      <td>view_mean_diff</td>\n",
       "      <td>0.040728</td>\n",
       "    </tr>\n",
       "    <tr>\n",
       "      <th>8</th>\n",
       "      <td>view_freq</td>\n",
       "      <td>0.040393</td>\n",
       "    </tr>\n",
       "    <tr>\n",
       "      <th>13</th>\n",
       "      <td>sess_mean_diff</td>\n",
       "      <td>0.038795</td>\n",
       "    </tr>\n",
       "    <tr>\n",
       "      <th>11</th>\n",
       "      <td>sess_freq</td>\n",
       "      <td>0.036550</td>\n",
       "    </tr>\n",
       "    <tr>\n",
       "      <th>6</th>\n",
       "      <td>cart_last</td>\n",
       "      <td>0.024398</td>\n",
       "    </tr>\n",
       "    <tr>\n",
       "      <th>7</th>\n",
       "      <td>cart_mean_diff</td>\n",
       "      <td>0.019385</td>\n",
       "    </tr>\n",
       "    <tr>\n",
       "      <th>5</th>\n",
       "      <td>cart_freq</td>\n",
       "      <td>0.018340</td>\n",
       "    </tr>\n",
       "    <tr>\n",
       "      <th>3</th>\n",
       "      <td>prch_last</td>\n",
       "      <td>0.016968</td>\n",
       "    </tr>\n",
       "    <tr>\n",
       "      <th>2</th>\n",
       "      <td>prch_freq</td>\n",
       "      <td>0.014027</td>\n",
       "    </tr>\n",
       "    <tr>\n",
       "      <th>4</th>\n",
       "      <td>prch_mean_diff</td>\n",
       "      <td>0.003802</td>\n",
       "    </tr>\n",
       "  </tbody>\n",
       "</table>\n",
       "</div>"
      ],
      "text/plain": [
       "               vars       imp\n",
       "14       email_freq  0.244642\n",
       "16  email_mean_diff  0.136438\n",
       "15       email_last  0.115115\n",
       "0              hour  0.093334\n",
       "12        sess_last  0.058806\n",
       "9         view_last  0.052858\n",
       "1           weekday  0.045423\n",
       "10   view_mean_diff  0.040728\n",
       "8         view_freq  0.040393\n",
       "13   sess_mean_diff  0.038795\n",
       "11        sess_freq  0.036550\n",
       "6         cart_last  0.024398\n",
       "7    cart_mean_diff  0.019385\n",
       "5         cart_freq  0.018340\n",
       "3         prch_last  0.016968\n",
       "2         prch_freq  0.014027\n",
       "4    prch_mean_diff  0.003802"
      ]
     },
     "execution_count": 131,
     "metadata": {},
     "output_type": "execute_result"
    }
   ],
   "source": [
    "var_imp_clf_rf = pd.DataFrame({'vars': X_train_sm.columns,'imp':clf_rf.feature_importances_})\n",
    "var_imp_clf_rf.sort_values(by='imp',ascending=False)"
   ]
  },
  {
   "cell_type": "code",
   "execution_count": 132,
   "metadata": {},
   "outputs": [
    {
     "name": "stderr",
     "output_type": "stream",
     "text": [
      "[Parallel(n_jobs=1)]: Done 380 out of 380 | elapsed:    0.8s finished\n",
      "[Parallel(n_jobs=1)]: Done 380 out of 380 | elapsed:    0.9s finished\n",
      "[Parallel(n_jobs=1)]: Done 380 out of 380 | elapsed:    1.0s finished\n",
      "[Parallel(n_jobs=1)]: Done 380 out of 380 | elapsed:    1.0s finished\n"
     ]
    },
    {
     "data": {
      "application/javascript": [
       "var spec = {\"config\": {\"view\": {\"width\": 400, \"height\": 300}}, \"layer\": [{\"data\": {\"name\": \"data-49460431a98be00a5175948c8dc3ce11\"}, \"mark\": \"bar\", \"encoding\": {\"x\": {\"type\": \"quantitative\", \"axis\": {\"title\": \"\"}, \"field\": \"b\", \"scale\": {\"domain\": [0, 1]}}, \"y\": {\"type\": \"nominal\", \"axis\": {\"title\": \"Metric\"}, \"field\": \"a\"}}, \"title\": \"Random Forest Model: Test set evaluation\"}, {\"data\": {\"name\": \"data-49460431a98be00a5175948c8dc3ce11\"}, \"mark\": {\"type\": \"text\", \"align\": \"left\", \"baseline\": \"middle\", \"dx\": 3}, \"encoding\": {\"text\": {\"type\": \"quantitative\", \"field\": \"b\"}, \"x\": {\"type\": \"quantitative\", \"axis\": {\"title\": \"\"}, \"field\": \"b\", \"scale\": {\"domain\": [0, 1]}}, \"y\": {\"type\": \"nominal\", \"axis\": {\"title\": \"Metric\"}, \"field\": \"a\"}}, \"title\": \"Random Forest Model: Test set evaluation\"}], \"$schema\": \"https://vega.github.io/schema/vega-lite/v2.6.0.json\", \"datasets\": {\"data-49460431a98be00a5175948c8dc3ce11\": [{\"a\": \"Accuracy\", \"b\": 0.81}, {\"a\": \"Recall\", \"b\": 0.56}, {\"a\": \"Precision\", \"b\": 0.63}, {\"a\": \"ROC AUC\", \"b\": 0.83}]}};\n",
       "var opt = {};\n",
       "var type = \"vega-lite\";\n",
       "var id = \"464eebe7-a343-4c5f-a8df-76310f65a06e\";\n",
       "\n",
       "var output_area = this;\n",
       "\n",
       "require([\"nbextensions/jupyter-vega/index\"], function(vega) {\n",
       "  var target = document.createElement(\"div\");\n",
       "  target.id = id;\n",
       "  target.className = \"vega-embed\";\n",
       "\n",
       "  var style = document.createElement(\"style\");\n",
       "  style.textContent = [\n",
       "    \".vega-embed .error p {\",\n",
       "    \"  color: firebrick;\",\n",
       "    \"  font-size: 14px;\",\n",
       "    \"}\",\n",
       "  ].join(\"\\\\n\");\n",
       "\n",
       "  // element is a jQuery wrapped DOM element inside the output area\n",
       "  // see http://ipython.readthedocs.io/en/stable/api/generated/\\\n",
       "  // IPython.display.html#IPython.display.Javascript.__init__\n",
       "  element[0].appendChild(target);\n",
       "  element[0].appendChild(style);\n",
       "\n",
       "  vega.render(\"#\" + id, spec, type, opt, output_area);\n",
       "}, function (err) {\n",
       "  if (err.requireType !== \"scripterror\") {\n",
       "    throw(err);\n",
       "  }\n",
       "});\n"
      ],
      "text/plain": [
       "<vega.vegalite.VegaLite at 0x1898e780>"
      ]
     },
     "metadata": {
      "jupyter-vega": "#464eebe7-a343-4c5f-a8df-76310f65a06e"
     },
     "output_type": "display_data"
    },
    {
     "data": {
      "text/plain": []
     },
     "execution_count": 132,
     "metadata": {},
     "output_type": "execute_result"
    },
    {
     "data": {
      "image/png": "[encoded data removed]"
     },
     "metadata": {
      "jupyter-vega": "#464eebe7-a343-4c5f-a8df-76310f65a06e"
     },
     "output_type": "display_data"
    }
   ],
   "source": [
    "data = pd.DataFrame({\n",
    "    'a': ['Accuracy','Recall','Precision','ROC AUC'],\n",
    "    'b': [round(clf_rf.score(X_test, y_test),2),\n",
    "          round(recall_score(y_test, clf_rf.predict(X_test)),2), \n",
    "          round(precision_score(y_test, clf_rf.predict(X_test)),2),\n",
    "          round(roc_auc_score(y_test_transformed, clf_rf.predict_proba(X_test),\n",
    "                                average='weighted'),2)]\n",
    "})\n",
    "\n",
    "bars = alt.Chart(data).mark_bar().encode(\n",
    "    alt.X('b',scale=alt.Scale(domain=(0, 1)),axis=alt.Axis(title='')),\n",
    "    alt.Y('a',axis=alt.Axis(title='Metric')),\n",
    ").properties(title='Random Forest Model: Test set evaluation')\n",
    "\n",
    "text = bars.mark_text(\n",
    "    align='left',\n",
    "    baseline='middle',\n",
    "    dx=3\n",
    ").encode(\n",
    "    text='b'\n",
    ")\n",
    "\n",
    "bars + text"
   ]
  },
  {
   "cell_type": "code",
   "execution_count": 134,
   "metadata": {},
   "outputs": [],
   "source": [
    "estimator = clf_rf.estimators_[5]\n",
    "\n",
    "from sklearn.tree import export_graphviz\n",
    "# Export as dot file\n",
    "export_graphviz(estimator, out_file='tree5.dot', \n",
    "                feature_names = X_train.columns,\n",
    "                class_names=['Not','Open'],\n",
    "                rounded = True, proportion = False, \n",
    "                precision = 2, filled = True)"
   ]
  },
  {
   "cell_type": "markdown",
   "metadata": {},
   "source": [
    "# XGBoost"
   ]
  },
  {
   "cell_type": "code",
   "execution_count": 294,
   "metadata": {},
   "outputs": [
    {
     "name": "stdout",
     "output_type": "stream",
     "text": [
      "0.938320474250865\n",
      "{'reg_lambda': 1.8, 'reg_alpha': 1.6, 'n_estimators': 260, 'max_depth': 32, 'learning_rate': 0.4}\n"
     ]
    }
   ],
   "source": [
    "#XGBoost\n",
    "\n",
    "from sklearn.model_selection import StratifiedShuffleSplit, cross_val_score\n",
    "from sklearn.metrics import roc_curve, auc, roc_auc_score, accuracy_score\n",
    "from sklearn.model_selection import GridSearchCV, RandomizedSearchCV\n",
    "import xgboost\n",
    "\n",
    "XGB_Classifier = xgboost.XGBClassifier()\n",
    "\n",
    "CV_SSS = StratifiedShuffleSplit(n_splits=5, test_size=0.33, random_state=rnd)\n",
    "\n",
    "xgb_param_grid = {\n",
    "                  'max_depth': np.arange(2, 40, 2),\n",
    "                  'learning_rate': np.arange(0.2, 2, 0.2),\n",
    "                  'n_estimators': np.arange(20, 400, 20),\n",
    "                  'reg_alpha': np.arange(0, 2, 0.2),\n",
    "                  'reg_lambda': np.arange(0, 2, 0.2)\n",
    "                 }\n",
    "\n",
    "random_grid_XGB_CV = RandomizedSearchCV(XGB_Classifier,\n",
    "                                        xgb_param_grid,\n",
    "                                        scoring = 'roc_auc',\n",
    "                                        cv = CV_SSS,\n",
    "                                        n_iter = 5)\n",
    "random_grid_XGB_CV.fit(X_train_sm, Y_train_sm)\n",
    "print(random_grid_XGB_CV.best_score_)\n",
    "print(random_grid_XGB_CV.best_params_)"
   ]
  },
  {
   "cell_type": "code",
   "execution_count": 295,
   "metadata": {},
   "outputs": [
    {
     "name": "stdout",
     "output_type": "stream",
     "text": [
      "[0.23333333 0.10289855 0.03768116 0.00434783 0.0115942  0.0057971\n",
      " 0.0115942  0.01304348 0.01884058 0.02028986 0.05072464 0.0884058\n",
      " 0.03333334 0.03188406 0.22753623 0.04202899 0.06666667]\n"
     ]
    }
   ],
   "source": [
    "# XGB_Classifier = random_grid_XGB_CV.best_estimator_\n",
    "XGB_Classifier = xgboost.XGBClassifier(params={'reg_lambda': 1.8, 'reg_alpha': 1.6, 'n_estimators': 260, \n",
    "                                               'max_depth': 32, 'learning_rate': 0.4})\n",
    "XGB_Classifier.fit(X_train_sm, Y_train_sm)\n",
    "print(XGB_Classifier.feature_importances_)"
   ]
  },
  {
   "cell_type": "code",
   "execution_count": 296,
   "metadata": {},
   "outputs": [
    {
     "data": {
      "text/plain": [
       "'prch_last'"
      ]
     },
     "execution_count": 296,
     "metadata": {},
     "output_type": "execute_result"
    }
   ],
   "source": [
    "#np.argmin(XGB_Classifier.feature_importances_)\n",
    "y_score = XGB_Classifier.predict_proba(X_test)\n",
    "X_test.columns[np.argmin(XGB_Classifier.feature_importances_)]"
   ]
  },
  {
   "cell_type": "code",
   "execution_count": 297,
   "metadata": {},
   "outputs": [
    {
     "name": "stdout",
     "output_type": "stream",
     "text": [
      "Test Results\n",
      "Accuracy:  0.7890612505997121\n"
     ]
    },
    {
     "name": "stderr",
     "output_type": "stream",
     "text": [
      "C:\\Users\\chladek\\AppData\\Local\\Continuum\\anaconda3-64\\envs\\tf\\lib\\site-packages\\sklearn\\preprocessing\\label.py:151: DeprecationWarning: The truth value of an empty array is ambiguous. Returning False, but in future this will result in an error. Use `array.size > 0` to check that an array is not empty.\n",
      "  if diff:\n",
      "C:\\Users\\chladek\\AppData\\Local\\Continuum\\anaconda3-64\\envs\\tf\\lib\\site-packages\\sklearn\\preprocessing\\label.py:151: DeprecationWarning: The truth value of an empty array is ambiguous. Returning False, but in future this will result in an error. Use `array.size > 0` to check that an array is not empty.\n",
      "  if diff:\n"
     ]
    },
    {
     "name": "stdout",
     "output_type": "stream",
     "text": [
      "Recall:  0.57180675049636\n",
      "Precision:  0.5625\n"
     ]
    },
    {
     "name": "stderr",
     "output_type": "stream",
     "text": [
      "C:\\Users\\chladek\\AppData\\Local\\Continuum\\anaconda3-64\\envs\\tf\\lib\\site-packages\\sklearn\\preprocessing\\label.py:151: DeprecationWarning: The truth value of an empty array is ambiguous. Returning False, but in future this will result in an error. Use `array.size > 0` to check that an array is not empty.\n",
      "  if diff:\n"
     ]
    },
    {
     "name": "stdout",
     "output_type": "stream",
     "text": [
      "ROC AUC:  0.7985404237894412\n"
     ]
    }
   ],
   "source": [
    "print('Test Results')\n",
    "print(\"Accuracy: \",XGB_Classifier.score(X_test, y_test))\n",
    "print(\"Recall: \",recall_score(y_test, XGB_Classifier.predict(X_test)))\n",
    "print(\"Precision: \",precision_score(y_test, XGB_Classifier.predict(X_test)))\n",
    "print(\"ROC AUC: \",roc_auc_score(y_test_transformed, y_score, average='weighted'))"
   ]
  },
  {
   "cell_type": "code",
   "execution_count": 298,
   "metadata": {},
   "outputs": [
    {
     "data": {
      "text/html": [
       "<div>\n",
       "<style scoped>\n",
       "    .dataframe tbody tr th:only-of-type {\n",
       "        vertical-align: middle;\n",
       "    }\n",
       "\n",
       "    .dataframe tbody tr th {\n",
       "        vertical-align: top;\n",
       "    }\n",
       "\n",
       "    .dataframe thead th {\n",
       "        text-align: right;\n",
       "    }\n",
       "</style>\n",
       "<table border=\"1\" class=\"dataframe\">\n",
       "  <thead>\n",
       "    <tr style=\"text-align: right;\">\n",
       "      <th></th>\n",
       "      <th>vars</th>\n",
       "      <th>imp</th>\n",
       "    </tr>\n",
       "  </thead>\n",
       "  <tbody>\n",
       "    <tr>\n",
       "      <th>0</th>\n",
       "      <td>hour</td>\n",
       "      <td>0.233333</td>\n",
       "    </tr>\n",
       "    <tr>\n",
       "      <th>14</th>\n",
       "      <td>email_freq</td>\n",
       "      <td>0.227536</td>\n",
       "    </tr>\n",
       "    <tr>\n",
       "      <th>1</th>\n",
       "      <td>weekday</td>\n",
       "      <td>0.102899</td>\n",
       "    </tr>\n",
       "    <tr>\n",
       "      <th>11</th>\n",
       "      <td>sess_freq</td>\n",
       "      <td>0.088406</td>\n",
       "    </tr>\n",
       "    <tr>\n",
       "      <th>16</th>\n",
       "      <td>email_mean_diff</td>\n",
       "      <td>0.066667</td>\n",
       "    </tr>\n",
       "    <tr>\n",
       "      <th>10</th>\n",
       "      <td>view_mean_diff</td>\n",
       "      <td>0.050725</td>\n",
       "    </tr>\n",
       "    <tr>\n",
       "      <th>15</th>\n",
       "      <td>email_last</td>\n",
       "      <td>0.042029</td>\n",
       "    </tr>\n",
       "    <tr>\n",
       "      <th>2</th>\n",
       "      <td>prch_freq</td>\n",
       "      <td>0.037681</td>\n",
       "    </tr>\n",
       "    <tr>\n",
       "      <th>12</th>\n",
       "      <td>sess_last</td>\n",
       "      <td>0.033333</td>\n",
       "    </tr>\n",
       "    <tr>\n",
       "      <th>13</th>\n",
       "      <td>sess_mean_diff</td>\n",
       "      <td>0.031884</td>\n",
       "    </tr>\n",
       "    <tr>\n",
       "      <th>9</th>\n",
       "      <td>view_last</td>\n",
       "      <td>0.020290</td>\n",
       "    </tr>\n",
       "    <tr>\n",
       "      <th>8</th>\n",
       "      <td>view_freq</td>\n",
       "      <td>0.018841</td>\n",
       "    </tr>\n",
       "    <tr>\n",
       "      <th>7</th>\n",
       "      <td>cart_mean_diff</td>\n",
       "      <td>0.013043</td>\n",
       "    </tr>\n",
       "    <tr>\n",
       "      <th>6</th>\n",
       "      <td>cart_last</td>\n",
       "      <td>0.011594</td>\n",
       "    </tr>\n",
       "    <tr>\n",
       "      <th>4</th>\n",
       "      <td>prch_mean_diff</td>\n",
       "      <td>0.011594</td>\n",
       "    </tr>\n",
       "    <tr>\n",
       "      <th>5</th>\n",
       "      <td>cart_freq</td>\n",
       "      <td>0.005797</td>\n",
       "    </tr>\n",
       "    <tr>\n",
       "      <th>3</th>\n",
       "      <td>prch_last</td>\n",
       "      <td>0.004348</td>\n",
       "    </tr>\n",
       "  </tbody>\n",
       "</table>\n",
       "</div>"
      ],
      "text/plain": [
       "               vars       imp\n",
       "0              hour  0.233333\n",
       "14       email_freq  0.227536\n",
       "1           weekday  0.102899\n",
       "11        sess_freq  0.088406\n",
       "16  email_mean_diff  0.066667\n",
       "10   view_mean_diff  0.050725\n",
       "15       email_last  0.042029\n",
       "2         prch_freq  0.037681\n",
       "12        sess_last  0.033333\n",
       "13   sess_mean_diff  0.031884\n",
       "9         view_last  0.020290\n",
       "8         view_freq  0.018841\n",
       "7    cart_mean_diff  0.013043\n",
       "6         cart_last  0.011594\n",
       "4    prch_mean_diff  0.011594\n",
       "5         cart_freq  0.005797\n",
       "3         prch_last  0.004348"
      ]
     },
     "execution_count": 298,
     "metadata": {},
     "output_type": "execute_result"
    }
   ],
   "source": [
    "var_imp_clf_rf = pd.DataFrame({'vars': X_train_sm.columns,'imp':XGB_Classifier.feature_importances_})\n",
    "var_imp_clf_rf.sort_values(by='imp',ascending=False)"
   ]
  },
  {
   "cell_type": "code",
   "execution_count": 299,
   "metadata": {},
   "outputs": [
    {
     "name": "stderr",
     "output_type": "stream",
     "text": [
      "C:\\Users\\chladek\\AppData\\Local\\Continuum\\anaconda3-64\\envs\\tf\\lib\\site-packages\\sklearn\\preprocessing\\label.py:151: DeprecationWarning: The truth value of an empty array is ambiguous. Returning False, but in future this will result in an error. Use `array.size > 0` to check that an array is not empty.\n",
      "  if diff:\n",
      "C:\\Users\\chladek\\AppData\\Local\\Continuum\\anaconda3-64\\envs\\tf\\lib\\site-packages\\sklearn\\preprocessing\\label.py:151: DeprecationWarning: The truth value of an empty array is ambiguous. Returning False, but in future this will result in an error. Use `array.size > 0` to check that an array is not empty.\n",
      "  if diff:\n",
      "C:\\Users\\chladek\\AppData\\Local\\Continuum\\anaconda3-64\\envs\\tf\\lib\\site-packages\\sklearn\\preprocessing\\label.py:151: DeprecationWarning: The truth value of an empty array is ambiguous. Returning False, but in future this will result in an error. Use `array.size > 0` to check that an array is not empty.\n",
      "  if diff:\n"
     ]
    },
    {
     "data": {
      "application/javascript": [
       "var spec = {\"config\": {\"view\": {\"width\": 400, \"height\": 300}}, \"layer\": [{\"data\": {\"name\": \"data-bf0082b8b4f2a14bbd239a14749d894b\"}, \"mark\": \"bar\", \"encoding\": {\"x\": {\"type\": \"quantitative\", \"axis\": {\"title\": \"\"}, \"field\": \"b\", \"scale\": {\"domain\": [0, 1]}}, \"y\": {\"type\": \"nominal\", \"axis\": {\"title\": \"Metric\"}, \"field\": \"a\"}}, \"title\": \"Decision Tree Model: Test set evaluation\"}, {\"data\": {\"name\": \"data-bf0082b8b4f2a14bbd239a14749d894b\"}, \"mark\": {\"type\": \"text\", \"align\": \"left\", \"baseline\": \"middle\", \"dx\": 3}, \"encoding\": {\"text\": {\"type\": \"quantitative\", \"field\": \"b\"}, \"x\": {\"type\": \"quantitative\", \"axis\": {\"title\": \"\"}, \"field\": \"b\", \"scale\": {\"domain\": [0, 1]}}, \"y\": {\"type\": \"nominal\", \"axis\": {\"title\": \"Metric\"}, \"field\": \"a\"}}, \"title\": \"Decision Tree Model: Test set evaluation\"}], \"$schema\": \"https://vega.github.io/schema/vega-lite/v2.6.0.json\", \"datasets\": {\"data-bf0082b8b4f2a14bbd239a14749d894b\": [{\"a\": \"Accuracy\", \"b\": 0.79}, {\"a\": \"Recall\", \"b\": 0.57}, {\"a\": \"Precision\", \"b\": 0.56}, {\"a\": \"ROC AUC\", \"b\": 0.8}]}};\n",
       "var opt = {};\n",
       "var type = \"vega-lite\";\n",
       "var id = \"b9b744ae-95ab-4273-b66d-4158264ad5fe\";\n",
       "\n",
       "var output_area = this;\n",
       "\n",
       "require([\"nbextensions/jupyter-vega/index\"], function(vega) {\n",
       "  var target = document.createElement(\"div\");\n",
       "  target.id = id;\n",
       "  target.className = \"vega-embed\";\n",
       "\n",
       "  var style = document.createElement(\"style\");\n",
       "  style.textContent = [\n",
       "    \".vega-embed .error p {\",\n",
       "    \"  color: firebrick;\",\n",
       "    \"  font-size: 14px;\",\n",
       "    \"}\",\n",
       "  ].join(\"\\\\n\");\n",
       "\n",
       "  // element is a jQuery wrapped DOM element inside the output area\n",
       "  // see http://ipython.readthedocs.io/en/stable/api/generated/\\\n",
       "  // IPython.display.html#IPython.display.Javascript.__init__\n",
       "  element[0].appendChild(target);\n",
       "  element[0].appendChild(style);\n",
       "\n",
       "  vega.render(\"#\" + id, spec, type, opt, output_area);\n",
       "}, function (err) {\n",
       "  if (err.requireType !== \"scripterror\") {\n",
       "    throw(err);\n",
       "  }\n",
       "});\n"
      ],
      "text/plain": [
       "<vega.vegalite.VegaLite at 0x1a5ea278>"
      ]
     },
     "metadata": {
      "jupyter-vega": "#b9b744ae-95ab-4273-b66d-4158264ad5fe"
     },
     "output_type": "display_data"
    },
    {
     "data": {
      "text/plain": []
     },
     "execution_count": 299,
     "metadata": {},
     "output_type": "execute_result"
    },
    {
     "data": {
      "image/png": "[encoded data removed]"
     },
     "metadata": {
      "jupyter-vega": "#b9b744ae-95ab-4273-b66d-4158264ad5fe"
     },
     "output_type": "display_data"
    },
    {
     "data": {
      "image/png": "[encoded data removed]"
     },
     "metadata": {
      "jupyter-vega": "#b9b744ae-95ab-4273-b66d-4158264ad5fe"
     },
     "output_type": "display_data"
    },
    {
     "data": {
      "image/png": "[encoded data removed]"
     },
     "metadata": {
      "jupyter-vega": "#b9b744ae-95ab-4273-b66d-4158264ad5fe"
     },
     "output_type": "display_data"
    },
    {
     "data": {
      "image/png": "[encoded data removed]"
     },
     "metadata": {
      "jupyter-vega": "#b9b744ae-95ab-4273-b66d-4158264ad5fe"
     },
     "output_type": "display_data"
    },
    {
     "data": {
      "image/png": "[encoded data removed]"
     },
     "metadata": {
      "jupyter-vega": "#b9b744ae-95ab-4273-b66d-4158264ad5fe"
     },
     "output_type": "display_data"
    }
   ],
   "source": [
    "data = pd.DataFrame({\n",
    "    'a': ['Accuracy','Recall','Precision','ROC AUC'],\n",
    "    'b': [round(XGB_Classifier.score(X_test, y_test),2),\n",
    "          round(recall_score(y_test, XGB_Classifier.predict(X_test)),2), \n",
    "          round(precision_score(y_test, XGB_Classifier.predict(X_test)),2),\n",
    "          round(roc_auc_score(y_test_transformed, XGB_Classifier.predict_proba(X_test),\n",
    "                                average='weighted'),2)]\n",
    "})\n",
    "\n",
    "bars = alt.Chart(data).mark_bar().encode(\n",
    "    alt.X('b',scale=alt.Scale(domain=(0, 1)),axis=alt.Axis(title='')),\n",
    "    alt.Y('a',axis=alt.Axis(title='Metric')),\n",
    ").properties(title='Decision Tree Model: Test set evaluation')\n",
    "\n",
    "text = bars.mark_text(\n",
    "    align='left',\n",
    "    baseline='middle',\n",
    "    dx=3\n",
    ").encode(\n",
    "    text='b'\n",
    ")\n",
    "\n",
    "bars + text"
   ]
  },
  {
   "cell_type": "code",
   "execution_count": null,
   "metadata": {},
   "outputs": [],
   "source": [
    "%matplotlib inline\n",
    "import matplotlib\n",
    "import matplotlib.pyplot as plt\n",
    "\n",
    "fpr = dict()\n",
    "tpr = dict()\n",
    "roc_auc = dict()\n",
    "for i in range(2):\n",
    "    fpr[i], tpr[i], _ = roc_curve(y_test_transformed[:, i], y_score[:, i])\n",
    "    roc_auc[i] = auc(fpr[i], tpr[i])\n",
    "\n",
    "plt.figure()\n",
    "lw = 2\n",
    "\n",
    "plt.plot(fpr[1], tpr[1], color='darkorange',\n",
    "         lw=lw, label='ROC curve (area = %0.2f)' % roc_auc[1])\n",
    "plt.plot([0, 1], [0, 1], color='navy', lw=lw, linestyle='--')\n",
    "plt.xlim([0.0, 1.0])\n",
    "plt.ylim([0.0, 1.05])\n",
    "plt.xlabel('False Positive Rate')\n",
    "plt.ylabel('True Positive Rate')\n",
    "plt.title('Receiver operating characteristic')\n",
    "plt.legend(loc=\"lower right\")\n",
    "plt.show()"
   ]
  },
  {
   "cell_type": "markdown",
   "metadata": {},
   "source": [
    "# LightGBM"
   ]
  },
  {
   "cell_type": "code",
   "execution_count": 301,
   "metadata": {
    "scrolled": true
   },
   "outputs": [
    {
     "name": "stdout",
     "output_type": "stream",
     "text": [
      "Best parameters found by grid search are: {'reg_lambda': 0.6000000000000001, 'reg_alpha': 0.2, 'num_leaves': 44, 'n_estimators': 140, 'max_depth': 30, 'max_bin': 475, 'learning_rate': 0.8}\n",
      "Best score found by grid search are: 0.9284318191054031\n"
     ]
    }
   ],
   "source": [
    "#\n",
    "# Create the LightGBM data containers\n",
    "#\n",
    "categorical_features = [c for c, col in enumerate(X_train_sm.columns) if 'cat' in col]\n",
    "train_data = lightgbm.Dataset(X_train_sm, label=Y_train_sm, categorical_feature=categorical_features)\n",
    "test_data = lightgbm.Dataset(X_test, label=y_test)\n",
    "\n",
    "parameters = {\n",
    "    'application': 'binary',\n",
    "    'objective': 'binary',\n",
    "    'metric': 'auc',\n",
    "    'is_unbalance': 'false',\n",
    "    'boosting': 'gbdt',\n",
    "    'feature_fraction': 0.5,\n",
    "    'bagging_fraction': 0.5,\n",
    "    'bagging_freq': 20,\n",
    "    'learning_rate': 0.05,\n",
    "    'verbose': -1\n",
    "\n",
    "}\n",
    "\n",
    "CV_SSS = StratifiedShuffleSplit(n_splits=5, test_size=0.33, random_state=None)\n",
    "\n",
    "lightgbm_param_grid = {\n",
    "                  'max_depth': np.arange(2, 40, 2),\n",
    "                  'learning_rate': np.arange(0.2, 2, 0.2),\n",
    "                  'n_estimators': np.arange(20, 400, 10),\n",
    "                  'reg_alpha': np.arange(0, 2, 0.2),\n",
    "                  'reg_lambda': np.arange(0, 2, 0.2),\n",
    "                  'max_bin': np.arange(300, 600, 5),\n",
    "                  'num_leaves':np.arange(31,60,1)\n",
    "                 }\n",
    "\n",
    "estimator = lightgbm.LGBMClassifier(application='binary',objective='binary',metric='roc_auc',is_unbalance='false',boosting= 'gbdt')\n",
    "\n",
    "random_grid_GBM_CV = RandomizedSearchCV(estimator,\n",
    "                                        lightgbm_param_grid,\n",
    "                                        scoring = 'roc_auc',\n",
    "                                        cv = CV_SSS,\n",
    "                                        n_iter = 5)\n",
    "\n",
    "random_grid_GBM_CV.fit(X_train_sm, Y_train_sm)\n",
    "\n",
    "print('Best parameters found by random search are:', random_grid_GBM_CV.best_params_)\n",
    "print('Best score found by random search are:', random_grid_GBM_CV.best_score_)"
   ]
  },
  {
   "cell_type": "code",
   "execution_count": 302,
   "metadata": {},
   "outputs": [
    {
     "name": "stdout",
     "output_type": "stream",
     "text": [
      "[255 294  70 187  29 130 266 217 349 561 423 250 598 452 520 770 649]\n",
      "Start predicting...\n"
     ]
    },
    {
     "name": "stderr",
     "output_type": "stream",
     "text": [
      "C:\\Users\\chladek\\AppData\\Local\\Continuum\\anaconda3-64\\envs\\tf\\lib\\site-packages\\sklearn\\preprocessing\\label.py:151: DeprecationWarning: The truth value of an empty array is ambiguous. Returning False, but in future this will result in an error. Use `array.size > 0` to check that an array is not empty.\n",
      "  if diff:\n"
     ]
    }
   ],
   "source": [
    "# specify your configurations as a dict\n",
    "params = {\n",
    "    'application': 'binary',\n",
    "    'objective': 'binary',\n",
    "    'metric': 'recall',\n",
    "    'is_unbalance': 'false',\n",
    "    'boosting': 'gbdt',\n",
    "    'reg_lambda': 0.6,\n",
    "    'reg_alpha': 0.2,\n",
    "    'num_leaves': 44,\n",
    "    'n_estimators': 140,\n",
    "    'max_depth': 30,\n",
    "    'learning_rate': 0.8,\n",
    "    'verbose': -1,\n",
    "    'max_bin': 475\n",
    "}\n",
    "# fit\n",
    "gbm = lightgbm.LGBMClassifier(**params)\n",
    "gbm.fit(X_train_sm, Y_train_sm)\n",
    "\n",
    "print(gbm.feature_importances_)\n",
    "\n",
    "#print('Save model...')\n",
    "# save model to file\n",
    "#gbm.save_model('model.txt')\n",
    "\n",
    "print('Start predicting...')\n",
    "# predict\n",
    "y_pred = gbm.predict(X_test)\n",
    "y_score = gbm.predict_proba(X_test)"
   ]
  },
  {
   "cell_type": "code",
   "execution_count": 303,
   "metadata": {},
   "outputs": [
    {
     "name": "stdout",
     "output_type": "stream",
     "text": [
      "Test Results\n",
      "Accuracy:  0.8151287382056612\n",
      "Recall:  0.5387160820648577\n"
     ]
    },
    {
     "name": "stderr",
     "output_type": "stream",
     "text": [
      "C:\\Users\\chladek\\AppData\\Local\\Continuum\\anaconda3-64\\envs\\tf\\lib\\site-packages\\sklearn\\preprocessing\\label.py:151: DeprecationWarning: The truth value of an empty array is ambiguous. Returning False, but in future this will result in an error. Use `array.size > 0` to check that an array is not empty.\n",
      "  if diff:\n",
      "C:\\Users\\chladek\\AppData\\Local\\Continuum\\anaconda3-64\\envs\\tf\\lib\\site-packages\\sklearn\\preprocessing\\label.py:151: DeprecationWarning: The truth value of an empty array is ambiguous. Returning False, but in future this will result in an error. Use `array.size > 0` to check that an array is not empty.\n",
      "  if diff:\n",
      "C:\\Users\\chladek\\AppData\\Local\\Continuum\\anaconda3-64\\envs\\tf\\lib\\site-packages\\sklearn\\preprocessing\\label.py:151: DeprecationWarning: The truth value of an empty array is ambiguous. Returning False, but in future this will result in an error. Use `array.size > 0` to check that an array is not empty.\n",
      "  if diff:\n"
     ]
    },
    {
     "name": "stdout",
     "output_type": "stream",
     "text": [
      "Precision:  0.6394344069128044\n",
      "ROC AUC:  0.8059729144993513\n"
     ]
    }
   ],
   "source": [
    "print('Test Results')\n",
    "print(\"Accuracy: \",gbm.score(X_test, y_test))\n",
    "print(\"Recall: \",recall_score(y_test, gbm.predict(X_test)))\n",
    "print(\"Precision: \",precision_score(y_test, gbm.predict(X_test)))\n",
    "print(\"ROC AUC: \",roc_auc_score(y_test_transformed, y_score, average='weighted'))"
   ]
  },
  {
   "cell_type": "code",
   "execution_count": 304,
   "metadata": {},
   "outputs": [
    {
     "data": {
      "text/html": [
       "<div>\n",
       "<style scoped>\n",
       "    .dataframe tbody tr th:only-of-type {\n",
       "        vertical-align: middle;\n",
       "    }\n",
       "\n",
       "    .dataframe tbody tr th {\n",
       "        vertical-align: top;\n",
       "    }\n",
       "\n",
       "    .dataframe thead th {\n",
       "        text-align: right;\n",
       "    }\n",
       "</style>\n",
       "<table border=\"1\" class=\"dataframe\">\n",
       "  <thead>\n",
       "    <tr style=\"text-align: right;\">\n",
       "      <th></th>\n",
       "      <th>vars</th>\n",
       "      <th>imp</th>\n",
       "    </tr>\n",
       "  </thead>\n",
       "  <tbody>\n",
       "    <tr>\n",
       "      <th>15</th>\n",
       "      <td>email_last</td>\n",
       "      <td>770</td>\n",
       "    </tr>\n",
       "    <tr>\n",
       "      <th>16</th>\n",
       "      <td>email_mean_diff</td>\n",
       "      <td>649</td>\n",
       "    </tr>\n",
       "    <tr>\n",
       "      <th>12</th>\n",
       "      <td>sess_last</td>\n",
       "      <td>598</td>\n",
       "    </tr>\n",
       "    <tr>\n",
       "      <th>9</th>\n",
       "      <td>view_last</td>\n",
       "      <td>561</td>\n",
       "    </tr>\n",
       "    <tr>\n",
       "      <th>14</th>\n",
       "      <td>email_freq</td>\n",
       "      <td>520</td>\n",
       "    </tr>\n",
       "    <tr>\n",
       "      <th>13</th>\n",
       "      <td>sess_mean_diff</td>\n",
       "      <td>452</td>\n",
       "    </tr>\n",
       "    <tr>\n",
       "      <th>10</th>\n",
       "      <td>view_mean_diff</td>\n",
       "      <td>423</td>\n",
       "    </tr>\n",
       "    <tr>\n",
       "      <th>8</th>\n",
       "      <td>view_freq</td>\n",
       "      <td>349</td>\n",
       "    </tr>\n",
       "    <tr>\n",
       "      <th>1</th>\n",
       "      <td>weekday</td>\n",
       "      <td>294</td>\n",
       "    </tr>\n",
       "    <tr>\n",
       "      <th>6</th>\n",
       "      <td>cart_last</td>\n",
       "      <td>266</td>\n",
       "    </tr>\n",
       "    <tr>\n",
       "      <th>0</th>\n",
       "      <td>hour</td>\n",
       "      <td>255</td>\n",
       "    </tr>\n",
       "    <tr>\n",
       "      <th>11</th>\n",
       "      <td>sess_freq</td>\n",
       "      <td>250</td>\n",
       "    </tr>\n",
       "    <tr>\n",
       "      <th>7</th>\n",
       "      <td>cart_mean_diff</td>\n",
       "      <td>217</td>\n",
       "    </tr>\n",
       "    <tr>\n",
       "      <th>3</th>\n",
       "      <td>prch_last</td>\n",
       "      <td>187</td>\n",
       "    </tr>\n",
       "    <tr>\n",
       "      <th>5</th>\n",
       "      <td>cart_freq</td>\n",
       "      <td>130</td>\n",
       "    </tr>\n",
       "    <tr>\n",
       "      <th>2</th>\n",
       "      <td>prch_freq</td>\n",
       "      <td>70</td>\n",
       "    </tr>\n",
       "    <tr>\n",
       "      <th>4</th>\n",
       "      <td>prch_mean_diff</td>\n",
       "      <td>29</td>\n",
       "    </tr>\n",
       "  </tbody>\n",
       "</table>\n",
       "</div>"
      ],
      "text/plain": [
       "               vars  imp\n",
       "15       email_last  770\n",
       "16  email_mean_diff  649\n",
       "12        sess_last  598\n",
       "9         view_last  561\n",
       "14       email_freq  520\n",
       "13   sess_mean_diff  452\n",
       "10   view_mean_diff  423\n",
       "8         view_freq  349\n",
       "1           weekday  294\n",
       "6         cart_last  266\n",
       "0              hour  255\n",
       "11        sess_freq  250\n",
       "7    cart_mean_diff  217\n",
       "3         prch_last  187\n",
       "5         cart_freq  130\n",
       "2         prch_freq   70\n",
       "4    prch_mean_diff   29"
      ]
     },
     "execution_count": 304,
     "metadata": {},
     "output_type": "execute_result"
    }
   ],
   "source": [
    "var_imp_clf_rf = pd.DataFrame({'vars': X_train_sm.columns,'imp':gbm.feature_importances_})\n",
    "var_imp_clf_rf.sort_values(by='imp',ascending=False)"
   ]
  },
  {
   "cell_type": "code",
   "execution_count": 305,
   "metadata": {},
   "outputs": [
    {
     "name": "stderr",
     "output_type": "stream",
     "text": [
      "C:\\Users\\chladek\\AppData\\Local\\Continuum\\anaconda3-64\\envs\\tf\\lib\\site-packages\\sklearn\\preprocessing\\label.py:151: DeprecationWarning: The truth value of an empty array is ambiguous. Returning False, but in future this will result in an error. Use `array.size > 0` to check that an array is not empty.\n",
      "  if diff:\n",
      "C:\\Users\\chladek\\AppData\\Local\\Continuum\\anaconda3-64\\envs\\tf\\lib\\site-packages\\sklearn\\preprocessing\\label.py:151: DeprecationWarning: The truth value of an empty array is ambiguous. Returning False, but in future this will result in an error. Use `array.size > 0` to check that an array is not empty.\n",
      "  if diff:\n",
      "C:\\Users\\chladek\\AppData\\Local\\Continuum\\anaconda3-64\\envs\\tf\\lib\\site-packages\\sklearn\\preprocessing\\label.py:151: DeprecationWarning: The truth value of an empty array is ambiguous. Returning False, but in future this will result in an error. Use `array.size > 0` to check that an array is not empty.\n",
      "  if diff:\n"
     ]
    },
    {
     "data": {
      "application/javascript": [
       "var spec = {\"config\": {\"view\": {\"width\": 400, \"height\": 300}}, \"layer\": [{\"data\": {\"name\": \"data-14d022fa2caef1e73957dae88b669e4c\"}, \"mark\": \"bar\", \"encoding\": {\"x\": {\"type\": \"quantitative\", \"axis\": {\"title\": \"\"}, \"field\": \"b\", \"scale\": {\"domain\": [0, 1]}}, \"y\": {\"type\": \"nominal\", \"axis\": {\"title\": \"Metric\"}, \"field\": \"a\"}}, \"title\": \"Decision Tree Model: Test set evaluation\"}, {\"data\": {\"name\": \"data-14d022fa2caef1e73957dae88b669e4c\"}, \"mark\": {\"type\": \"text\", \"align\": \"left\", \"baseline\": \"middle\", \"dx\": 3}, \"encoding\": {\"text\": {\"type\": \"quantitative\", \"field\": \"b\"}, \"x\": {\"type\": \"quantitative\", \"axis\": {\"title\": \"\"}, \"field\": \"b\", \"scale\": {\"domain\": [0, 1]}}, \"y\": {\"type\": \"nominal\", \"axis\": {\"title\": \"Metric\"}, \"field\": \"a\"}}, \"title\": \"Decision Tree Model: Test set evaluation\"}], \"$schema\": \"https://vega.github.io/schema/vega-lite/v2.6.0.json\", \"datasets\": {\"data-14d022fa2caef1e73957dae88b669e4c\": [{\"a\": \"Accuracy\", \"b\": 0.82}, {\"a\": \"Recall\", \"b\": 0.54}, {\"a\": \"Precision\", \"b\": 0.64}, {\"a\": \"ROC AUC\", \"b\": 0.81}]}};\n",
       "var opt = {};\n",
       "var type = \"vega-lite\";\n",
       "var id = \"313d40bc-6690-41a5-907d-99a9850226e5\";\n",
       "\n",
       "var output_area = this;\n",
       "\n",
       "require([\"nbextensions/jupyter-vega/index\"], function(vega) {\n",
       "  var target = document.createElement(\"div\");\n",
       "  target.id = id;\n",
       "  target.className = \"vega-embed\";\n",
       "\n",
       "  var style = document.createElement(\"style\");\n",
       "  style.textContent = [\n",
       "    \".vega-embed .error p {\",\n",
       "    \"  color: firebrick;\",\n",
       "    \"  font-size: 14px;\",\n",
       "    \"}\",\n",
       "  ].join(\"\\\\n\");\n",
       "\n",
       "  // element is a jQuery wrapped DOM element inside the output area\n",
       "  // see http://ipython.readthedocs.io/en/stable/api/generated/\\\n",
       "  // IPython.display.html#IPython.display.Javascript.__init__\n",
       "  element[0].appendChild(target);\n",
       "  element[0].appendChild(style);\n",
       "\n",
       "  vega.render(\"#\" + id, spec, type, opt, output_area);\n",
       "}, function (err) {\n",
       "  if (err.requireType !== \"scripterror\") {\n",
       "    throw(err);\n",
       "  }\n",
       "});\n"
      ],
      "text/plain": [
       "<vega.vegalite.VegaLite at 0x19ff3710>"
      ]
     },
     "metadata": {
      "jupyter-vega": "#313d40bc-6690-41a5-907d-99a9850226e5"
     },
     "output_type": "display_data"
    },
    {
     "data": {
      "text/plain": []
     },
     "execution_count": 305,
     "metadata": {},
     "output_type": "execute_result"
    },
    {
     "data": {
      "image/png": "[encoded data removed]"
     },
     "metadata": {
      "jupyter-vega": "#313d40bc-6690-41a5-907d-99a9850226e5"
     },
     "output_type": "display_data"
    },
    {
     "data": {
      "image/png": "[encoded data removed]"
     },
     "metadata": {
      "jupyter-vega": "#313d40bc-6690-41a5-907d-99a9850226e5"
     },
     "output_type": "display_data"
    },
    {
     "data": {
      "image/png": "[encoded data removed]"
     },
     "metadata": {
      "jupyter-vega": "#313d40bc-6690-41a5-907d-99a9850226e5"
     },
     "output_type": "display_data"
    },
    {
     "data": {
      "image/png": "[encoded data removed]"
     },
     "metadata": {
      "jupyter-vega": "#313d40bc-6690-41a5-907d-99a9850226e5"
     },
     "output_type": "display_data"
    },
    {
     "data": {
      "image/png": "[encoded data removed]"
     },
     "metadata": {
      "jupyter-vega": "#313d40bc-6690-41a5-907d-99a9850226e5"
     },
     "output_type": "display_data"
    }
   ],
   "source": [
    "data = pd.DataFrame({\n",
    "    'a': ['Accuracy','Recall','Precision','ROC AUC'],\n",
    "    'b': [round(gbm.score(X_test, y_test),2),\n",
    "          round(recall_score(y_test, gbm.predict(X_test)),2), \n",
    "          round(precision_score(y_test, gbm.predict(X_test)),2),\n",
    "          round(roc_auc_score(y_test_transformed, gbm.predict_proba(X_test),\n",
    "                                average='weighted'),2)]\n",
    "})\n",
    "\n",
    "bars = alt.Chart(data).mark_bar().encode(\n",
    "    alt.X('b',scale=alt.Scale(domain=(0, 1)),axis=alt.Axis(title='')),\n",
    "    alt.Y('a',axis=alt.Axis(title='Metric')),\n",
    ").properties(title='Decision Tree Model: Test set evaluation')\n",
    "\n",
    "text = bars.mark_text(\n",
    "    align='left',\n",
    "    baseline='middle',\n",
    "    dx=3\n",
    ").encode(\n",
    "    text='b'\n",
    ")\n",
    "\n",
    "bars + text"
   ]
  }
 ],
 "metadata": {
  "kernelspec": {
   "display_name": "Python [conda env:tf]",
   "language": "python",
   "name": "conda-env-tf-py"
  },
  "language_info": {
   "codemirror_mode": {
    "name": "ipython",
    "version": 3
   },
   "file_extension": ".py",
   "mimetype": "text/x-python",
   "name": "python",
   "nbconvert_exporter": "python",
   "pygments_lexer": "ipython3",
   "version": "3.6.6"
  }
 },
 "nbformat": 4,
 "nbformat_minor": 2
}
