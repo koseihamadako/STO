{
 "cells": [
  {
   "cell_type": "markdown",
   "metadata": {},
   "source": [
    "# Time regression"
   ]
  },
  {
   "cell_type": "markdown",
   "metadata": {},
   "source": [
    "### <i>This notebook was only an attempt to define the problem as an regression but along the way I realized that predicting probability in binary classification task will give us more flexibility (eg easier to use multiple ranked recs, incorporate more domain knowledge etc)</i>"
   ]
  },
  {
   "cell_type": "markdown",
   "metadata": {},
   "source": [
    "#### <i>Nothing from below is reported in Report.ipynb but I decided to leave it here since quite a lot of time was spend considering if this approach makes sense</i>"
   ]
  },
  {
   "cell_type": "code",
   "execution_count": 301,
   "metadata": {},
   "outputs": [],
   "source": [
    "from sklearn.ensemble import RandomForestClassifier, RandomForestRegressor\n",
    "from sklearn.tree import DecisionTreeClassifier\n",
    "from sklearn.model_selection import train_test_split\n",
    "from sklearn.metrics import recall_score, roc_auc_score, mean_squared_error\n",
    "from imblearn.over_sampling import SMOTE\n",
    "import pandas as pd\n",
    "import numpy as np\n",
    "import datetime\n",
    "rnd = 12"
   ]
  },
  {
   "cell_type": "code",
   "execution_count": 326,
   "metadata": {},
   "outputs": [],
   "source": [
    "#df = pd.read_csv('df_fin.csv')\n",
    "df = pd.read_excel('df_fin1.xlsx')"
   ]
  },
  {
   "cell_type": "code",
   "execution_count": 327,
   "metadata": {},
   "outputs": [],
   "source": [
    "# I will use only most useful created features from previous model\n",
    "# and so only email related features will be included\n",
    "# Complete datatset could be created using same techniques as below combined with \n",
    "# data prep pipeline from Binary regression"
   ]
  },
  {
   "cell_type": "code",
   "execution_count": 328,
   "metadata": {},
   "outputs": [],
   "source": [
    "#model_vars = ['customer_id','date','hour','weekday',\n",
    "#              'prch_freq','prch_last','prch_mean_diff',\n",
    "#              'cart_freq','cart_last','cart_mean_diff',\n",
    "#              'view_freq','view_last','view_mean_diff',\n",
    "#              'sess_freq','sess_last','sess_mean_diff',\n",
    "#              'email_freq','email_last','email_mean_diff']\n",
    "\n",
    "model_vars = ['customer_id','date','hour','weekday',\n",
    "              'email_freq','email_last','email_mean_diff']\n",
    "model_df = df[model_vars]\n",
    "Y = df.response\n",
    "model_df = model_df[Y==1] "
   ]
  },
  {
   "cell_type": "code",
   "execution_count": 329,
   "metadata": {},
   "outputs": [
    {
     "data": {
      "text/plain": [
       "[Timestamp('2018-03-17 08:03:12.581000'),\n",
       " Timestamp('2018-05-15 15:01:16.181000')]"
      ]
     },
     "execution_count": 329,
     "metadata": {},
     "output_type": "execute_result"
    }
   ],
   "source": [
    "[model_df.date.min(),model_df.date.max()]"
   ]
  },
  {
   "cell_type": "code",
   "execution_count": 330,
   "metadata": {},
   "outputs": [],
   "source": [
    "# Find range of possible values and sample from it\n",
    "rng = int(abs(model_df.date.min() - model_df.date.max()).total_seconds())\n",
    "mn = model_df.date.min()"
   ]
  },
  {
   "cell_type": "code",
   "execution_count": 331,
   "metadata": {},
   "outputs": [],
   "source": [
    "# if any event occured inbetween it is involuntarilky excluded"
   ]
  },
  {
   "cell_type": "code",
   "execution_count": 332,
   "metadata": {
    "scrolled": true
   },
   "outputs": [
    {
     "name": "stderr",
     "output_type": "stream",
     "text": [
      "C:\\Users\\chladek\\AppData\\Local\\Continuum\\anaconda3-64\\envs\\tf\\lib\\site-packages\\ipykernel\\__main__.py:11: SettingWithCopyWarning: \n",
      "A value is trying to be set on a copy of a slice from a DataFrame\n",
      "\n",
      "See the caveats in the documentation: http://pandas.pydata.org/pandas-docs/stable/indexing.html#indexing-view-versus-copy\n",
      "C:\\Users\\chladek\\AppData\\Local\\Continuum\\anaconda3-64\\envs\\tf\\lib\\site-packages\\ipykernel\\__main__.py:12: SettingWithCopyWarning: \n",
      "A value is trying to be set on a copy of a slice from a DataFrame\n",
      "\n",
      "See the caveats in the documentation: http://pandas.pydata.org/pandas-docs/stable/indexing.html#indexing-view-versus-copy\n",
      "C:\\Users\\chladek\\AppData\\Local\\Continuum\\anaconda3-64\\envs\\tf\\lib\\site-packages\\pandas\\core\\generic.py:4405: SettingWithCopyWarning: \n",
      "A value is trying to be set on a copy of a slice from a DataFrame.\n",
      "Try using .loc[row_indexer,col_indexer] = value instead\n",
      "\n",
      "See the caveats in the documentation: http://pandas.pydata.org/pandas-docs/stable/indexing.html#indexing-view-versus-copy\n",
      "  self[name] = value\n",
      "C:\\Users\\chladek\\AppData\\Local\\Continuum\\anaconda3-64\\envs\\tf\\lib\\site-packages\\ipykernel\\__main__.py:19: SettingWithCopyWarning: \n",
      "A value is trying to be set on a copy of a slice from a DataFrame.\n",
      "Try using .loc[row_indexer,col_indexer] = value instead\n",
      "\n",
      "See the caveats in the documentation: http://pandas.pydata.org/pandas-docs/stable/indexing.html#indexing-view-versus-copy\n",
      "C:\\Users\\chladek\\AppData\\Local\\Continuum\\anaconda3-64\\envs\\tf\\lib\\site-packages\\pandas\\core\\frame.py:6211: FutureWarning: Sorting because non-concatenation axis is not aligned. A future version\n",
      "of pandas will change to not sort by default.\n",
      "\n",
      "To accept the future behavior, pass 'sort=False'.\n",
      "\n",
      "To retain the current behavior and silence the warning, pass 'sort=True'.\n",
      "\n",
      "  sort=sort)\n"
     ]
    }
   ],
   "source": [
    "df = pd.DataFrame(columns=model_df.columns)\n",
    "\n",
    "for x in range(200):\n",
    "    # transform observation to timestamp\n",
    "    i = int(np.random.uniform(0,rng))\n",
    "    stamp = mn + datetime.timedelta(seconds=i)\n",
    "\n",
    "    # create relevant subset of positive reponses\n",
    "    # ie y=0 & is in the future for each customer\n",
    "    temp_df = model_df[model_df.date > stamp]\n",
    "    temp_df.sort_values(by='date',inplace=True)\n",
    "    temp_df.drop_duplicates(subset='customer_id',inplace=True)\n",
    "\n",
    "    diff = (temp_df.date - stamp).dt.seconds.fillna(0).div(60)\n",
    "    temp_df.hour = stamp.hour\n",
    "    temp_df.weekday = stamp.dayofweek + 1\n",
    "    temp_df.email_last = model_df.email_last - diff\n",
    "    # response in hours\n",
    "    temp_df['cresponse'] = diff.div(60)\n",
    "\n",
    "    df = df.append(temp_df[temp_df.email_last>=0])\n",
    "df = pd.DataFrame(df)"
   ]
  },
  {
   "cell_type": "code",
   "execution_count": 340,
   "metadata": {},
   "outputs": [],
   "source": [
    "#for col in ['weekday']:\n",
    "#    dummies = pd.get_dummies(df[col], prefix=col)\n",
    "#    to_del = pd.get_dummies(df[col], prefix=col).columns[0]\n",
    "#    dummies.drop(labels=to_del, axis=1, inplace=True)\n",
    "#    df = pd.concat([df,dummies],axis=1)\n",
    "#    df.drop([col],axis=1, inplace=True)\n",
    "\n",
    "X = df.drop(['cresponse','customer_id','date'],1)\n",
    "Y = df.cresponse.astype(int)"
   ]
  },
  {
   "cell_type": "code",
   "execution_count": 342,
   "metadata": {},
   "outputs": [
    {
     "name": "stdout",
     "output_type": "stream",
     "text": [
      "(65000, 5) (65000,)\n",
      "(7223, 5) (7223,)\n"
     ]
    }
   ],
   "source": [
    "X_train, X_test, y_train, y_test = train_test_split(X, Y, test_size=0.1, random_state=rnd)\n",
    "y_train = np.ravel(y_train)\n",
    "y_test = np.ravel(y_test)\n",
    "y_test_transformed = np.hstack((1 - y_test.reshape(y_test.size,1),\n",
    "                                y_test.reshape(y_test.size,1)))\n",
    "\n",
    "print(X_train.shape, y_train.shape)\n",
    "print(X_test.shape, y_test.shape)"
   ]
  },
  {
   "cell_type": "code",
   "execution_count": 343,
   "metadata": {},
   "outputs": [
    {
     "data": {
      "text/plain": [
       "7     5075\n",
       "6     4868\n",
       "3     4514\n",
       "8     4424\n",
       "15    4296\n",
       "11    4141\n",
       "5     3975\n",
       "2     3929\n",
       "13    3788\n",
       "16    3305\n",
       "10    3218\n",
       "4     3022\n",
       "12    3013\n",
       "9     2511\n",
       "14    2502\n",
       "18    2454\n",
       "17    2260\n",
       "0     2243\n",
       "1     2158\n",
       "19    2048\n",
       "21    1628\n",
       "22    1226\n",
       "20    1173\n",
       "23     452\n",
       "Name: cresponse, dtype: int64"
      ]
     },
     "execution_count": 343,
     "metadata": {},
     "output_type": "execute_result"
    }
   ],
   "source": [
    "Y.value_counts()"
   ]
  },
  {
   "cell_type": "markdown",
   "metadata": {},
   "source": [
    "# Classes"
   ]
  },
  {
   "cell_type": "code",
   "execution_count": 344,
   "metadata": {},
   "outputs": [
    {
     "name": "stderr",
     "output_type": "stream",
     "text": [
      "[Parallel(n_jobs=1)]: Done 300 out of 300 | elapsed:   58.3s finished\n"
     ]
    },
    {
     "data": {
      "text/plain": [
       "RandomForestClassifier(bootstrap=True, class_weight=None, criterion='gini',\n",
       "            max_depth=None, max_features='auto', max_leaf_nodes=None,\n",
       "            min_impurity_decrease=0.0, min_impurity_split=None,\n",
       "            min_samples_leaf=1, min_samples_split=2,\n",
       "            min_weight_fraction_leaf=0.0, n_estimators=300, n_jobs=1,\n",
       "            oob_score=False, random_state=12, verbose=1, warm_start=False)"
      ]
     },
     "execution_count": 344,
     "metadata": {},
     "output_type": "execute_result"
    }
   ],
   "source": [
    "# quick RF model baseline\n",
    "clf_rf = RandomForestClassifier(n_estimators=300, random_state=rnd,verbose=1)\n",
    "clf_rf.fit(X_train, y_train)"
   ]
  },
  {
   "cell_type": "markdown",
   "metadata": {},
   "source": [
    "# Regression"
   ]
  },
  {
   "cell_type": "code",
   "execution_count": 299,
   "metadata": {},
   "outputs": [
    {
     "name": "stderr",
     "output_type": "stream",
     "text": [
      "[Parallel(n_jobs=1)]: Done 300 out of 300 | elapsed:  1.4min finished\n"
     ]
    },
    {
     "data": {
      "text/plain": [
       "RandomForestRegressor(bootstrap=True, criterion='mse', max_depth=None,\n",
       "           max_features='auto', max_leaf_nodes=None,\n",
       "           min_impurity_decrease=0.0, min_impurity_split=None,\n",
       "           min_samples_leaf=1, min_samples_split=2,\n",
       "           min_weight_fraction_leaf=0.0, n_estimators=300, n_jobs=1,\n",
       "           oob_score=False, random_state=12, verbose=1, warm_start=False)"
      ]
     },
     "execution_count": 299,
     "metadata": {},
     "output_type": "execute_result"
    }
   ],
   "source": [
    "# quick RF model baseline\n",
    "rgr_rf = RandomForestRegressor(n_estimators=300, random_state=rnd,verbose=1)\n",
    "rgr_rf.fit(X_train, y_train)"
   ]
  },
  {
   "cell_type": "code",
   "execution_count": 325,
   "metadata": {},
   "outputs": [
    {
     "data": {
      "text/plain": [
       "0.0005555555555555556"
      ]
     },
     "execution_count": 325,
     "metadata": {},
     "output_type": "execute_result"
    }
   ],
   "source": [
    "Y.min()"
   ]
  },
  {
   "cell_type": "code",
   "execution_count": 320,
   "metadata": {},
   "outputs": [
    {
     "name": "stdout",
     "output_type": "stream",
     "text": [
      "Test Results\n",
      "MSE:  3.256871210934655\n"
     ]
    },
    {
     "name": "stderr",
     "output_type": "stream",
     "text": [
      "[Parallel(n_jobs=1)]: Done 300 out of 300 | elapsed:    1.1s finished\n"
     ]
    }
   ],
   "source": [
    "print('Test Results')\n",
    "print(\"MSE: \",mean_squared_error(y_test,rgr_rf.predict(X_test)))"
   ]
  },
  {
   "cell_type": "code",
   "execution_count": 300,
   "metadata": {},
   "outputs": [
    {
     "data": {
      "text/html": [
       "<div>\n",
       "<style scoped>\n",
       "    .dataframe tbody tr th:only-of-type {\n",
       "        vertical-align: middle;\n",
       "    }\n",
       "\n",
       "    .dataframe tbody tr th {\n",
       "        vertical-align: top;\n",
       "    }\n",
       "\n",
       "    .dataframe thead th {\n",
       "        text-align: right;\n",
       "    }\n",
       "</style>\n",
       "<table border=\"1\" class=\"dataframe\">\n",
       "  <thead>\n",
       "    <tr style=\"text-align: right;\">\n",
       "      <th></th>\n",
       "      <th>vars</th>\n",
       "      <th>imp</th>\n",
       "    </tr>\n",
       "  </thead>\n",
       "  <tbody>\n",
       "    <tr>\n",
       "      <th>3</th>\n",
       "      <td>hour</td>\n",
       "      <td>0.810519</td>\n",
       "    </tr>\n",
       "    <tr>\n",
       "      <th>1</th>\n",
       "      <td>email_last</td>\n",
       "      <td>0.141308</td>\n",
       "    </tr>\n",
       "    <tr>\n",
       "      <th>2</th>\n",
       "      <td>email_mean_diff</td>\n",
       "      <td>0.030434</td>\n",
       "    </tr>\n",
       "    <tr>\n",
       "      <th>0</th>\n",
       "      <td>email_freq</td>\n",
       "      <td>0.010584</td>\n",
       "    </tr>\n",
       "    <tr>\n",
       "      <th>4</th>\n",
       "      <td>weekday</td>\n",
       "      <td>0.007155</td>\n",
       "    </tr>\n",
       "  </tbody>\n",
       "</table>\n",
       "</div>"
      ],
      "text/plain": [
       "              vars       imp\n",
       "3             hour  0.810519\n",
       "1       email_last  0.141308\n",
       "2  email_mean_diff  0.030434\n",
       "0       email_freq  0.010584\n",
       "4          weekday  0.007155"
      ]
     },
     "execution_count": 300,
     "metadata": {},
     "output_type": "execute_result"
    }
   ],
   "source": [
    "var_imp_rgr_rf = pd.DataFrame({'vars': X_train.columns,'imp':rgr_rf.feature_importances_})\n",
    "var_imp_rgr_rf.sort_values(by='imp',ascending=False)"
   ]
  }
 ],
 "metadata": {
  "kernelspec": {
   "display_name": "Python [conda env:tf]",
   "language": "python",
   "name": "conda-env-tf-py"
  },
  "language_info": {
   "codemirror_mode": {
    "name": "ipython",
    "version": 3
   },
   "file_extension": ".py",
   "mimetype": "text/x-python",
   "name": "python",
   "nbconvert_exporter": "python",
   "pygments_lexer": "ipython3",
   "version": "3.6.6"
  }
 },
 "nbformat": 4,
 "nbformat_minor": 2
}
